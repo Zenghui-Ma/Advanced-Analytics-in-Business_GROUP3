{
 "cells": [
  {
   "cell_type": "code",
   "execution_count": 1,
   "metadata": {},
   "outputs": [],
   "source": [
    "import threading\n",
    "\n",
    "# Helper thread to avoid the Spark StreamingContext from blocking Jupyter\n",
    "        \n",
    "class StreamingThread(threading.Thread):\n",
    "    def __init__(self, ssc):\n",
    "        super().__init__()\n",
    "        self.ssc = ssc\n",
    "    def run(self):\n",
    "        self.ssc.start()\n",
    "        self.ssc.awaitTermination()\n",
    "    def stop(self):\n",
    "        print('----- Stopping... this may take a few seconds -----')\n",
    "        self.ssc.stop(stopSparkContext=False, stopGraceFully=True)"
   ]
  },
  {
   "cell_type": "code",
   "execution_count": 2,
   "metadata": {
    "scrolled": true
   },
   "outputs": [
    {
     "data": {
      "text/html": [
       "\n",
       "        <div>\n",
       "            <p><b>SparkContext</b></p>\n",
       "\n",
       "            <p><a href=\"http://10.46.188.41:4043\">Spark UI</a></p>\n",
       "\n",
       "            <dl>\n",
       "              <dt>Version</dt>\n",
       "                <dd><code>v3.5.1</code></dd>\n",
       "              <dt>Master</dt>\n",
       "                <dd><code>local[2]</code></dd>\n",
       "              <dt>AppName</dt>\n",
       "                <dd><code>PySparkShell</code></dd>\n",
       "            </dl>\n",
       "        </div>\n",
       "        "
      ],
      "text/plain": [
       "<SparkContext master=local[2] appName=PySparkShell>"
      ]
     },
     "execution_count": 2,
     "metadata": {},
     "output_type": "execute_result"
    }
   ],
   "source": [
    "sc"
   ]
  },
  {
   "cell_type": "code",
   "execution_count": 3,
   "metadata": {},
   "outputs": [
    {
     "data": {
      "text/html": [
       "\n",
       "            <div>\n",
       "                <p><b>SparkSession - hive</b></p>\n",
       "                \n",
       "        <div>\n",
       "            <p><b>SparkContext</b></p>\n",
       "\n",
       "            <p><a href=\"http://10.46.188.41:4043\">Spark UI</a></p>\n",
       "\n",
       "            <dl>\n",
       "              <dt>Version</dt>\n",
       "                <dd><code>v3.5.1</code></dd>\n",
       "              <dt>Master</dt>\n",
       "                <dd><code>local[2]</code></dd>\n",
       "              <dt>AppName</dt>\n",
       "                <dd><code>PySparkShell</code></dd>\n",
       "            </dl>\n",
       "        </div>\n",
       "        \n",
       "            </div>\n",
       "        "
      ],
      "text/plain": [
       "<pyspark.sql.session.SparkSession at 0x107e1f710>"
      ]
     },
     "execution_count": 3,
     "metadata": {},
     "output_type": "execute_result"
    }
   ],
   "source": [
    "spark"
   ]
  },
  {
   "cell_type": "code",
   "execution_count": 4,
   "metadata": {},
   "outputs": [],
   "source": [
    "from pyspark.sql import SparkSession\n",
    "from pyspark.sql.functions import col, udf, length\n",
    "from pyspark.ml import PipelineModel\n",
    "from pyspark.streaming import StreamingContext\n",
    "from pyspark.ml.feature import Tokenizer, StopWordsRemover, HashingTF, IDF, StringIndexer\n",
    "from pyspark.sql.types import StructType, StructField, StringType, BooleanType, LongType, DoubleType\n",
    "from pyspark.ml import Pipeline\n",
    "from pyspark.ml.classification import GBTClassifier, GBTClassificationModel\n",
    "from pyspark.ml.evaluation import BinaryClassificationEvaluator"
   ]
  },
  {
   "cell_type": "code",
   "execution_count": 5,
   "metadata": {},
   "outputs": [
    {
     "name": "stderr",
     "output_type": "stream",
     "text": [
      "24/05/25 20:20:42 WARN SparkSession: Using an existing Spark session; only runtime SQL configurations will take effect.\n"
     ]
    }
   ],
   "source": [
    "# Initialize the SparkSession\n",
    "spark = SparkSession.builder \\\n",
    "    .appName(\"FrontpagePrediction\") \\\n",
    "    .config(\"spark.executor.memory\", \"2g\") \\\n",
    "    .config(\"spark.driver.memory\", \"2g\") \\\n",
    "    .config(\"spark.executor.cores\", \"2\") \\\n",
    "    .config(\"spark.driver.cores\", \"2\") \\\n",
    "    .getOrCreate()\n",
    "\n",
    "\n",
    "# Define the data schema from the json\n",
    "schema = StructType([\n",
    "    StructField(\"aid\", StringType(), True),\n",
    "    StructField(\"title\", StringType(), True),\n",
    "    StructField(\"url\", StringType(), True),\n",
    "    StructField(\"domain\", StringType(), True),\n",
    "    StructField(\"votes\", LongType(), True),\n",
    "    StructField(\"user\", StringType(), True),\n",
    "    StructField(\"posted_at\", StringType(), True),\n",
    "    StructField(\"comments\", LongType(), True),\n",
    "    StructField(\"source_title\", StringType(), True),\n",
    "    StructField(\"source_text\", StringType(), True),\n",
    "    StructField(\"frontpage\", BooleanType(), True)\n",
    "])\n",
    "\n",
    "# Define a function to convert correct probability\n",
    "def get_prediction(probability):\n",
    "    return 0.0 if probability[1] <= 0.5 else 1.0\n",
    "\n",
    "get_prediction_udf = udf(get_prediction, DoubleType())\n",
    "\n",
    "# Define main process function\n",
    "def process(time, rdd):\n",
    "    if rdd.isEmpty():\n",
    "        return\n",
    "    \n",
    "    print(\"========= %s =========\" % str(time))\n",
    "    \n",
    "    # Convert rdd into data frame with specific schema\n",
    "    df = spark.read.schema(schema).json(rdd)\n",
    "    df.show(n=20)  # display the data we are capturing\n",
    "    \n",
    "    # Convert frontpage from boolean to string\n",
    "    df = df.withColumn(\"frontpage\", col(\"frontpage\").cast(\"string\"))\n",
    "    # Add a new feature 'text_length'\n",
    "    df = df.withColumn(\"text_length\", length(col(\"source_text\")))\n",
    "    \n",
    "    # Load the saved pipeline\n",
    "    pipeline_model = PipelineModel.load(\"/Users/xiaodi/anaconda3/spark/notebooks/saved_pipeline\")\n",
    "    \n",
    "    # Employ pipeline to convert and extract features\n",
    "    df_transformed = pipeline_model.transform(df)\n",
    "    \n",
    "    # Load the saved GBT model\n",
    "    if not globals().get('models_loaded', False):\n",
    "        globals()['my_model'] = GBTClassificationModel.load(\"/Users/xiaodi/anaconda3/spark/notebooks/saved_gbt_model\")\n",
    "        globals()['models_loaded'] = True\n",
    "    \n",
    "    # Make predictions\n",
    "    df_result = globals()['my_model'].transform(df_transformed)\n",
    "    \n",
    "    # Convert result into correct prediction\n",
    "    df_result = df_result.withColumn(\"corrected_prediction\", get_prediction_udf(col(\"probability\")))\n",
    "    \n",
    "    # Display the first 20 lines\n",
    "    df_result.show(n=20)\n",
    "    \n",
    "    \n",
    "    # Save the results to csv file\n",
    "    df_result.select(\"aid\", \"title\", \"url\", \"domain\", \"votes\", \"user\", \"posted_at\", \n",
    "                     \"comments\", \"frontpage\", \n",
    "                     \"corrected_prediction\") \\\n",
    "             .write.mode(\"append\").option(\"header\", \"true\").csv(\"/Users/xiaodi/anaconda3/spark/notebooks/predictions\")\n",
    "\n",
    "\n"
   ]
  },
  {
   "cell_type": "code",
   "execution_count": 6,
   "metadata": {},
   "outputs": [
    {
     "name": "stderr",
     "output_type": "stream",
     "text": [
      "/Users/xiaodi/anaconda3/spark/spark-3.5.1-bin-hadoop3/python/pyspark/streaming/context.py:72: FutureWarning: DStream is deprecated as of Spark 3.4.0. Migrate to Structured Streaming.\n",
      "  warnings.warn(\n"
     ]
    }
   ],
   "source": [
    "ssc = StreamingContext(sc, 10)"
   ]
  },
  {
   "cell_type": "code",
   "execution_count": 7,
   "metadata": {
    "scrolled": true
   },
   "outputs": [],
   "source": [
    "lines = ssc.socketTextStream(\"seppe.net\", 7778)\n",
    "lines.foreachRDD(process)"
   ]
  },
  {
   "cell_type": "code",
   "execution_count": 8,
   "metadata": {
    "scrolled": false
   },
   "outputs": [
    {
     "name": "stderr",
     "output_type": "stream",
     "text": [
      "24/05/25 20:20:49 WARN RandomBlockReplicationPolicy: Expecting 1 replicas with only 0 peer/s.\n",
      "24/05/25 20:20:49 WARN BlockManager: Block input-0-1716661249000 replicated to only 0 peer(s) instead of 1 peers\n",
      "                                                                                \r"
     ]
    },
    {
     "name": "stdout",
     "output_type": "stream",
     "text": [
      "========= 2024-05-25 20:20:50 =========\n"
     ]
    },
    {
     "name": "stderr",
     "output_type": "stream",
     "text": [
      "                                                                                \r"
     ]
    },
    {
     "name": "stdout",
     "output_type": "stream",
     "text": [
      "+--------+--------------------+--------------------+---------------+-----+------+-------------------+--------+--------------------+--------------------+---------+\n",
      "|     aid|               title|                 url|         domain|votes|  user|          posted_at|comments|        source_title|         source_text|frontpage|\n",
      "+--------+--------------------+--------------------+---------------+-----+------+-------------------+--------+--------------------+--------------------+---------+\n",
      "|40473012|MPs urge under-16...|https://www.thegu...|theguardian.com|    3|kieloo|2024-05-25 06:23:19|       0|MPs urge under-16...|MPs urge under-16...|    false|\n",
      "+--------+--------------------+--------------------+---------------+-----+------+-------------------+--------+--------------------+--------------------+---------+\n",
      "\n"
     ]
    },
    {
     "name": "stderr",
     "output_type": "stream",
     "text": [
      "24/05/25 20:20:53 WARN RandomBlockReplicationPolicy: Expecting 1 replicas with only 0 peer/s.\n",
      "24/05/25 20:20:53 WARN BlockManager: Block input-0-1716661253200 replicated to only 0 peer(s) instead of 1 peers\n",
      "24/05/25 20:20:56 WARN DAGScheduler: Broadcasting large task binary with size 1407.9 KiB\n",
      "24/05/25 20:20:57 WARN InstanceBuilder: Failed to load implementation from:dev.ludovic.netlib.blas.JNIBLAS\n",
      "24/05/25 20:20:57 WARN RandomBlockReplicationPolicy: Expecting 1 replicas with only 0 peer/s.\n",
      "24/05/25 20:20:57 WARN BlockManager: Block input-0-1716661257200 replicated to only 0 peer(s) instead of 1 peers\n",
      "                                                                                \r"
     ]
    },
    {
     "name": "stdout",
     "output_type": "stream",
     "text": [
      "+--------+--------------------+--------------------+---------------+-----+------+-------------------+--------+--------------------+--------------------+---------+-----------+--------------------+--------------------+--------------------+--------------------+------------+----------------+--------------------+-----+--------------------+--------------------+----------+--------------------+\n",
      "|     aid|               title|                 url|         domain|votes|  user|          posted_at|comments|        source_title|         source_text|frontpage|text_length|               words|      filtered_words|         tf_features|      tfidf_features|domain_index|      domain_vec|            features|label|       rawPrediction|         probability|prediction|corrected_prediction|\n",
      "+--------+--------------------+--------------------+---------------+-----+------+-------------------+--------+--------------------+--------------------+---------+-----------+--------------------+--------------------+--------------------+--------------------+------------+----------------+--------------------+-----+--------------------+--------------------+----------+--------------------+\n",
      "|40473012|MPs urge under-16...|https://www.thegu...|theguardian.com|    3|kieloo|2024-05-25 06:23:19|       0|MPs urge under-16...|MPs urge under-16...|    false|       7876|[mps, urge, under...|[mps, urge, under...|(10000,[28,78,157...|(10000,[28,78,157...|         3.0|(2119,[3],[1.0])|(12122,[28,78,157...|  0.0|[-0.3652519378006...|[0.32508416512601...|       1.0|                 0.0|\n",
      "+--------+--------------------+--------------------+---------------+-----+------+-------------------+--------+--------------------+--------------------+---------+-----------+--------------------+--------------------+--------------------+--------------------+------------+----------------+--------------------+-----+--------------------+--------------------+----------+--------------------+\n",
      "\n"
     ]
    },
    {
     "name": "stderr",
     "output_type": "stream",
     "text": [
      "24/05/25 20:20:57 WARN DAGScheduler: Broadcasting large task binary with size 1407.4 KiB\n",
      "                                                                                \r"
     ]
    },
    {
     "name": "stdout",
     "output_type": "stream",
     "text": [
      "========= 2024-05-25 20:21:00 =========\n",
      "+--------+---------------+--------------------+---------------+-----+--------------+-------------------+--------+---------------+--------------------+---------+\n",
      "|     aid|          title|                 url|         domain|votes|          user|          posted_at|comments|   source_title|         source_text|frontpage|\n",
      "+--------+---------------+--------------------+---------------+-----+--------------+-------------------+--------+---------------+--------------------+---------+\n",
      "|40473014|Angle of Repose|https://en.wikipe...|  wikipedia.org|    2|         Hooke|2024-05-25 06:23:56|       0|Angle of repose|Angle of repose -...|    false|\n",
      "|40473053|  Endless Tools|https://endlessto...|endlesstools.io|    3|handfuloflight|2024-05-25 06:32:47|       0|  Endless Tools|Endless Tools\\n\\n...|    false|\n",
      "+--------+---------------+--------------------+---------------+-----+--------------+-------------------+--------+---------------+--------------------+---------+\n",
      "\n"
     ]
    },
    {
     "name": "stderr",
     "output_type": "stream",
     "text": [
      "24/05/25 20:21:01 WARN RandomBlockReplicationPolicy: Expecting 1 replicas with only 0 peer/s.\n",
      "24/05/25 20:21:01 WARN BlockManager: Block input-0-1716661261200 replicated to only 0 peer(s) instead of 1 peers\n",
      "24/05/25 20:21:01 WARN DAGScheduler: Broadcasting large task binary with size 1407.9 KiB\n",
      "24/05/25 20:21:01 WARN DAGScheduler: Broadcasting large task binary with size 1407.9 KiB\n"
     ]
    },
    {
     "name": "stdout",
     "output_type": "stream",
     "text": [
      "+--------+---------------+--------------------+---------------+-----+--------------+-------------------+--------+---------------+--------------------+---------+-----------+--------------------+--------------------+--------------------+--------------------+------------+----------------+--------------------+-----+--------------------+--------------------+----------+--------------------+\n",
      "|     aid|          title|                 url|         domain|votes|          user|          posted_at|comments|   source_title|         source_text|frontpage|text_length|               words|      filtered_words|         tf_features|      tfidf_features|domain_index|      domain_vec|            features|label|       rawPrediction|         probability|prediction|corrected_prediction|\n",
      "+--------+---------------+--------------------+---------------+-----+--------------+-------------------+--------+---------------+--------------------+---------+-----------+--------------------+--------------------+--------------------+--------------------+------------+----------------+--------------------+-----+--------------------+--------------------+----------+--------------------+\n",
      "|40473014|Angle of Repose|https://en.wikipe...|  wikipedia.org|    2|         Hooke|2024-05-25 06:23:56|       0|Angle of repose|Angle of repose -...|    false|      16068|[angle, of, repos...|[angle, repose, -...|(10000,[1,14,26,3...|(10000,[1,14,26,3...|         4.0|(2119,[4],[1.0])|(12122,[1,14,26,3...|  0.0|[1.51626740098796...|[0.95402248650278...|       0.0|                 1.0|\n",
      "|40473053|  Endless Tools|https://endlessto...|endlesstools.io|    3|handfuloflight|2024-05-25 06:32:47|       0|  Endless Tools|Endless Tools\\n\\n...|    false|       1727|[endless, tools, ...|[endless, tools, ...|(10000,[161,309,4...|(10000,[161,309,4...|      2119.0|    (2119,[],[])|(12122,[161,309,4...|  0.0|[-0.4513228753905...|[0.28850709837507...|       1.0|                 0.0|\n",
      "+--------+---------------+--------------------+---------------+-----+--------------+-------------------+--------+---------------+--------------------+---------+-----------+--------------------+--------------------+--------------------+--------------------+------------+----------------+--------------------+-----+--------------------+--------------------+----------+--------------------+\n",
      "\n"
     ]
    },
    {
     "name": "stderr",
     "output_type": "stream",
     "text": [
      "24/05/25 20:21:02 WARN DAGScheduler: Broadcasting large task binary with size 1407.4 KiB\n",
      "24/05/25 20:21:06 WARN RandomBlockReplicationPolicy: Expecting 1 replicas with only 0 peer/s.\n",
      "24/05/25 20:21:06 WARN BlockManager: Block input-0-1716661266200 replicated to only 0 peer(s) instead of 1 peers\n",
      "24/05/25 20:21:07 WARN RandomBlockReplicationPolicy: Expecting 1 replicas with only 0 peer/s.\n",
      "24/05/25 20:21:07 WARN BlockManager: Block input-0-1716661267400 replicated to only 0 peer(s) instead of 1 peers\n",
      "                                                                                \r"
     ]
    },
    {
     "name": "stdout",
     "output_type": "stream",
     "text": [
      "========= 2024-05-25 20:21:10 =========\n",
      "+--------+--------------------+--------------------+-------------------+-----+--------+-------------------+--------+--------------------+--------------------+---------+\n",
      "|     aid|               title|                 url|             domain|votes|    user|          posted_at|comments|        source_title|         source_text|frontpage|\n",
      "+--------+--------------------+--------------------+-------------------+-----+--------+-------------------+--------+--------------------+--------------------+---------+\n",
      "|40473060|America's premier...|https://www.thegu...|    theguardian.com|    4| defrost|2024-05-25 06:36:16|       2|America’s premier...|America’s premier...|     true|\n",
      "|40473063|Will Google Have ...|https://www.busin...|businessinsider.com|    5|ulrischa|2024-05-25 06:36:51|       0|Why Google is (pr...|Will Google Have ...|     true|\n",
      "|40473089|Lauryn Hill's 'Mi...|https://apnews.co...|         apnews.com|    2|    geox|2024-05-25 06:42:09|       0|Lauryn Hill's cla...|'The Miseducation...|    false|\n",
      "+--------+--------------------+--------------------+-------------------+-----+--------+-------------------+--------+--------------------+--------------------+---------+\n",
      "\n"
     ]
    },
    {
     "name": "stderr",
     "output_type": "stream",
     "text": [
      "24/05/25 20:21:11 WARN DAGScheduler: Broadcasting large task binary with size 1407.9 KiB\n",
      "24/05/25 20:21:11 WARN DAGScheduler: Broadcasting large task binary with size 1407.9 KiB\n"
     ]
    },
    {
     "name": "stdout",
     "output_type": "stream",
     "text": [
      "+--------+--------------------+--------------------+-------------------+-----+--------+-------------------+--------+--------------------+--------------------+---------+-----------+--------------------+--------------------+--------------------+--------------------+------------+-----------------+--------------------+-----+--------------------+--------------------+----------+--------------------+\n",
      "|     aid|               title|                 url|             domain|votes|    user|          posted_at|comments|        source_title|         source_text|frontpage|text_length|               words|      filtered_words|         tf_features|      tfidf_features|domain_index|       domain_vec|            features|label|       rawPrediction|         probability|prediction|corrected_prediction|\n",
      "+--------+--------------------+--------------------+-------------------+-----+--------+-------------------+--------+--------------------+--------------------+---------+-----------+--------------------+--------------------+--------------------+--------------------+------------+-----------------+--------------------+-----+--------------------+--------------------+----------+--------------------+\n",
      "|40473060|America's premier...|https://www.thegu...|    theguardian.com|    4| defrost|2024-05-25 06:36:16|       2|America’s premier...|America’s premier...|     true|      34609|[america’s, premi...|[america’s, premi...|(10000,[7,8,15,22...|(10000,[7,8,15,22...|         3.0| (2119,[3],[1.0])|(12122,[7,8,15,22...|  1.0|[-1.1715360210944...|[0.08761802106855...|       1.0|                 0.0|\n",
      "|40473063|Will Google Have ...|https://www.busin...|businessinsider.com|    5|ulrischa|2024-05-25 06:36:51|       0|Why Google is (pr...|Will Google Have ...|     true|       7284|[will, google, ha...|[google, roll, ba...|(10000,[1,28,63,1...|(10000,[1,28,63,1...|        15.0|(2119,[15],[1.0])|(12122,[1,28,63,1...|  1.0|[-1.2488678133620...|[0.07601707353942...|       1.0|                 0.0|\n",
      "|40473089|Lauryn Hill's 'Mi...|https://apnews.co...|         apnews.com|    2|    geox|2024-05-25 06:42:09|       0|Lauryn Hill's cla...|'The Miseducation...|    false|      20207|['the, miseducati...|['the, miseducati...|(10000,[11,18,20,...|(10000,[11,18,20,...|        28.0|(2119,[28],[1.0])|(12122,[11,18,20,...|  0.0|[1.54109111757439...|[0.95615176717383...|       0.0|                 1.0|\n",
      "+--------+--------------------+--------------------+-------------------+-----+--------+-------------------+--------+--------------------+--------------------+---------+-----------+--------------------+--------------------+--------------------+--------------------+------------+-----------------+--------------------+-----+--------------------+--------------------+----------+--------------------+\n",
      "\n"
     ]
    },
    {
     "name": "stderr",
     "output_type": "stream",
     "text": [
      "24/05/25 20:21:11 WARN DAGScheduler: Broadcasting large task binary with size 1407.4 KiB\n",
      "24/05/25 20:21:12 WARN RandomBlockReplicationPolicy: Expecting 1 replicas with only 0 peer/s.\n",
      "24/05/25 20:21:12 WARN BlockManager: Block input-0-1716661272200 replicated to only 0 peer(s) instead of 1 peers\n",
      "24/05/25 20:21:14 WARN RandomBlockReplicationPolicy: Expecting 1 replicas with only 0 peer/s.\n",
      "24/05/25 20:21:14 WARN BlockManager: Block input-0-1716661274200 replicated to only 0 peer(s) instead of 1 peers\n",
      "24/05/25 20:21:17 WARN RandomBlockReplicationPolicy: Expecting 1 replicas with only 0 peer/s.\n",
      "24/05/25 20:21:17 WARN BlockManager: Block input-0-1716661277400 replicated to only 0 peer(s) instead of 1 peers\n",
      "                                                                                \r"
     ]
    },
    {
     "name": "stdout",
     "output_type": "stream",
     "text": [
      "========= 2024-05-25 20:21:20 =========\n",
      "+--------+--------------------+--------------------+--------------------+-----+------------+-------------------+--------+--------------------+--------------------+---------+\n",
      "|     aid|               title|                 url|              domain|votes|        user|          posted_at|comments|        source_title|         source_text|frontpage|\n",
      "+--------+--------------------+--------------------+--------------------+-----+------------+-------------------+--------+--------------------+--------------------+---------+\n",
      "|40473117|The Cost of a Sub...|https://math.berk...|   math.berkeley.edu|    1|         mhb|2024-05-25 06:47:40|       0|                NULL|                \\n\\n|    false|\n",
      "|40473125|Where can I find ...|https://github.co...|github.com/turbob...|    2|  Turboblack|2024-05-25 06:50:32|       2|GitHub - turbobla...|GitHub - turbobla...|    false|\n",
      "|40473128|  EU Approves AI Act|https://vcsi.org/...|            vcsi.org|   25|rippeltippel|2024-05-25 06:50:54|      24|EU Approves Histo...|EU Approves Histo...|     true|\n",
      "+--------+--------------------+--------------------+--------------------+-----+------------+-------------------+--------+--------------------+--------------------+---------+\n",
      "\n"
     ]
    },
    {
     "name": "stderr",
     "output_type": "stream",
     "text": [
      "24/05/25 20:21:20 WARN RandomBlockReplicationPolicy: Expecting 1 replicas with only 0 peer/s.\n",
      "24/05/25 20:21:20 WARN BlockManager: Block input-0-1716661280200 replicated to only 0 peer(s) instead of 1 peers\n",
      "24/05/25 20:21:21 WARN RandomBlockReplicationPolicy: Expecting 1 replicas with only 0 peer/s.\n",
      "24/05/25 20:21:21 WARN BlockManager: Block input-0-1716661281200 replicated to only 0 peer(s) instead of 1 peers\n",
      "24/05/25 20:21:21 WARN DAGScheduler: Broadcasting large task binary with size 1407.9 KiB\n",
      "24/05/25 20:21:21 WARN DAGScheduler: Broadcasting large task binary with size 1407.9 KiB\n"
     ]
    },
    {
     "name": "stdout",
     "output_type": "stream",
     "text": [
      "+--------+--------------------+--------------------+--------------------+-----+------------+-------------------+--------+--------------------+--------------------+---------+-----------+--------------------+--------------------+--------------------+--------------------+------------+------------+--------------------+-----+--------------------+--------------------+----------+--------------------+\n",
      "|     aid|               title|                 url|              domain|votes|        user|          posted_at|comments|        source_title|         source_text|frontpage|text_length|               words|      filtered_words|         tf_features|      tfidf_features|domain_index|  domain_vec|            features|label|       rawPrediction|         probability|prediction|corrected_prediction|\n",
      "+--------+--------------------+--------------------+--------------------+-----+------------+-------------------+--------+--------------------+--------------------+---------+-----------+--------------------+--------------------+--------------------+--------------------+------------+------------+--------------------+-----+--------------------+--------------------+----------+--------------------+\n",
      "|40473117|The Cost of a Sub...|https://math.berk...|   math.berkeley.edu|    1|         mhb|2024-05-25 06:47:40|       0|                NULL|                \\n\\n|    false|          2|                  []|                  []|       (10000,[],[])|       (10000,[],[])|      2119.0|(2119,[],[])|(12122,[10000,100...|  0.0|[1.54109111757439...|[0.95615176717383...|       0.0|                 1.0|\n",
      "|40473125|Where can I find ...|https://github.co...|github.com/turbob...|    2|  Turboblack|2024-05-25 06:50:32|       2|GitHub - turbobla...|GitHub - turbobla...|    false|       2391|[github, -, turbo...|[github, -, turbo...|(10000,[134,193,3...|(10000,[134,193,3...|      2119.0|(2119,[],[])|(12122,[134,193,3...|  0.0|[1.54109111757439...|[0.95615176717383...|       0.0|                 1.0|\n",
      "|40473128|  EU Approves AI Act|https://vcsi.org/...|            vcsi.org|   25|rippeltippel|2024-05-25 06:50:54|      24|EU Approves Histo...|EU Approves Histo...|     true|       8370|[eu, approves, hi...|[eu, approves, hi...|(10000,[25,99,104...|(10000,[25,99,104...|      2119.0|(2119,[],[])|(12122,[25,99,104...|  1.0|[-1.4190509549880...|[0.05529961332079...|       1.0|                 0.0|\n",
      "+--------+--------------------+--------------------+--------------------+-----+------------+-------------------+--------+--------------------+--------------------+---------+-----------+--------------------+--------------------+--------------------+--------------------+------------+------------+--------------------+-----+--------------------+--------------------+----------+--------------------+\n",
      "\n"
     ]
    },
    {
     "name": "stderr",
     "output_type": "stream",
     "text": [
      "24/05/25 20:21:21 WARN DAGScheduler: Broadcasting large task binary with size 1407.4 KiB\n",
      "24/05/25 20:21:24 WARN RandomBlockReplicationPolicy: Expecting 1 replicas with only 0 peer/s.\n",
      "24/05/25 20:21:24 WARN BlockManager: Block input-0-1716661284400 replicated to only 0 peer(s) instead of 1 peers\n",
      "24/05/25 20:21:25 WARN RandomBlockReplicationPolicy: Expecting 1 replicas with only 0 peer/s.\n",
      "24/05/25 20:21:25 WARN BlockManager: Block input-0-1716661285400 replicated to only 0 peer(s) instead of 1 peers\n",
      "24/05/25 20:21:28 WARN RandomBlockReplicationPolicy: Expecting 1 replicas with only 0 peer/s.\n",
      "24/05/25 20:21:28 WARN BlockManager: Block input-0-1716661288400 replicated to only 0 peer(s) instead of 1 peers\n",
      "                                                                                \r"
     ]
    },
    {
     "name": "stdout",
     "output_type": "stream",
     "text": [
      "========= 2024-05-25 20:21:30 =========\n",
      "+--------+--------------------+--------------------+---------------+-----+--------------+-------------------+--------+--------------------+--------------------+---------+\n",
      "|     aid|               title|                 url|         domain|votes|          user|          posted_at|comments|        source_title|         source_text|frontpage|\n",
      "+--------+--------------------+--------------------+---------------+-----+--------------+-------------------+--------+--------------------+--------------------+---------+\n",
      "|40473130|Signal's Meredith...|https://techcrunc...| techcrunch.com|   10|        doener|2024-05-25 06:51:13|       0|TechCrunch is par...|TechCrunch is par...|     true|\n",
      "|40473137|        Stable Audio|https://www.stabl...|stableaudio.com|    2|handfuloflight|2024-05-25 06:53:32|       0|Stable Audio - Ge...|Stable Audio - Ge...|    false|\n",
      "|40473161|Consensus in Inte...|https://www.mnot....|       mnot.net|    1|  todsacerdoti|2024-05-25 06:59:55|       0|Consensus in Inte...|Consensus in Inte...|    false|\n",
      "|40473166|Compressed-Air Ve...|https://en.wikipe...|  wikipedia.org|    4|      _Microft|2024-05-25 07:01:57|       0|Compressed-air ve...|Compressed-air ve...|     true|\n",
      "|40473167|           Supertape|https://www.super...|  supertape.com|    3|handfuloflight|2024-05-25 07:02:07|       0|    Just a moment...|Just a moment...\\...|    false|\n",
      "+--------+--------------------+--------------------+---------------+-----+--------------+-------------------+--------+--------------------+--------------------+---------+\n",
      "\n"
     ]
    },
    {
     "name": "stderr",
     "output_type": "stream",
     "text": [
      "24/05/25 20:21:31 WARN DAGScheduler: Broadcasting large task binary with size 1407.9 KiB\n",
      "24/05/25 20:21:31 WARN RandomBlockReplicationPolicy: Expecting 1 replicas with only 0 peer/s.\n",
      "24/05/25 20:21:31 WARN BlockManager: Block input-0-1716661291400 replicated to only 0 peer(s) instead of 1 peers\n",
      "24/05/25 20:21:31 WARN DAGScheduler: Broadcasting large task binary with size 1407.9 KiB\n"
     ]
    },
    {
     "name": "stdout",
     "output_type": "stream",
     "text": [
      "+--------+--------------------+--------------------+---------------+-----+--------------+-------------------+--------+--------------------+--------------------+---------+-----------+--------------------+--------------------+--------------------+--------------------+------------+-----------------+--------------------+-----+--------------------+--------------------+----------+--------------------+\n",
      "|     aid|               title|                 url|         domain|votes|          user|          posted_at|comments|        source_title|         source_text|frontpage|text_length|               words|      filtered_words|         tf_features|      tfidf_features|domain_index|       domain_vec|            features|label|       rawPrediction|         probability|prediction|corrected_prediction|\n",
      "+--------+--------------------+--------------------+---------------+-----+--------------+-------------------+--------+--------------------+--------------------+---------+-----------+--------------------+--------------------+--------------------+--------------------+------------+-----------------+--------------------+-----+--------------------+--------------------+----------+--------------------+\n",
      "|40473130|Signal's Meredith...|https://techcrunc...| techcrunch.com|   10|        doener|2024-05-25 06:51:13|       0|TechCrunch is par...|TechCrunch is par...|     true|         50|[techcrunch, is, ...|[techcrunch, part...|(10000,[1562,1715...|(10000,[1562,1715...|        16.0|(2119,[16],[1.0])|(12122,[1562,1715...|  1.0|[-1.4190509549880...|[0.05529961332079...|       1.0|                 0.0|\n",
      "|40473137|        Stable Audio|https://www.stabl...|stableaudio.com|    2|handfuloflight|2024-05-25 06:53:32|       0|Stable Audio - Ge...|Stable Audio - Ge...|    false|       2432|[stable, audio, -...|[stable, audio, -...|(10000,[20,193,42...|(10000,[20,193,42...|      2119.0|     (2119,[],[])|(12122,[20,193,42...|  0.0|[1.54109111757439...|[0.95615176717383...|       0.0|                 1.0|\n",
      "|40473161|Consensus in Inte...|https://www.mnot....|       mnot.net|    1|  todsacerdoti|2024-05-25 06:59:55|       0|Consensus in Inte...|Consensus in Inte...|    false|      11849|[consensus, in, i...|[consensus, inter...|(10000,[7,42,44,5...|(10000,[7,42,44,5...|      2119.0|     (2119,[],[])|(12122,[7,42,44,5...|  0.0|[1.54109111757439...|[0.95615176717383...|       0.0|                 1.0|\n",
      "|40473166|Compressed-Air Ve...|https://en.wikipe...|  wikipedia.org|    4|      _Microft|2024-05-25 07:01:57|       0|Compressed-air ve...|Compressed-air ve...|     true|      27867|[compressed-air, ...|[compressed-air, ...|(10000,[30,34,45,...|(10000,[30,34,45,...|         4.0| (2119,[4],[1.0])|(12122,[30,34,45,...|  1.0|[-0.6454674408899...|[0.21569461441743...|       1.0|                 0.0|\n",
      "|40473167|           Supertape|https://www.super...|  supertape.com|    3|handfuloflight|2024-05-25 07:02:07|       0|    Just a moment...|Just a moment...\\...|    false|        317|[just, a, moment....|[moment..., , #, ...|(10000,[855,1678,...|(10000,[855,1678,...|      2119.0|     (2119,[],[])|(12122,[855,1678,...|  0.0|[-0.4513228753905...|[0.28850709837507...|       1.0|                 0.0|\n",
      "+--------+--------------------+--------------------+---------------+-----+--------------+-------------------+--------+--------------------+--------------------+---------+-----------+--------------------+--------------------+--------------------+--------------------+------------+-----------------+--------------------+-----+--------------------+--------------------+----------+--------------------+\n",
      "\n"
     ]
    },
    {
     "name": "stderr",
     "output_type": "stream",
     "text": [
      "24/05/25 20:21:31 WARN DAGScheduler: Broadcasting large task binary with size 1407.4 KiB\n",
      "24/05/25 20:21:33 WARN RandomBlockReplicationPolicy: Expecting 1 replicas with only 0 peer/s.\n",
      "24/05/25 20:21:33 WARN BlockManager: Block input-0-1716661293600 replicated to only 0 peer(s) instead of 1 peers\n",
      "24/05/25 20:21:34 WARN RandomBlockReplicationPolicy: Expecting 1 replicas with only 0 peer/s.\n",
      "24/05/25 20:21:34 WARN BlockManager: Block input-0-1716661294400 replicated to only 0 peer(s) instead of 1 peers\n",
      "24/05/25 20:21:37 WARN RandomBlockReplicationPolicy: Expecting 1 replicas with only 0 peer/s.\n",
      "24/05/25 20:21:37 WARN BlockManager: Block input-0-1716661297600 replicated to only 0 peer(s) instead of 1 peers\n",
      "                                                                                \r"
     ]
    },
    {
     "name": "stdout",
     "output_type": "stream",
     "text": [
      "========= 2024-05-25 20:21:40 =========\n",
      "+--------+--------------------+--------------------+--------------------+-----+--------------+-------------------+--------+--------------------+--------------------+---------+\n",
      "|     aid|               title|                 url|              domain|votes|          user|          posted_at|comments|        source_title|         source_text|frontpage|\n",
      "+--------+--------------------+--------------------+--------------------+-----+--------------+-------------------+--------+--------------------+--------------------+---------+\n",
      "|40473198|   Mistral Fine-Tune|https://github.co...|github.com/mistralai|    5|     alexmolas|2024-05-25 07:09:47|       0|GitHub - mistrala...|GitHub - mistrala...|     true|\n",
      "|40473206|Google's A.I. Sea...|https://www.nytim...|         nytimes.com|    2|      ivyirwin|2024-05-25 07:11:45|       2|Google’s A.I. Sea...|Google AI Overvie...|    false|\n",
      "|40473240|This week in KDE:...|https://pointiest...|  pointieststick.com|    2|TangerineDream|2024-05-25 07:20:42|       0|This week in KDE:...|This week in KDE:...|    false|\n",
      "|40473289|Serotonin Affects...|https://neuroscie...|neurosciencenews.com|    5|       XzetaU8|2024-05-25 07:32:45|       0|Serotonin Affects...|Serotonin Affects...|     true|\n",
      "+--------+--------------------+--------------------+--------------------+-----+--------------+-------------------+--------+--------------------+--------------------+---------+\n",
      "\n"
     ]
    },
    {
     "name": "stderr",
     "output_type": "stream",
     "text": [
      "24/05/25 20:21:41 WARN DAGScheduler: Broadcasting large task binary with size 1407.9 KiB\n",
      "24/05/25 20:21:41 WARN DAGScheduler: Broadcasting large task binary with size 1407.9 KiB\n"
     ]
    },
    {
     "name": "stdout",
     "output_type": "stream",
     "text": [
      "+--------+--------------------+--------------------+--------------------+-----+--------------+-------------------+--------+--------------------+--------------------+---------+-----------+--------------------+--------------------+--------------------+--------------------+------------+------------------+--------------------+-----+--------------------+--------------------+----------+--------------------+\n",
      "|     aid|               title|                 url|              domain|votes|          user|          posted_at|comments|        source_title|         source_text|frontpage|text_length|               words|      filtered_words|         tf_features|      tfidf_features|domain_index|        domain_vec|            features|label|       rawPrediction|         probability|prediction|corrected_prediction|\n",
      "+--------+--------------------+--------------------+--------------------+-----+--------------+-------------------+--------+--------------------+--------------------+---------+-----------+--------------------+--------------------+--------------------+--------------------+------------+------------------+--------------------+-----+--------------------+--------------------+----------+--------------------+\n",
      "|40473198|   Mistral Fine-Tune|https://github.co...|github.com/mistralai|    5|     alexmolas|2024-05-25 07:09:47|       0|GitHub - mistrala...|GitHub - mistrala...|     true|      22011|[github, -, mistr...|[github, -, mistr...|(10000,[7,18,32,4...|(10000,[7,18,32,4...|      2119.0|      (2119,[],[])|(12122,[7,18,32,4...|  1.0|[-1.2488678133620...|[0.07601707353942...|       1.0|                 0.0|\n",
      "|40473206|Google's A.I. Sea...|https://www.nytim...|         nytimes.com|    2|      ivyirwin|2024-05-25 07:11:45|       2|Google’s A.I. Sea...|Google AI Overvie...|    false|      28444|[google, ai, over...|[google, ai, over...|(10000,[7,8,9,11,...|(10000,[7,8,9,11,...|         8.0|  (2119,[8],[1.0])|(12122,[7,8,9,11,...|  0.0|[1.54109111757439...|[0.95615176717383...|       0.0|                 1.0|\n",
      "|40473240|This week in KDE:...|https://pointiest...|  pointieststick.com|    2|TangerineDream|2024-05-25 07:20:42|       0|This week in KDE:...|This week in KDE:...|    false|      12615|[this, week, in, ...|[week, kde:, trip...|(10000,[8,17,20,4...|(10000,[8,17,20,4...|      2119.0|      (2119,[],[])|(12122,[8,17,20,4...|  0.0|[1.54109111757439...|[0.95615176717383...|       0.0|                 1.0|\n",
      "|40473289|Serotonin Affects...|https://neuroscie...|neurosciencenews.com|    5|       XzetaU8|2024-05-25 07:32:45|       0|Serotonin Affects...|Serotonin Affects...|     true|      10888|[serotonin, affec...|[serotonin, affec...|(10000,[24,73,78,...|(10000,[24,73,78,...|       548.0|(2119,[548],[1.0])|(12122,[24,73,78,...|  1.0|[-1.2488678133620...|[0.07601707353942...|       1.0|                 0.0|\n",
      "+--------+--------------------+--------------------+--------------------+-----+--------------+-------------------+--------+--------------------+--------------------+---------+-----------+--------------------+--------------------+--------------------+--------------------+------------+------------------+--------------------+-----+--------------------+--------------------+----------+--------------------+\n",
      "\n"
     ]
    },
    {
     "name": "stderr",
     "output_type": "stream",
     "text": [
      "24/05/25 20:21:41 WARN DAGScheduler: Broadcasting large task binary with size 1407.4 KiB\n",
      "24/05/25 20:21:42 WARN RandomBlockReplicationPolicy: Expecting 1 replicas with only 0 peer/s.\n",
      "24/05/25 20:21:42 WARN BlockManager: Block input-0-1716661302400 replicated to only 0 peer(s) instead of 1 peers\n",
      "24/05/25 20:21:43 WARN RandomBlockReplicationPolicy: Expecting 1 replicas with only 0 peer/s.\n",
      "24/05/25 20:21:43 WARN BlockManager: Block input-0-1716661303600 replicated to only 0 peer(s) instead of 1 peers\n",
      "24/05/25 20:21:48 WARN RandomBlockReplicationPolicy: Expecting 1 replicas with only 0 peer/s.\n",
      "24/05/25 20:21:48 WARN BlockManager: Block input-0-1716661308600 replicated to only 0 peer(s) instead of 1 peers\n",
      "                                                                                \r"
     ]
    },
    {
     "name": "stdout",
     "output_type": "stream",
     "text": [
      "========= 2024-05-25 20:21:50 =========\n",
      "+--------+--------------------+--------------------+--------------------+-----+-------------+-------------------+--------+--------------------+--------------------+---------+\n",
      "|     aid|               title|                 url|              domain|votes|         user|          posted_at|comments|        source_title|         source_text|frontpage|\n",
      "+--------+--------------------+--------------------+--------------------+-----+-------------+-------------------+--------+--------------------+--------------------+---------+\n",
      "|40473340|ICQ will stop wor...|https://icq.com/d...|             icq.com|    1|Wasserpuncher|2024-05-25 07:44:50|       2|                 ICQ|ICQ\\n\\n  * Sign I...|    false|\n",
      "|40473375|Singapore Airline...|https://www.natur...|          nature.com|    3|     zeristor|2024-05-25 07:52:34|       0|Singapore Airline...|Singapore Airline...|     true|\n",
      "|40473381|Tail Recursion El...|http://neopythoni...|neopythonic.blogs...|    1|     mpweiher|2024-05-25 07:54:10|       0|Tail Recursion El...|Neopythonic: Tail...|    false|\n",
      "+--------+--------------------+--------------------+--------------------+-----+-------------+-------------------+--------+--------------------+--------------------+---------+\n",
      "\n"
     ]
    },
    {
     "name": "stderr",
     "output_type": "stream",
     "text": [
      "24/05/25 20:21:51 WARN DAGScheduler: Broadcasting large task binary with size 1407.9 KiB\n",
      "24/05/25 20:21:51 WARN DAGScheduler: Broadcasting large task binary with size 1407.9 KiB\n"
     ]
    },
    {
     "name": "stdout",
     "output_type": "stream",
     "text": [
      "+--------+--------------------+--------------------+--------------------+-----+-------------+-------------------+--------+--------------------+--------------------+---------+-----------+--------------------+--------------------+--------------------+--------------------+------------+-----------------+--------------------+-----+--------------------+--------------------+----------+--------------------+\n",
      "|     aid|               title|                 url|              domain|votes|         user|          posted_at|comments|        source_title|         source_text|frontpage|text_length|               words|      filtered_words|         tf_features|      tfidf_features|domain_index|       domain_vec|            features|label|       rawPrediction|         probability|prediction|corrected_prediction|\n",
      "+--------+--------------------+--------------------+--------------------+-----+-------------+-------------------+--------+--------------------+--------------------+---------+-----------+--------------------+--------------------+--------------------+--------------------+------------+-----------------+--------------------+-----+--------------------+--------------------+----------+--------------------+\n",
      "|40473340|ICQ will stop wor...|https://icq.com/d...|             icq.com|    1|Wasserpuncher|2024-05-25 07:44:50|       2|                 ICQ|ICQ\\n\\n  * Sign I...|    false|        159|[icq, , , , *, si...|[icq, , , , *, si...|(10000,[354,796,1...|(10000,[354,796,1...|      2119.0|     (2119,[],[])|(12122,[354,796,1...|  0.0|[1.54109111757439...|[0.95615176717383...|       0.0|                 1.0|\n",
      "|40473375|Singapore Airline...|https://www.natur...|          nature.com|    3|     zeristor|2024-05-25 07:52:34|       0|Singapore Airline...|Singapore Airline...|     true|       9899|[singapore, airli...|[singapore, airli...|(10000,[7,39,44,4...|(10000,[7,39,44,4...|        14.0|(2119,[14],[1.0])|(12122,[7,39,44,4...|  1.0|[-0.7598784762932...|[0.17949731216252...|       1.0|                 0.0|\n",
      "|40473381|Tail Recursion El...|http://neopythoni...|neopythonic.blogs...|    1|     mpweiher|2024-05-25 07:54:10|       0|Tail Recursion El...|Neopythonic: Tail...|    false|      50326|[neopythonic:, ta...|[neopythonic:, ta...|(10000,[1,4,9,13,...|(10000,[1,4,9,13,...|      2119.0|     (2119,[],[])|(12122,[1,4,9,13,...|  0.0|[1.51626740098796...|[0.95402248650278...|       0.0|                 1.0|\n",
      "+--------+--------------------+--------------------+--------------------+-----+-------------+-------------------+--------+--------------------+--------------------+---------+-----------+--------------------+--------------------+--------------------+--------------------+------------+-----------------+--------------------+-----+--------------------+--------------------+----------+--------------------+\n",
      "\n"
     ]
    },
    {
     "name": "stderr",
     "output_type": "stream",
     "text": [
      "24/05/25 20:21:51 WARN DAGScheduler: Broadcasting large task binary with size 1407.4 KiB\n",
      "24/05/25 20:21:52 WARN RandomBlockReplicationPolicy: Expecting 1 replicas with only 0 peer/s.\n",
      "24/05/25 20:21:52 WARN BlockManager: Block input-0-1716661311800 replicated to only 0 peer(s) instead of 1 peers\n",
      "24/05/25 20:21:54 WARN RandomBlockReplicationPolicy: Expecting 1 replicas with only 0 peer/s.\n",
      "24/05/25 20:21:54 WARN BlockManager: Block input-0-1716661314000 replicated to only 0 peer(s) instead of 1 peers\n",
      "24/05/25 20:21:55 WARN RandomBlockReplicationPolicy: Expecting 1 replicas with only 0 peer/s.\n",
      "24/05/25 20:21:55 WARN BlockManager: Block input-0-1716661315000 replicated to only 0 peer(s) instead of 1 peers\n",
      "24/05/25 20:21:59 WARN RandomBlockReplicationPolicy: Expecting 1 replicas with only 0 peer/s.\n",
      "24/05/25 20:21:59 WARN BlockManager: Block input-0-1716661319000 replicated to only 0 peer(s) instead of 1 peers\n",
      "                                                                                \r"
     ]
    },
    {
     "name": "stdout",
     "output_type": "stream",
     "text": [
      "========= 2024-05-25 20:22:00 =========\n",
      "+--------+--------------------+--------------------+--------------+-----+--------------+-------------------+--------+--------------------+--------------------+---------+\n",
      "|     aid|               title|                 url|        domain|votes|          user|          posted_at|comments|        source_title|         source_text|frontpage|\n",
      "+--------+--------------------+--------------------+--------------+-----+--------------+-------------------+--------+--------------------+--------------------+---------+\n",
      "|40473382| Book Covers of 2023|https://lithub.co...|    lithub.com|    2|handfuloflight|2024-05-25 07:54:35|       0|The 139 Best Book...|The 139 Best Book...|    false|\n",
      "|40473387|Timeless and Unfo...|https://www.paper...| papertrue.com|    1|handfuloflight|2024-05-25 07:54:58|       0|50 Timeless and U...|50 Timeless and U...|    false|\n",
      "|40473395|Knot-based Key Ex...|https://eprint.ia...|      iacr.org|    1|     g0xA52A2A|2024-05-25 07:56:32|       0|                NULL|                \\n\\n|    false|\n",
      "|40473417|Choosing Technolo...|https://www.eno-w...|eno-writer.com|    1|        trbznk|2024-05-25 08:00:46|       0|012 - choosing te...|012 - choosing te...|    false|\n",
      "+--------+--------------------+--------------------+--------------+-----+--------------+-------------------+--------+--------------------+--------------------+---------+\n",
      "\n"
     ]
    },
    {
     "name": "stderr",
     "output_type": "stream",
     "text": [
      "24/05/25 20:22:01 WARN DAGScheduler: Broadcasting large task binary with size 1407.9 KiB\n",
      "24/05/25 20:22:01 WARN DAGScheduler: Broadcasting large task binary with size 1407.9 KiB\n"
     ]
    },
    {
     "name": "stdout",
     "output_type": "stream",
     "text": [
      "+--------+--------------------+--------------------+--------------+-----+--------------+-------------------+--------+--------------------+--------------------+---------+-----------+--------------------+--------------------+--------------------+--------------------+------------+------------------+--------------------+-----+--------------------+--------------------+----------+--------------------+\n",
      "|     aid|               title|                 url|        domain|votes|          user|          posted_at|comments|        source_title|         source_text|frontpage|text_length|               words|      filtered_words|         tf_features|      tfidf_features|domain_index|        domain_vec|            features|label|       rawPrediction|         probability|prediction|corrected_prediction|\n",
      "+--------+--------------------+--------------------+--------------+-----+--------------+-------------------+--------+--------------------+--------------------+---------+-----------+--------------------+--------------------+--------------------+--------------------+------------+------------------+--------------------+-----+--------------------+--------------------+----------+--------------------+\n",
      "|40473382| Book Covers of 2023|https://lithub.co...|    lithub.com|    2|handfuloflight|2024-05-25 07:54:35|       0|The 139 Best Book...|The 139 Best Book...|    false|     103532|[the, 139, best, ...|[139, best, book,...|(10000,[1,4,8,9,1...|(10000,[1,4,8,9,1...|       382.0|(2119,[382],[1.0])|(12122,[1,4,8,9,1...|  0.0|[1.51626740098796...|[0.95402248650278...|       0.0|                 1.0|\n",
      "|40473387|Timeless and Unfo...|https://www.paper...| papertrue.com|    1|handfuloflight|2024-05-25 07:54:58|       0|50 Timeless and U...|50 Timeless and U...|    false|      31338|[50, timeless, an...|[50, timeless, un...|(10000,[2,3,7,8,1...|(10000,[2,3,7,8,1...|      2119.0|      (2119,[],[])|(12122,[2,3,7,8,1...|  0.0|[1.54109111757439...|[0.95615176717383...|       0.0|                 1.0|\n",
      "|40473395|Knot-based Key Ex...|https://eprint.ia...|      iacr.org|    1|     g0xA52A2A|2024-05-25 07:56:32|       0|                NULL|                \\n\\n|    false|          2|                  []|                  []|       (10000,[],[])|       (10000,[],[])|       371.0|(2119,[371],[1.0])|(12122,[10000,100...|  0.0|[1.54109111757439...|[0.95615176717383...|       0.0|                 1.0|\n",
      "|40473417|Choosing Technolo...|https://www.eno-w...|eno-writer.com|    1|        trbznk|2024-05-25 08:00:46|       0|012 - choosing te...|012 - choosing te...|    false|       8739|[012, -, choosing...|[012, -, choosing...|(10000,[13,20,32,...|(10000,[13,20,32,...|      2119.0|      (2119,[],[])|(12122,[13,20,32,...|  0.0|[1.54109111757439...|[0.95615176717383...|       0.0|                 1.0|\n",
      "+--------+--------------------+--------------------+--------------+-----+--------------+-------------------+--------+--------------------+--------------------+---------+-----------+--------------------+--------------------+--------------------+--------------------+------------+------------------+--------------------+-----+--------------------+--------------------+----------+--------------------+\n",
      "\n"
     ]
    },
    {
     "name": "stderr",
     "output_type": "stream",
     "text": [
      "24/05/25 20:22:01 WARN DAGScheduler: Broadcasting large task binary with size 1407.4 KiB\n",
      "24/05/25 20:22:03 WARN RandomBlockReplicationPolicy: Expecting 1 replicas with only 0 peer/s.\n",
      "24/05/25 20:22:03 WARN BlockManager: Block input-0-1716661323000 replicated to only 0 peer(s) instead of 1 peers\n",
      "24/05/25 20:22:06 WARN RandomBlockReplicationPolicy: Expecting 1 replicas with only 0 peer/s.\n",
      "24/05/25 20:22:06 WARN BlockManager: Block input-0-1716661326000 replicated to only 0 peer(s) instead of 1 peers\n",
      "24/05/25 20:22:09 WARN RandomBlockReplicationPolicy: Expecting 1 replicas with only 0 peer/s.\n",
      "24/05/25 20:22:09 WARN BlockManager: Block input-0-1716661329000 replicated to only 0 peer(s) instead of 1 peers\n",
      "                                                                                \r"
     ]
    },
    {
     "name": "stdout",
     "output_type": "stream",
     "text": [
      "========= 2024-05-25 20:22:10 =========\n",
      "+--------+--------------------+--------------------+--------------+-----+---------+-------------------+--------+--------------------+--------------------+---------+\n",
      "|     aid|               title|                 url|        domain|votes|     user|          posted_at|comments|        source_title|         source_text|frontpage|\n",
      "+--------+--------------------+--------------------+--------------+-----+---------+-------------------+--------+--------------------+--------------------+---------+\n",
      "|40473421|C4AI releases two...|https://huggingfa...|huggingface.co|    1|alexmolas|2024-05-25 08:02:07|       0|C4AI Aya 23 - a H...|C4AI Aya 23 - a H...|    false|\n",
      "|40473439|   SVG Status Monkey|https://vectorart...|  vectorart.ai|    2|   tm11zz|2024-05-25 08:07:32|       0|Status Monkey - V...|Status Monkey - V...|    false|\n",
      "|40473443|Tech Analysis – L...|https://www.lttla...|   lttlabs.com|    1| xbmcuser|2024-05-25 08:08:45|       0|    Just a moment...|Just a moment...\\...|    false|\n",
      "+--------+--------------------+--------------------+--------------+-----+---------+-------------------+--------+--------------------+--------------------+---------+\n",
      "\n"
     ]
    },
    {
     "name": "stderr",
     "output_type": "stream",
     "text": [
      "24/05/25 20:22:11 WARN DAGScheduler: Broadcasting large task binary with size 1407.9 KiB\n",
      "24/05/25 20:22:11 WARN DAGScheduler: Broadcasting large task binary with size 1407.9 KiB\n"
     ]
    },
    {
     "name": "stdout",
     "output_type": "stream",
     "text": [
      "+--------+--------------------+--------------------+--------------+-----+---------+-------------------+--------+--------------------+--------------------+---------+-----------+--------------------+--------------------+--------------------+--------------------+------------+-----------------+--------------------+-----+--------------------+--------------------+----------+--------------------+\n",
      "|     aid|               title|                 url|        domain|votes|     user|          posted_at|comments|        source_title|         source_text|frontpage|text_length|               words|      filtered_words|         tf_features|      tfidf_features|domain_index|       domain_vec|            features|label|       rawPrediction|         probability|prediction|corrected_prediction|\n",
      "+--------+--------------------+--------------------+--------------+-----+---------+-------------------+--------+--------------------+--------------------+---------+-----------+--------------------+--------------------+--------------------+--------------------+------------+-----------------+--------------------+-----+--------------------+--------------------+----------+--------------------+\n",
      "|40473421|C4AI releases two...|https://huggingfa...|huggingface.co|    1|alexmolas|2024-05-25 08:02:07|       0|C4AI Aya 23 - a H...|C4AI Aya 23 - a H...|    false|        149|[c4ai, aya, 23, -...|[c4ai, aya, 23, -...|(10000,[34,333,38...|(10000,[34,333,38...|        30.0|(2119,[30],[1.0])|(12122,[34,333,38...|  0.0|[1.54109111757439...|[0.95615176717383...|       0.0|                 1.0|\n",
      "|40473439|   SVG Status Monkey|https://vectorart...|  vectorart.ai|    2|   tm11zz|2024-05-25 08:07:32|       0|Status Monkey - V...|Status Monkey - V...|    false|        902|[status, monkey, ...|[status, monkey, ...|(10000,[444,452,5...|(10000,[444,452,5...|      2119.0|     (2119,[],[])|(12122,[444,452,5...|  0.0|[1.54109111757439...|[0.95615176717383...|       0.0|                 1.0|\n",
      "|40473443|Tech Analysis – L...|https://www.lttla...|   lttlabs.com|    1| xbmcuser|2024-05-25 08:08:45|       0|    Just a moment...|Just a moment...\\...|    false|        311|[just, a, moment....|[moment..., , #, ...|(10000,[855,1678,...|(10000,[855,1678,...|      2119.0|     (2119,[],[])|(12122,[855,1678,...|  0.0|[1.54109111757439...|[0.95615176717383...|       0.0|                 1.0|\n",
      "+--------+--------------------+--------------------+--------------+-----+---------+-------------------+--------+--------------------+--------------------+---------+-----------+--------------------+--------------------+--------------------+--------------------+------------+-----------------+--------------------+-----+--------------------+--------------------+----------+--------------------+\n",
      "\n"
     ]
    },
    {
     "name": "stderr",
     "output_type": "stream",
     "text": [
      "24/05/25 20:22:11 WARN DAGScheduler: Broadcasting large task binary with size 1407.4 KiB\n",
      "24/05/25 20:22:12 WARN RandomBlockReplicationPolicy: Expecting 1 replicas with only 0 peer/s.\n",
      "24/05/25 20:22:12 WARN BlockManager: Block input-0-1716661332000 replicated to only 0 peer(s) instead of 1 peers\n",
      "24/05/25 20:22:16 WARN RandomBlockReplicationPolicy: Expecting 1 replicas with only 0 peer/s.\n",
      "24/05/25 20:22:16 WARN BlockManager: Block input-0-1716661336200 replicated to only 0 peer(s) instead of 1 peers\n",
      "                                                                                \r"
     ]
    },
    {
     "name": "stdout",
     "output_type": "stream",
     "text": [
      "========= 2024-05-25 20:22:20 =========\n",
      "+--------+--------------------+--------------------+------------+-----+----------+-------------------+--------+--------------------+--------------------+---------+\n",
      "|     aid|               title|                 url|      domain|votes|      user|          posted_at|comments|        source_title|         source_text|frontpage|\n",
      "+--------+--------------------+--------------------+------------+-----+----------+-------------------+--------+--------------------+--------------------+---------+\n",
      "|40473446|From Pollution to...|https://www.cremi...|cremieux.xyz|    2|arrowsmith|2024-05-25 08:09:14|       0|From Pollution to...|From Pollution to...|    false|\n",
      "|40473454|Male birth contro...|https://newatlas....|newatlas.com|   34|      geox|2024-05-25 08:11:11|      10|Male birth contro...|Male birth contro...|     true|\n",
      "+--------+--------------------+--------------------+------------+-----+----------+-------------------+--------+--------------------+--------------------+---------+\n",
      "\n"
     ]
    },
    {
     "name": "stderr",
     "output_type": "stream",
     "text": [
      "24/05/25 20:22:21 WARN DAGScheduler: Broadcasting large task binary with size 1407.9 KiB\n",
      "24/05/25 20:22:21 WARN RandomBlockReplicationPolicy: Expecting 1 replicas with only 0 peer/s.\n",
      "24/05/25 20:22:21 WARN BlockManager: Block input-0-1716661341000 replicated to only 0 peer(s) instead of 1 peers\n",
      "24/05/25 20:22:21 WARN DAGScheduler: Broadcasting large task binary with size 1407.9 KiB\n"
     ]
    },
    {
     "name": "stdout",
     "output_type": "stream",
     "text": [
      "+--------+--------------------+--------------------+------------+-----+----------+-------------------+--------+--------------------+--------------------+---------+-----------+--------------------+--------------------+--------------------+--------------------+------------+-----------------+--------------------+-----+--------------------+--------------------+----------+--------------------+\n",
      "|     aid|               title|                 url|      domain|votes|      user|          posted_at|comments|        source_title|         source_text|frontpage|text_length|               words|      filtered_words|         tf_features|      tfidf_features|domain_index|       domain_vec|            features|label|       rawPrediction|         probability|prediction|corrected_prediction|\n",
      "+--------+--------------------+--------------------+------------+-----+----------+-------------------+--------+--------------------+--------------------+---------+-----------+--------------------+--------------------+--------------------+--------------------+------------+-----------------+--------------------+-----+--------------------+--------------------+----------+--------------------+\n",
      "|40473446|From Pollution to...|https://www.cremi...|cremieux.xyz|    2|arrowsmith|2024-05-25 08:09:14|       0|From Pollution to...|From Pollution to...|    false|      16250|[from, pollution,...|[pollution, solut...|(10000,[1,4,24,25...|(10000,[1,4,24,25...|      2119.0|     (2119,[],[])|(12122,[1,4,24,25...|  0.0|[1.54109111757439...|[0.95615176717383...|       0.0|                 1.0|\n",
      "|40473454|Male birth contro...|https://newatlas....|newatlas.com|   34|      geox|2024-05-25 08:11:11|      10|Male birth contro...|Male birth contro...|     true|       9027|[male, birth, con...|[male, birth, con...|(10000,[24,32,41,...|(10000,[24,32,41,...|        43.0|(2119,[43],[1.0])|(12122,[24,32,41,...|  1.0|[-1.4190509549880...|[0.05529961332079...|       1.0|                 0.0|\n",
      "+--------+--------------------+--------------------+------------+-----+----------+-------------------+--------+--------------------+--------------------+---------+-----------+--------------------+--------------------+--------------------+--------------------+------------+-----------------+--------------------+-----+--------------------+--------------------+----------+--------------------+\n",
      "\n"
     ]
    },
    {
     "name": "stderr",
     "output_type": "stream",
     "text": [
      "24/05/25 20:22:21 WARN DAGScheduler: Broadcasting large task binary with size 1407.4 KiB\n",
      "24/05/25 20:22:22 WARN RandomBlockReplicationPolicy: Expecting 1 replicas with only 0 peer/s.\n",
      "24/05/25 20:22:22 WARN BlockManager: Block input-0-1716661342000 replicated to only 0 peer(s) instead of 1 peers\n",
      "24/05/25 20:22:26 WARN RandomBlockReplicationPolicy: Expecting 1 replicas with only 0 peer/s.\n",
      "24/05/25 20:22:26 WARN BlockManager: Block input-0-1716661346000 replicated to only 0 peer(s) instead of 1 peers\n",
      "                                                                                \r"
     ]
    },
    {
     "name": "stdout",
     "output_type": "stream",
     "text": [
      "========= 2024-05-25 20:22:30 =========\n",
      "+--------+--------------------+--------------------+--------------------+-----+----------+-------------------+--------+--------------------+--------------------+---------+\n",
      "|     aid|               title|                 url|              domain|votes|      user|          posted_at|comments|        source_title|         source_text|frontpage|\n",
      "+--------+--------------------+--------------------+--------------------+-----+----------+-------------------+--------+--------------------+--------------------+---------+\n",
      "|40473464|         Don't Panic|https://www.towel...|        towelday.org|    3|      hggh|2024-05-25 08:14:47|       0|         Don't Panic|Don't Panic\\n\\nDO...|     true|\n",
      "|40473467|Post Office lobbi...|https://www.thegu...|     theguardian.com|    1|   chrisjj|2024-05-25 08:15:03|       0|‘A tragedy is not...|‘A tragedy is not...|    false|\n",
      "|40473468|BackgroundMusic: ...|https://github.co...|github.com/kylene...|    1|cadmium-44|2024-05-25 08:15:19|       0|GitHub - kyleneid...|GitHub - kyleneid...|    false|\n",
      "+--------+--------------------+--------------------+--------------------+-----+----------+-------------------+--------+--------------------+--------------------+---------+\n",
      "\n"
     ]
    },
    {
     "name": "stderr",
     "output_type": "stream",
     "text": [
      "24/05/25 20:22:31 WARN DAGScheduler: Broadcasting large task binary with size 1407.9 KiB\n",
      "24/05/25 20:22:31 WARN RandomBlockReplicationPolicy: Expecting 1 replicas with only 0 peer/s.\n",
      "24/05/25 20:22:31 WARN BlockManager: Block input-0-1716661351000 replicated to only 0 peer(s) instead of 1 peers\n",
      "24/05/25 20:22:31 WARN DAGScheduler: Broadcasting large task binary with size 1407.9 KiB\n"
     ]
    },
    {
     "name": "stdout",
     "output_type": "stream",
     "text": [
      "+--------+--------------------+--------------------+--------------------+-----+----------+-------------------+--------+--------------------+--------------------+---------+-----------+--------------------+--------------------+--------------------+--------------------+------------+----------------+--------------------+-----+--------------------+--------------------+----------+--------------------+\n",
      "|     aid|               title|                 url|              domain|votes|      user|          posted_at|comments|        source_title|         source_text|frontpage|text_length|               words|      filtered_words|         tf_features|      tfidf_features|domain_index|      domain_vec|            features|label|       rawPrediction|         probability|prediction|corrected_prediction|\n",
      "+--------+--------------------+--------------------+--------------------+-----+----------+-------------------+--------+--------------------+--------------------+---------+-----------+--------------------+--------------------+--------------------+--------------------+------------+----------------+--------------------+-----+--------------------+--------------------+----------+--------------------+\n",
      "|40473464|         Don't Panic|https://www.towel...|        towelday.org|    3|      hggh|2024-05-25 08:14:47|       0|         Don't Panic|Don't Panic\\n\\nDO...|     true|        150|[don't, panic, , ...|[panic, , panic\"i...|(10000,[1488,2938...|(10000,[1488,2938...|      2119.0|    (2119,[],[])|(12122,[1488,2938...|  1.0|[-0.4513228753905...|[0.28850709837507...|       1.0|                 0.0|\n",
      "|40473467|Post Office lobbi...|https://www.thegu...|     theguardian.com|    1|   chrisjj|2024-05-25 08:15:03|       0|‘A tragedy is not...|‘A tragedy is not...|    false|      12861|[‘a, tragedy, is,...|[‘a, tragedy, far...|(10000,[7,20,22,2...|(10000,[7,20,22,2...|         3.0|(2119,[3],[1.0])|(12122,[7,20,22,2...|  0.0|[1.54109111757439...|[0.95615176717383...|       0.0|                 1.0|\n",
      "|40473468|BackgroundMusic: ...|https://github.co...|github.com/kylene...|    1|cadmium-44|2024-05-25 08:15:19|       0|GitHub - kyleneid...|GitHub - kyleneid...|    false|      13093|[github, -, kylen...|[github, -, kylen...|(10000,[20,28,32,...|(10000,[20,28,32,...|      2119.0|    (2119,[],[])|(12122,[20,28,32,...|  0.0|[1.54109111757439...|[0.95615176717383...|       0.0|                 1.0|\n",
      "+--------+--------------------+--------------------+--------------------+-----+----------+-------------------+--------+--------------------+--------------------+---------+-----------+--------------------+--------------------+--------------------+--------------------+------------+----------------+--------------------+-----+--------------------+--------------------+----------+--------------------+\n",
      "\n"
     ]
    },
    {
     "name": "stderr",
     "output_type": "stream",
     "text": [
      "24/05/25 20:22:31 WARN DAGScheduler: Broadcasting large task binary with size 1407.4 KiB\n",
      "24/05/25 20:22:36 WARN RandomBlockReplicationPolicy: Expecting 1 replicas with only 0 peer/s.\n",
      "24/05/25 20:22:36 WARN BlockManager: Block input-0-1716661356200 replicated to only 0 peer(s) instead of 1 peers\n",
      "24/05/25 20:22:38 WARN RandomBlockReplicationPolicy: Expecting 1 replicas with only 0 peer/s.\n",
      "24/05/25 20:22:38 WARN BlockManager: Block input-0-1716661358400 replicated to only 0 peer(s) instead of 1 peers\n",
      "                                                                                \r"
     ]
    },
    {
     "name": "stdout",
     "output_type": "stream",
     "text": [
      "========= 2024-05-25 20:22:40 =========\n",
      "+--------+--------------------+--------------------+---------------+-----+------------+-------------------+--------+--------------------+--------------------+---------+\n",
      "|     aid|               title|                 url|         domain|votes|        user|          posted_at|comments|        source_title|         source_text|frontpage|\n",
      "+--------+--------------------+--------------------+---------------+-----+------------+-------------------+--------+--------------------+--------------------+---------+\n",
      "|40473531|Elon Musk slams M...|https://www.pguru...|     pgurus.com|    1|      taubek|2024-05-25 08:24:58|       0|Elon Musk Slams M...|Elon Musk Slams M...|    false|\n",
      "|40473550|Big tech has dist...|https://www.thegu...|theguardian.com|    3|    lastdong|2024-05-25 08:28:56|       0|Big tech has dist...|Big tech has dist...|     true|\n",
      "|40473595|Pāṇini: Catching ...|https://blog.gran...|   granthika.co|    1|stareatgoats|2024-05-25 08:34:54|       0|Pāṇini: Catching ...|Pāṇini: Catching ...|    false|\n",
      "+--------+--------------------+--------------------+---------------+-----+------------+-------------------+--------+--------------------+--------------------+---------+\n",
      "\n"
     ]
    },
    {
     "name": "stderr",
     "output_type": "stream",
     "text": [
      "24/05/25 20:22:40 WARN RandomBlockReplicationPolicy: Expecting 1 replicas with only 0 peer/s.\n",
      "24/05/25 20:22:40 WARN BlockManager: Block input-0-1716661360400 replicated to only 0 peer(s) instead of 1 peers\n",
      "24/05/25 20:22:41 WARN DAGScheduler: Broadcasting large task binary with size 1407.9 KiB\n",
      "24/05/25 20:22:41 WARN DAGScheduler: Broadcasting large task binary with size 1407.9 KiB\n"
     ]
    },
    {
     "name": "stdout",
     "output_type": "stream",
     "text": [
      "+--------+--------------------+--------------------+---------------+-----+------------+-------------------+--------+--------------------+--------------------+---------+-----------+--------------------+--------------------+--------------------+--------------------+------------+----------------+--------------------+-----+--------------------+--------------------+----------+--------------------+\n",
      "|     aid|               title|                 url|         domain|votes|        user|          posted_at|comments|        source_title|         source_text|frontpage|text_length|               words|      filtered_words|         tf_features|      tfidf_features|domain_index|      domain_vec|            features|label|       rawPrediction|         probability|prediction|corrected_prediction|\n",
      "+--------+--------------------+--------------------+---------------+-----+------------+-------------------+--------+--------------------+--------------------+---------+-----------+--------------------+--------------------+--------------------+--------------------+------------+----------------+--------------------+-----+--------------------+--------------------+----------+--------------------+\n",
      "|40473531|Elon Musk slams M...|https://www.pguru...|     pgurus.com|    1|      taubek|2024-05-25 08:24:58|       0|Elon Musk Slams M...|Elon Musk Slams M...|    false|       3939|[elon, musk, slam...|[elon, musk, slam...|(10000,[4,28,32,9...|(10000,[4,28,32,9...|      2119.0|    (2119,[],[])|(12122,[4,28,32,9...|  0.0|[1.54109111757439...|[0.95615176717383...|       0.0|                 1.0|\n",
      "|40473550|Big tech has dist...|https://www.thegu...|theguardian.com|    3|    lastdong|2024-05-25 08:28:56|       0|Big tech has dist...|Big tech has dist...|     true|       7128|[big, tech, has, ...|[big, tech, distr...|(10000,[25,28,37,...|(10000,[25,28,37,...|         3.0|(2119,[3],[1.0])|(12122,[25,28,37,...|  1.0|[1.13295661459835...|[0.90601436664463...|       0.0|                 1.0|\n",
      "|40473595|Pāṇini: Catching ...|https://blog.gran...|   granthika.co|    1|stareatgoats|2024-05-25 08:34:54|       0|Pāṇini: Catching ...|Pāṇini: Catching ...|    false|      79194|[pāṇini:, catchin...|[pāṇini:, catchin...|(10000,[1,5,6,7,9...|(10000,[1,5,6,7,9...|      2119.0|    (2119,[],[])|(12122,[1,5,6,7,9...|  0.0|[1.54109111757439...|[0.95615176717383...|       0.0|                 1.0|\n",
      "+--------+--------------------+--------------------+---------------+-----+------------+-------------------+--------+--------------------+--------------------+---------+-----------+--------------------+--------------------+--------------------+--------------------+------------+----------------+--------------------+-----+--------------------+--------------------+----------+--------------------+\n",
      "\n"
     ]
    },
    {
     "name": "stderr",
     "output_type": "stream",
     "text": [
      "24/05/25 20:22:41 WARN DAGScheduler: Broadcasting large task binary with size 1407.4 KiB\n",
      "24/05/25 20:22:43 WARN RandomBlockReplicationPolicy: Expecting 1 replicas with only 0 peer/s.\n",
      "24/05/25 20:22:43 WARN BlockManager: Block input-0-1716661363400 replicated to only 0 peer(s) instead of 1 peers\n",
      "24/05/25 20:22:48 WARN RandomBlockReplicationPolicy: Expecting 1 replicas with only 0 peer/s.\n",
      "24/05/25 20:22:48 WARN BlockManager: Block input-0-1716661368400 replicated to only 0 peer(s) instead of 1 peers\n",
      "                                                                                \r"
     ]
    },
    {
     "name": "stdout",
     "output_type": "stream",
     "text": [
      "========= 2024-05-25 20:22:50 =========\n",
      "+--------+--------------------+--------------------+-------------+-----+---------+-------------------+--------+--------------------+--------------------+---------+\n",
      "|     aid|               title|                 url|       domain|votes|     user|          posted_at|comments|        source_title|         source_text|frontpage|\n",
      "+--------+--------------------+--------------------+-------------+-----+---------+-------------------+--------+--------------------+--------------------+---------+\n",
      "|40473618|Parents are getti...|https://www.shaan...|shaanpuri.com|    2|    cdcro|2024-05-25 08:38:12|       0|Your parents are ...|Your parents are ...|    false|\n",
      "|40473619|          Discipline|https://lichess.o...|  lichess.org|    1|    fzliu|2024-05-25 08:38:26|       0|          Discipline|BenjiPortheault's...|    false|\n",
      "|40473656|Three New Superco...|https://spectrum....|     ieee.org|    2|westurner|2024-05-25 08:46:35|       0|Three New Superco...|Three New Superco...|    false|\n",
      "+--------+--------------------+--------------------+-------------+-----+---------+-------------------+--------+--------------------+--------------------+---------+\n",
      "\n"
     ]
    },
    {
     "name": "stderr",
     "output_type": "stream",
     "text": [
      "24/05/25 20:22:51 WARN DAGScheduler: Broadcasting large task binary with size 1407.9 KiB\n",
      "24/05/25 20:22:51 WARN DAGScheduler: Broadcasting large task binary with size 1407.9 KiB\n"
     ]
    },
    {
     "name": "stdout",
     "output_type": "stream",
     "text": [
      "+--------+--------------------+--------------------+-------------+-----+---------+-------------------+--------+--------------------+--------------------+---------+-----------+--------------------+--------------------+--------------------+--------------------+------------+-------------------+--------------------+-----+--------------------+--------------------+----------+--------------------+\n",
      "|     aid|               title|                 url|       domain|votes|     user|          posted_at|comments|        source_title|         source_text|frontpage|text_length|               words|      filtered_words|         tf_features|      tfidf_features|domain_index|         domain_vec|            features|label|       rawPrediction|         probability|prediction|corrected_prediction|\n",
      "+--------+--------------------+--------------------+-------------+-----+---------+-------------------+--------+--------------------+--------------------+---------+-----------+--------------------+--------------------+--------------------+--------------------+------------+-------------------+--------------------+-----+--------------------+--------------------+----------+--------------------+\n",
      "|40473618|Parents are getti...|https://www.shaan...|shaanpuri.com|    2|    cdcro|2024-05-25 08:38:12|       0|Your parents are ...|Your parents are ...|    false|       7389|[your, parents, a...|[parents, getting...|(10000,[4,25,44,5...|(10000,[4,25,44,5...|      2119.0|       (2119,[],[])|(12122,[4,25,44,5...|  0.0|[1.51626740098796...|[0.95402248650278...|       0.0|                 1.0|\n",
      "|40473619|          Discipline|https://lichess.o...|  lichess.org|    1|    fzliu|2024-05-25 08:38:26|       0|          Discipline|BenjiPortheault's...|    false|       8533|[benjiportheault'...|[benjiportheault'...|(10000,[7,20,42,5...|(10000,[7,20,42,5...|      1452.0|(2119,[1452],[1.0])|(12122,[7,20,42,5...|  0.0|[1.54109111757439...|[0.95615176717383...|       0.0|                 1.0|\n",
      "|40473656|Three New Superco...|https://spectrum....|     ieee.org|    2|westurner|2024-05-25 08:46:35|       0|Three New Superco...|Three New Superco...|    false|      10456|[three, new, supe...|[three, new, supe...|(10000,[28,85,88,...|(10000,[28,85,88,...|        37.0|  (2119,[37],[1.0])|(12122,[28,85,88,...|  0.0|[1.54084072640630...|[0.95613076679455...|       0.0|                 1.0|\n",
      "+--------+--------------------+--------------------+-------------+-----+---------+-------------------+--------+--------------------+--------------------+---------+-----------+--------------------+--------------------+--------------------+--------------------+------------+-------------------+--------------------+-----+--------------------+--------------------+----------+--------------------+\n",
      "\n"
     ]
    },
    {
     "name": "stderr",
     "output_type": "stream",
     "text": [
      "24/05/25 20:22:51 WARN DAGScheduler: Broadcasting large task binary with size 1407.4 KiB\n",
      "24/05/25 20:22:51 WARN RandomBlockReplicationPolicy: Expecting 1 replicas with only 0 peer/s.\n",
      "24/05/25 20:22:51 WARN BlockManager: Block input-0-1716661371600 replicated to only 0 peer(s) instead of 1 peers\n",
      "24/05/25 20:22:56 WARN RandomBlockReplicationPolicy: Expecting 1 replicas with only 0 peer/s.\n",
      "24/05/25 20:22:56 WARN BlockManager: Block input-0-1716661376600 replicated to only 0 peer(s) instead of 1 peers\n",
      "                                                                                \r"
     ]
    },
    {
     "name": "stdout",
     "output_type": "stream",
     "text": [
      "========= 2024-05-25 20:23:00 =========\n",
      "+--------+--------------------+--------------------+----------------+-----+-----+-------------------+--------+--------------------+--------------------+---------+\n",
      "|     aid|               title|                 url|          domain|votes| user|          posted_at|comments|        source_title|         source_text|frontpage|\n",
      "+--------+--------------------+--------------------+----------------+-----+-----+-------------------+--------+--------------------+--------------------+---------+\n",
      "|40473685|What makes a coun...|https://2019.watt...|wattenberger.com|    1|tsujp|2024-05-25 08:55:03|       0| Amelia Wattenberger|Amelia Wattenberg...|    false|\n",
      "|40473704|       Singles Atlas|https://singlesat...|singlesatlas.com|    2|faebi|2024-05-25 08:59:00|       0|World singles map...|World singles map...|    false|\n",
      "+--------+--------------------+--------------------+----------------+-----+-----+-------------------+--------+--------------------+--------------------+---------+\n",
      "\n"
     ]
    },
    {
     "name": "stderr",
     "output_type": "stream",
     "text": [
      "24/05/25 20:23:00 WARN RandomBlockReplicationPolicy: Expecting 1 replicas with only 0 peer/s.\n",
      "24/05/25 20:23:00 WARN BlockManager: Block input-0-1716661380600 replicated to only 0 peer(s) instead of 1 peers\n",
      "24/05/25 20:23:01 WARN DAGScheduler: Broadcasting large task binary with size 1407.9 KiB\n",
      "24/05/25 20:23:01 WARN DAGScheduler: Broadcasting large task binary with size 1407.9 KiB\n"
     ]
    },
    {
     "name": "stdout",
     "output_type": "stream",
     "text": [
      "+--------+--------------------+--------------------+----------------+-----+-----+-------------------+--------+--------------------+--------------------+---------+-----------+--------------------+--------------------+--------------------+--------------------+------------+------------+--------------------+-----+--------------------+--------------------+----------+--------------------+\n",
      "|     aid|               title|                 url|          domain|votes| user|          posted_at|comments|        source_title|         source_text|frontpage|text_length|               words|      filtered_words|         tf_features|      tfidf_features|domain_index|  domain_vec|            features|label|       rawPrediction|         probability|prediction|corrected_prediction|\n",
      "+--------+--------------------+--------------------+----------------+-----+-----+-------------------+--------+--------------------+--------------------+---------+-----------+--------------------+--------------------+--------------------+--------------------+------------+------------+--------------------+-----+--------------------+--------------------+----------+--------------------+\n",
      "|40473685|What makes a coun...|https://2019.watt...|wattenberger.com|    1|tsujp|2024-05-25 08:55:03|       0| Amelia Wattenberger|Amelia Wattenberg...|    false|      19953|[amelia, wattenbe...|[amelia, wattenbe...|(10000,[0,1,7,9,2...|(10000,[0,1,7,9,2...|      2119.0|(2119,[],[])|(12122,[0,1,7,9,2...|  0.0|[1.54109111757439...|[0.95615176717383...|       0.0|                 1.0|\n",
      "|40473704|       Singles Atlas|https://singlesat...|singlesatlas.com|    2|faebi|2024-05-25 08:59:00|       0|World singles map...|World singles map...|    false|        148|[world, singles, ...|[world, singles, ...|(10000,[332,763,1...|(10000,[332,763,1...|      2119.0|(2119,[],[])|(12122,[332,763,1...|  0.0|[1.54109111757439...|[0.95615176717383...|       0.0|                 1.0|\n",
      "+--------+--------------------+--------------------+----------------+-----+-----+-------------------+--------+--------------------+--------------------+---------+-----------+--------------------+--------------------+--------------------+--------------------+------------+------------+--------------------+-----+--------------------+--------------------+----------+--------------------+\n",
      "\n"
     ]
    },
    {
     "name": "stderr",
     "output_type": "stream",
     "text": [
      "24/05/25 20:23:01 WARN DAGScheduler: Broadcasting large task binary with size 1407.4 KiB\n",
      "24/05/25 20:23:02 WARN RandomBlockReplicationPolicy: Expecting 1 replicas with only 0 peer/s.\n",
      "24/05/25 20:23:02 WARN BlockManager: Block input-0-1716661382600 replicated to only 0 peer(s) instead of 1 peers\n",
      "24/05/25 20:23:04 WARN RandomBlockReplicationPolicy: Expecting 1 replicas with only 0 peer/s.\n",
      "24/05/25 20:23:04 WARN BlockManager: Block input-0-1716661383800 replicated to only 0 peer(s) instead of 1 peers\n",
      "24/05/25 20:23:05 WARN RandomBlockReplicationPolicy: Expecting 1 replicas with only 0 peer/s.\n",
      "24/05/25 20:23:05 WARN BlockManager: Block input-0-1716661385600 replicated to only 0 peer(s) instead of 1 peers\n",
      "24/05/25 20:23:08 WARN RandomBlockReplicationPolicy: Expecting 1 replicas with only 0 peer/s.\n",
      "24/05/25 20:23:08 WARN BlockManager: Block input-0-1716661388600 replicated to only 0 peer(s) instead of 1 peers\n",
      "24/05/25 20:23:10 WARN RandomBlockReplicationPolicy: Expecting 1 replicas with only 0 peer/s.\n",
      "24/05/25 20:23:10 WARN BlockManager: Block input-0-1716661389800 replicated to only 0 peer(s) instead of 1 peers\n",
      "                                                                                \r"
     ]
    },
    {
     "name": "stdout",
     "output_type": "stream",
     "text": [
      "========= 2024-05-25 20:23:10 =========\n",
      "+--------+--------------------+--------------------+----------------+-----+---------------+-------------------+--------+--------------------+--------------------+---------+\n",
      "|     aid|               title|                 url|          domain|votes|           user|          posted_at|comments|        source_title|         source_text|frontpage|\n",
      "+--------+--------------------+--------------------+----------------+-----+---------------+-------------------+--------+--------------------+--------------------+---------+\n",
      "|40473725|What's New on PHP...|https://developer...| developerjoy.co|    3|        falcon_|2024-05-25 09:05:09|       0|        DeveloperJoy|What's new on PHP...|    false|\n",
      "|40473774|     From Vim to Zed|https://registers...|thorstenball.com|    2|        redbell|2024-05-25 09:16:24|       0|     From Vim to Zed|From Vim to Zed -...|    false|\n",
      "|40473791|Uvalde Families A...|https://www.nytim...|     nytimes.com|    1|        docdeek|2024-05-25 09:21:31|       0|Uvalde Families A...|Uvalde Families A...|    false|\n",
      "|40473799|Armed highway thi...|https://news.sky....|         sky.com|    1|  austinallegro|2024-05-25 09:23:08|       0|Armed highway thi...|Armed highway thi...|    false|\n",
      "|40473810|The Mechanics of ...|https://www.reute...|     reuters.com|    2|PuddleOfSausage|2024-05-25 09:25:13|       0|The mechanics of ...|How the Singapore...|    false|\n",
      "|40473836|The Penrose Triangle|https://en.wikipe...|   wikipedia.org|    1|         markx2|2024-05-25 09:34:02|       0|    Penrose triangle|Penrose triangle ...|    false|\n",
      "+--------+--------------------+--------------------+----------------+-----+---------------+-------------------+--------+--------------------+--------------------+---------+\n",
      "\n"
     ]
    },
    {
     "name": "stderr",
     "output_type": "stream",
     "text": [
      "24/05/25 20:23:11 WARN DAGScheduler: Broadcasting large task binary with size 1407.9 KiB\n",
      "24/05/25 20:23:11 WARN DAGScheduler: Broadcasting large task binary with size 1407.9 KiB\n",
      "24/05/25 20:23:11 WARN DAGScheduler: Broadcasting large task binary with size 1407.9 KiB\n",
      "24/05/25 20:23:11 WARN DAGScheduler: Broadcasting large task binary with size 1407.4 KiB\n"
     ]
    },
    {
     "name": "stdout",
     "output_type": "stream",
     "text": [
      "+--------+--------------------+--------------------+----------------+-----+---------------+-------------------+--------+--------------------+--------------------+---------+-----------+--------------------+--------------------+--------------------+--------------------+------------+-------------------+--------------------+-----+--------------------+--------------------+----------+--------------------+\n",
      "|     aid|               title|                 url|          domain|votes|           user|          posted_at|comments|        source_title|         source_text|frontpage|text_length|               words|      filtered_words|         tf_features|      tfidf_features|domain_index|         domain_vec|            features|label|       rawPrediction|         probability|prediction|corrected_prediction|\n",
      "+--------+--------------------+--------------------+----------------+-----+---------------+-------------------+--------+--------------------+--------------------+---------+-----------+--------------------+--------------------+--------------------+--------------------+------------+-------------------+--------------------+-----+--------------------+--------------------+----------+--------------------+\n",
      "|40473725|What's New on PHP...|https://developer...| developerjoy.co|    3|        falcon_|2024-05-25 09:05:09|       0|        DeveloperJoy|What's new on PHP...|    false|       6270|[what's, new, on,...|[new, php, 8.4, -...|(10000,[7,13,24,5...|(10000,[7,13,24,5...|       965.0| (2119,[965],[1.0])|(12122,[7,13,24,5...|  0.0|[-0.1569992893675...|[0.42213903241927...|       1.0|                 0.0|\n",
      "|40473774|     From Vim to Zed|https://registers...|thorstenball.com|    2|        redbell|2024-05-25 09:16:24|       0|     From Vim to Zed|From Vim to Zed -...|    false|       8750|[from, vim, to, z...|[vim, zed, -, tho...|(10000,[4,7,44,55...|(10000,[4,7,44,55...|      1937.0|(2119,[1937],[1.0])|(12122,[4,7,44,55...|  0.0|[1.54109111757439...|[0.95615176717383...|       0.0|                 1.0|\n",
      "|40473791|Uvalde Families A...|https://www.nytim...|     nytimes.com|    1|        docdeek|2024-05-25 09:21:31|       0|Uvalde Families A...|Uvalde Families A...|    false|      28363|[uvalde, families...|[uvalde, families...|(10000,[7,8,9,17,...|(10000,[7,8,9,17,...|         8.0|   (2119,[8],[1.0])|(12122,[7,8,9,17,...|  0.0|[1.54109111757439...|[0.95615176717383...|       0.0|                 1.0|\n",
      "|40473799|Armed highway thi...|https://news.sky....|         sky.com|    1|  austinallegro|2024-05-25 09:23:08|       0|Armed highway thi...|Armed highway thi...|    false|       2241|[armed, highway, ...|[armed, highway, ...|(10000,[58,188,20...|(10000,[58,188,20...|      1831.0|(2119,[1831],[1.0])|(12122,[58,188,20...|  0.0|[1.54109111757439...|[0.95615176717383...|       0.0|                 1.0|\n",
      "|40473810|The Mechanics of ...|https://www.reute...|     reuters.com|    2|PuddleOfSausage|2024-05-25 09:25:13|       0|The mechanics of ...|How the Singapore...|    false|       8883|[how, the, singap...|[singapore, airli...|(10000,[32,34,35,...|(10000,[32,34,35,...|        10.0|  (2119,[10],[1.0])|(12122,[32,34,35,...|  0.0|[1.54109111757439...|[0.95615176717383...|       0.0|                 1.0|\n",
      "|40473836|The Penrose Triangle|https://en.wikipe...|   wikipedia.org|    1|         markx2|2024-05-25 09:34:02|       0|    Penrose triangle|Penrose triangle ...|    false|       8796|[penrose, triangl...|[penrose, triangl...|(10000,[4,13,23,2...|(10000,[4,13,23,2...|         4.0|   (2119,[4],[1.0])|(12122,[4,13,23,2...|  0.0|[1.54109111757439...|[0.95615176717383...|       0.0|                 1.0|\n",
      "+--------+--------------------+--------------------+----------------+-----+---------------+-------------------+--------+--------------------+--------------------+---------+-----------+--------------------+--------------------+--------------------+--------------------+------------+-------------------+--------------------+-----+--------------------+--------------------+----------+--------------------+\n",
      "\n"
     ]
    },
    {
     "name": "stderr",
     "output_type": "stream",
     "text": [
      "24/05/25 20:23:13 WARN RandomBlockReplicationPolicy: Expecting 1 replicas with only 0 peer/s.\n",
      "24/05/25 20:23:13 WARN BlockManager: Block input-0-1716661392800 replicated to only 0 peer(s) instead of 1 peers\n",
      "24/05/25 20:23:14 WARN RandomBlockReplicationPolicy: Expecting 1 replicas with only 0 peer/s.\n",
      "24/05/25 20:23:14 WARN BlockManager: Block input-0-1716661393800 replicated to only 0 peer(s) instead of 1 peers\n",
      "24/05/25 20:23:17 WARN RandomBlockReplicationPolicy: Expecting 1 replicas with only 0 peer/s.\n",
      "24/05/25 20:23:17 WARN BlockManager: Block input-0-1716661397000 replicated to only 0 peer(s) instead of 1 peers\n",
      "                                                                                \r"
     ]
    },
    {
     "name": "stdout",
     "output_type": "stream",
     "text": [
      "========= 2024-05-25 20:23:20 =========\n",
      "+--------+--------------------+--------------------+--------------------+-----+-----------+-------------------+--------+--------------------+--------------------+---------+\n",
      "|     aid|               title|                 url|              domain|votes|       user|          posted_at|comments|        source_title|         source_text|frontpage|\n",
      "+--------+--------------------+--------------------+--------------------+-----+-----------+-------------------+--------+--------------------+--------------------+---------+\n",
      "|40473855|Interior design c...|https://algedra.a...|          algedra.ae|    1|ameliaalana|2024-05-25 09:37:55|       0|Best Interior Des...|Best Interior Des...|    false|\n",
      "|40473876|            SmidgION|https://nanoporet...|    nanoporetech.com|    1|   pr337h4m|2024-05-25 09:42:15|       0|            SmidgION|SmidgION | Oxford...|    false|\n",
      "|40473889|\"The mother of al...|https://github.co...|github.com/gothin...|    1|  probhavsh|2024-05-25 09:43:49|       0|GitHub - gothinks...|GitHub - gothinks...|    false|\n",
      "+--------+--------------------+--------------------+--------------------+-----+-----------+-------------------+--------+--------------------+--------------------+---------+\n",
      "\n"
     ]
    },
    {
     "name": "stderr",
     "output_type": "stream",
     "text": [
      "24/05/25 20:23:21 WARN DAGScheduler: Broadcasting large task binary with size 1407.9 KiB\n",
      "24/05/25 20:23:21 WARN DAGScheduler: Broadcasting large task binary with size 1407.9 KiB\n"
     ]
    },
    {
     "name": "stdout",
     "output_type": "stream",
     "text": [
      "+--------+--------------------+--------------------+--------------------+-----+-----------+-------------------+--------+--------------------+--------------------+---------+-----------+--------------------+--------------------+--------------------+--------------------+------------+------------------+--------------------+-----+--------------------+--------------------+----------+--------------------+\n",
      "|     aid|               title|                 url|              domain|votes|       user|          posted_at|comments|        source_title|         source_text|frontpage|text_length|               words|      filtered_words|         tf_features|      tfidf_features|domain_index|        domain_vec|            features|label|       rawPrediction|         probability|prediction|corrected_prediction|\n",
      "+--------+--------------------+--------------------+--------------------+-----+-----------+-------------------+--------+--------------------+--------------------+---------+-----------+--------------------+--------------------+--------------------+--------------------+------------+------------------+--------------------+-----+--------------------+--------------------+----------+--------------------+\n",
      "|40473855|Interior design c...|https://algedra.a...|          algedra.ae|    1|ameliaalana|2024-05-25 09:37:55|       0|Best Interior Des...|Best Interior Des...|    false|       9006|[best, interior, ...|[best, interior, ...|(10000,[22,28,48,...|(10000,[22,28,48,...|       431.0|(2119,[431],[1.0])|(12122,[22,28,48,...|  0.0|[1.54109111757439...|[0.95615176717383...|       0.0|                 1.0|\n",
      "|40473876|            SmidgION|https://nanoporet...|    nanoporetech.com|    1|   pr337h4m|2024-05-25 09:42:15|       0|            SmidgION|SmidgION | Oxford...|    false|       6232|[smidgion, |, oxf...|[smidgion, |, oxf...|(10000,[28,46,57,...|(10000,[28,46,57,...|      2119.0|      (2119,[],[])|(12122,[28,46,57,...|  0.0|[1.54109111757439...|[0.95615176717383...|       0.0|                 1.0|\n",
      "|40473889|\"The mother of al...|https://github.co...|github.com/gothin...|    1|  probhavsh|2024-05-25 09:43:49|       0|GitHub - gothinks...|GitHub - gothinks...|    false|       6707|[github, -, gothi...|[github, -, gothi...|(10000,[8,32,193,...|(10000,[8,32,193,...|      2119.0|      (2119,[],[])|(12122,[8,32,193,...|  0.0|[1.54109111757439...|[0.95615176717383...|       0.0|                 1.0|\n",
      "+--------+--------------------+--------------------+--------------------+-----+-----------+-------------------+--------+--------------------+--------------------+---------+-----------+--------------------+--------------------+--------------------+--------------------+------------+------------------+--------------------+-----+--------------------+--------------------+----------+--------------------+\n",
      "\n"
     ]
    },
    {
     "name": "stderr",
     "output_type": "stream",
     "text": [
      "24/05/25 20:23:21 WARN DAGScheduler: Broadcasting large task binary with size 1407.4 KiB\n",
      "24/05/25 20:24:20 WARN RandomBlockReplicationPolicy: Expecting 1 replicas with only 0 peer/s.\n",
      "24/05/25 20:24:20 WARN BlockManager: Block input-0-1716661460000 replicated to only 0 peer(s) instead of 1 peers\n",
      "24/05/25 20:24:22 WARN RandomBlockReplicationPolicy: Expecting 1 replicas with only 0 peer/s.\n",
      "24/05/25 20:24:22 WARN BlockManager: Block input-0-1716661462000 replicated to only 0 peer(s) instead of 1 peers\n",
      "24/05/25 20:24:26 WARN RandomBlockReplicationPolicy: Expecting 1 replicas with only 0 peer/s.\n",
      "24/05/25 20:24:26 WARN BlockManager: Block input-0-1716661466000 replicated to only 0 peer(s) instead of 1 peers\n",
      "24/05/25 20:24:30 WARN RandomBlockReplicationPolicy: Expecting 1 replicas with only 0 peer/s.\n",
      "24/05/25 20:24:30 WARN BlockManager: Block input-0-1716661470000 replicated to only 0 peer(s) instead of 1 peers\n"
     ]
    },
    {
     "name": "stdout",
     "output_type": "stream",
     "text": [
      "========= 2024-05-25 20:24:30 =========\n",
      "+--------+--------------------+--------------------+--------------------+-----+---------------+-------------------+--------+--------------------+--------------------+---------+\n",
      "|     aid|               title|                 url|              domain|votes|           user|          posted_at|comments|        source_title|         source_text|frontpage|\n",
      "+--------+--------------------+--------------------+--------------------+-----+---------------+-------------------+--------+--------------------+--------------------+---------+\n",
      "|40473909|Last major Arabic...|https://www.thegu...|     theguardian.com|    4|YeGoblynQueenne|2024-05-25 09:48:52|       0|Last major Arabic...|Last major Arabic...|     true|\n",
      "|40473916|    Nushell Bashisms|https://www.nushe...|          nushell.sh|    1|           tosh|2024-05-25 09:50:54|       0|Nushell Bashisms ...|Nushell Bashisms ...|    false|\n",
      "|40473923|Daylight – A More...|https://daylightc...|daylightcomputer.com|    1|           gavi|2024-05-25 09:52:54|       0|Daylight | A More...|Daylight | A More...|    false|\n",
      "+--------+--------------------+--------------------+--------------------+-----+---------------+-------------------+--------+--------------------+--------------------+---------+\n",
      "\n"
     ]
    },
    {
     "name": "stderr",
     "output_type": "stream",
     "text": [
      "24/05/25 20:24:31 WARN DAGScheduler: Broadcasting large task binary with size 1407.9 KiB\n",
      "24/05/25 20:24:31 WARN DAGScheduler: Broadcasting large task binary with size 1407.9 KiB\n"
     ]
    },
    {
     "name": "stdout",
     "output_type": "stream",
     "text": [
      "+--------+--------------------+--------------------+--------------------+-----+---------------+-------------------+--------+--------------------+--------------------+---------+-----------+--------------------+--------------------+--------------------+--------------------+------------+----------------+--------------------+-----+--------------------+--------------------+----------+--------------------+\n",
      "|     aid|               title|                 url|              domain|votes|           user|          posted_at|comments|        source_title|         source_text|frontpage|text_length|               words|      filtered_words|         tf_features|      tfidf_features|domain_index|      domain_vec|            features|label|       rawPrediction|         probability|prediction|corrected_prediction|\n",
      "+--------+--------------------+--------------------+--------------------+-----+---------------+-------------------+--------+--------------------+--------------------+---------+-----------+--------------------+--------------------+--------------------+--------------------+------------+----------------+--------------------+-----+--------------------+--------------------+----------+--------------------+\n",
      "|40473909|Last major Arabic...|https://www.thegu...|     theguardian.com|    4|YeGoblynQueenne|2024-05-25 09:48:52|       0|Last major Arabic...|Last major Arabic...|     true|       9495|[last, major, ara...|[last, major, ara...|(10000,[15,20,28,...|(10000,[15,20,28,...|         3.0|(2119,[3],[1.0])|(12122,[15,20,28,...|  1.0|[-0.9107283917800...|[0.13925916229020...|       1.0|                 0.0|\n",
      "|40473916|    Nushell Bashisms|https://www.nushe...|          nushell.sh|    1|           tosh|2024-05-25 09:50:54|       0|Nushell Bashisms ...|Nushell Bashisms ...|    false|        999|[nushell, bashism...|[nushell, bashism...|(10000,[399,513,5...|(10000,[399,513,5...|      2119.0|    (2119,[],[])|(12122,[399,513,5...|  0.0|[1.54109111757439...|[0.95615176717383...|       0.0|                 1.0|\n",
      "|40473923|Daylight – A More...|https://daylightc...|daylightcomputer.com|    1|           gavi|2024-05-25 09:52:54|       0|Daylight | A More...|Daylight | A More...|    false|       3733|[daylight, |, a, ...|[daylight, |, car...|(10000,[4,15,44,1...|(10000,[4,15,44,1...|      2119.0|    (2119,[],[])|(12122,[4,15,44,1...|  0.0|[1.54109111757439...|[0.95615176717383...|       0.0|                 1.0|\n",
      "+--------+--------------------+--------------------+--------------------+-----+---------------+-------------------+--------+--------------------+--------------------+---------+-----------+--------------------+--------------------+--------------------+--------------------+------------+----------------+--------------------+-----+--------------------+--------------------+----------+--------------------+\n",
      "\n"
     ]
    },
    {
     "name": "stderr",
     "output_type": "stream",
     "text": [
      "24/05/25 20:24:31 WARN DAGScheduler: Broadcasting large task binary with size 1407.4 KiB\n",
      "24/05/25 20:24:35 WARN RandomBlockReplicationPolicy: Expecting 1 replicas with only 0 peer/s.\n",
      "24/05/25 20:24:35 WARN BlockManager: Block input-0-1716661475000 replicated to only 0 peer(s) instead of 1 peers\n",
      "24/05/25 20:24:40 WARN RandomBlockReplicationPolicy: Expecting 1 replicas with only 0 peer/s.\n",
      "24/05/25 20:24:40 WARN BlockManager: Block input-0-1716661480000 replicated to only 0 peer(s) instead of 1 peers\n"
     ]
    },
    {
     "name": "stdout",
     "output_type": "stream",
     "text": [
      "========= 2024-05-25 20:24:40 =========\n",
      "+--------+--------------------+--------------------+------------+-----+------------+-------------------+--------+--------------------+--------------------+---------+\n",
      "|     aid|               title|                 url|      domain|votes|        user|          posted_at|comments|        source_title|         source_text|frontpage|\n",
      "+--------+--------------------+--------------------+------------+-----+------------+-------------------+--------+--------------------+--------------------+---------+\n",
      "|40473935|Installing Adobe'...|https://linuxtech...|linuxtech.in|    3|avinvarghese|2024-05-25 09:56:08|       0|Installing Adobe'...|Installing Adobe'...|    false|\n",
      "|40473950|Boeing 737-9 MAX ...|https://www.bosto...|  boston.com|    3|     hosteur|2024-05-25 10:00:10|       0|Boston flight mak...|Boston flight mak...|    false|\n",
      "+--------+--------------------+--------------------+------------+-----+------------+-------------------+--------+--------------------+--------------------+---------+\n",
      "\n"
     ]
    },
    {
     "name": "stderr",
     "output_type": "stream",
     "text": [
      "24/05/25 20:24:41 WARN DAGScheduler: Broadcasting large task binary with size 1407.9 KiB\n",
      "24/05/25 20:24:41 WARN DAGScheduler: Broadcasting large task binary with size 1407.9 KiB\n"
     ]
    },
    {
     "name": "stdout",
     "output_type": "stream",
     "text": [
      "+--------+--------------------+--------------------+------------+-----+------------+-------------------+--------+--------------------+--------------------+---------+-----------+--------------------+--------------------+--------------------+--------------------+------------+------------+--------------------+-----+--------------------+--------------------+----------+--------------------+\n",
      "|     aid|               title|                 url|      domain|votes|        user|          posted_at|comments|        source_title|         source_text|frontpage|text_length|               words|      filtered_words|         tf_features|      tfidf_features|domain_index|  domain_vec|            features|label|       rawPrediction|         probability|prediction|corrected_prediction|\n",
      "+--------+--------------------+--------------------+------------+-----+------------+-------------------+--------+--------------------+--------------------+---------+-----------+--------------------+--------------------+--------------------+--------------------+------------+------------+--------------------+-----+--------------------+--------------------+----------+--------------------+\n",
      "|40473935|Installing Adobe'...|https://linuxtech...|linuxtech.in|    3|avinvarghese|2024-05-25 09:56:08|       0|Installing Adobe'...|Installing Adobe'...|    false|       4825|[installing, adob...|[installing, adob...|(10000,[28,32,44,...|(10000,[28,32,44,...|      2119.0|(2119,[],[])|(12122,[28,32,44,...|  0.0|[1.04115024288904...|[0.88917093995833...|       0.0|                 1.0|\n",
      "|40473950|Boeing 737-9 MAX ...|https://www.bosto...|  boston.com|    3|     hosteur|2024-05-25 10:00:10|       0|Boston flight mak...|Boston flight mak...|    false|      15719|[boston, flight, ...|[boston, flight, ...|(10000,[4,6,39,70...|(10000,[4,6,39,70...|      2119.0|(2119,[],[])|(12122,[4,6,39,70...|  0.0|[-0.7227504573708...|[0.19069494549812...|       1.0|                 0.0|\n",
      "+--------+--------------------+--------------------+------------+-----+------------+-------------------+--------+--------------------+--------------------+---------+-----------+--------------------+--------------------+--------------------+--------------------+------------+------------+--------------------+-----+--------------------+--------------------+----------+--------------------+\n",
      "\n"
     ]
    },
    {
     "name": "stderr",
     "output_type": "stream",
     "text": [
      "24/05/25 20:24:41 WARN DAGScheduler: Broadcasting large task binary with size 1407.4 KiB\n",
      "24/05/25 20:24:43 WARN RandomBlockReplicationPolicy: Expecting 1 replicas with only 0 peer/s.\n",
      "24/05/25 20:24:43 WARN BlockManager: Block input-0-1716661483000 replicated to only 0 peer(s) instead of 1 peers\n",
      "24/05/25 20:24:47 WARN RandomBlockReplicationPolicy: Expecting 1 replicas with only 0 peer/s.\n",
      "24/05/25 20:24:47 WARN BlockManager: Block input-0-1716661487000 replicated to only 0 peer(s) instead of 1 peers\n",
      "24/05/25 20:24:48 WARN RandomBlockReplicationPolicy: Expecting 1 replicas with only 0 peer/s.\n",
      "24/05/25 20:24:48 WARN BlockManager: Block input-0-1716661488200 replicated to only 0 peer(s) instead of 1 peers\n",
      "                                                                                \r"
     ]
    },
    {
     "name": "stdout",
     "output_type": "stream",
     "text": [
      "========= 2024-05-25 20:24:50 =========\n",
      "+--------+--------------------+--------------------+---------------+-----+-----------+-------------------+--------+--------------------+--------------------+---------+\n",
      "|     aid|               title|                 url|         domain|votes|       user|          posted_at|comments|        source_title|         source_text|frontpage|\n",
      "+--------+--------------------+--------------------+---------------+-----+-----------+-------------------+--------+--------------------+--------------------+---------+\n",
      "|40473961|How the German co...|https://www.dw.co...|         dw.com|    2|       tosh|2024-05-25 10:05:03|       0|How the German co...|How the German co...|    false|\n",
      "|40473984|Show HN: LaraDocs...|https://laradocs.dev|   laradocs.dev|    1|   TonnnnUK|2024-05-25 10:13:27|       0|            LaraDocs|LaraDocs - Larave...|    false|\n",
      "|40474019|Deploying Perl Da...|https://www.perl....|       perl.com|    1|thunderbong|2024-05-25 10:22:49|       0|Deploying Dancer ...|Deploying Dancer ...|    false|\n",
      "|40474021|A Woman Who Left ...|https://bikepacki...|bikepacking.com|    5|     latexr|2024-05-25 10:23:54|       0|A Woman Who Left ...|Weighing in on \"M...|     true|\n",
      "+--------+--------------------+--------------------+---------------+-----+-----------+-------------------+--------+--------------------+--------------------+---------+\n",
      "\n"
     ]
    },
    {
     "name": "stderr",
     "output_type": "stream",
     "text": [
      "24/05/25 20:24:50 WARN RandomBlockReplicationPolicy: Expecting 1 replicas with only 0 peer/s.\n",
      "24/05/25 20:24:50 WARN BlockManager: Block input-0-1716661490200 replicated to only 0 peer(s) instead of 1 peers\n",
      "24/05/25 20:24:51 WARN DAGScheduler: Broadcasting large task binary with size 1407.9 KiB\n",
      "24/05/25 20:24:51 WARN DAGScheduler: Broadcasting large task binary with size 1407.9 KiB\n"
     ]
    },
    {
     "name": "stdout",
     "output_type": "stream",
     "text": [
      "+--------+--------------------+--------------------+---------------+-----+-----------+-------------------+--------+--------------------+--------------------+---------+-----------+--------------------+--------------------+--------------------+--------------------+------------+------------------+--------------------+-----+--------------------+--------------------+----------+--------------------+\n",
      "|     aid|               title|                 url|         domain|votes|       user|          posted_at|comments|        source_title|         source_text|frontpage|text_length|               words|      filtered_words|         tf_features|      tfidf_features|domain_index|        domain_vec|            features|label|       rawPrediction|         probability|prediction|corrected_prediction|\n",
      "+--------+--------------------+--------------------+---------------+-----+-----------+-------------------+--------+--------------------+--------------------+---------+-----------+--------------------+--------------------+--------------------+--------------------+------------+------------------+--------------------+-----+--------------------+--------------------+----------+--------------------+\n",
      "|40473961|How the German co...|https://www.dw.co...|         dw.com|    2|       tosh|2024-05-25 10:05:03|       0|How the German co...|How the German co...|    false|       7729|[how, the, german...|[german, cockroac...|(10000,[15,24,45,...|(10000,[15,24,45,...|       302.0|(2119,[302],[1.0])|(12122,[15,24,45,...|  0.0|[1.54109111757439...|[0.95615176717383...|       0.0|                 1.0|\n",
      "|40473984|Show HN: LaraDocs...|https://laradocs.dev|   laradocs.dev|    1|   TonnnnUK|2024-05-25 10:13:27|       0|            LaraDocs|LaraDocs - Larave...|    false|        582|[laradocs, -, lar...|[laradocs, -, lar...|(10000,[169,284,4...|(10000,[169,284,4...|      2119.0|      (2119,[],[])|(12122,[169,284,4...|  0.0|[1.54109111757439...|[0.95615176717383...|       0.0|                 1.0|\n",
      "|40474019|Deploying Perl Da...|https://www.perl....|       perl.com|    1|thunderbong|2024-05-25 10:22:49|       0|Deploying Dancer ...|Deploying Dancer ...|    false|       9572|[deploying, dance...|[deploying, dance...|(10000,[15,32,44,...|(10000,[15,32,44,...|      2119.0|      (2119,[],[])|(12122,[15,32,44,...|  0.0|[1.54109111757439...|[0.95615176717383...|       0.0|                 1.0|\n",
      "|40474021|A Woman Who Left ...|https://bikepacki...|bikepacking.com|    5|     latexr|2024-05-25 10:23:54|       0|A Woman Who Left ...|Weighing in on \"M...|     true|      19906|[weighing, in, on...|[weighing, \"man, ...|(10000,[3,4,5,7,1...|(10000,[3,4,5,7,1...|      2119.0|      (2119,[],[])|(12122,[3,4,5,7,1...|  1.0|[-1.2488678133620...|[0.07601707353942...|       1.0|                 0.0|\n",
      "+--------+--------------------+--------------------+---------------+-----+-----------+-------------------+--------+--------------------+--------------------+---------+-----------+--------------------+--------------------+--------------------+--------------------+------------+------------------+--------------------+-----+--------------------+--------------------+----------+--------------------+\n",
      "\n"
     ]
    },
    {
     "name": "stderr",
     "output_type": "stream",
     "text": [
      "24/05/25 20:24:51 WARN DAGScheduler: Broadcasting large task binary with size 1407.4 KiB\n",
      "24/05/25 20:24:55 WARN RandomBlockReplicationPolicy: Expecting 1 replicas with only 0 peer/s.\n",
      "24/05/25 20:24:55 WARN BlockManager: Block input-0-1716661495200 replicated to only 0 peer(s) instead of 1 peers\n",
      "24/05/25 20:24:56 WARN RandomBlockReplicationPolicy: Expecting 1 replicas with only 0 peer/s.\n",
      "24/05/25 20:24:56 WARN BlockManager: Block input-0-1716661496200 replicated to only 0 peer(s) instead of 1 peers\n",
      "                                                                                \r"
     ]
    },
    {
     "name": "stdout",
     "output_type": "stream",
     "text": [
      "========= 2024-05-25 20:25:00 =========\n",
      "+--------+--------------------+--------------------+-----------------+-----+----------+-------------------+--------+--------------------+--------------------+---------+\n",
      "|     aid|               title|                 url|           domain|votes|      user|          posted_at|comments|        source_title|         source_text|frontpage|\n",
      "+--------+--------------------+--------------------+-----------------+-----+----------+-------------------+--------+--------------------+--------------------+---------+\n",
      "|40474023|Front Crawl Swimm...|https://www.scien...|sciencedirect.com|    1|      wslh|2024-05-25 10:24:02|       0|       ScienceDirect|ScienceDirect\\n\\n...|    false|\n",
      "|40474048|California city p...|https://www.thegu...|  theguardian.com|    2|passwordle|2024-05-25 10:28:24|       0|‘Psychologically ...|‘Psychologically ...|    false|\n",
      "|40474049|Google once again...|https://www.genig...|    genigears.com|    5| zerohedge|2024-05-25 10:28:57|       2|Google's AI Overv...|Google's AI Overv...|    false|\n",
      "+--------+--------------------+--------------------+-----------------+-----+----------+-------------------+--------+--------------------+--------------------+---------+\n",
      "\n"
     ]
    },
    {
     "name": "stderr",
     "output_type": "stream",
     "text": [
      "24/05/25 20:25:01 WARN DAGScheduler: Broadcasting large task binary with size 1407.9 KiB\n",
      "24/05/25 20:25:01 WARN DAGScheduler: Broadcasting large task binary with size 1407.9 KiB\n"
     ]
    },
    {
     "name": "stdout",
     "output_type": "stream",
     "text": [
      "+--------+--------------------+--------------------+-----------------+-----+----------+-------------------+--------+--------------------+--------------------+---------+-----------+--------------------+--------------------+--------------------+--------------------+------------+------------------+--------------------+-----+--------------------+--------------------+----------+--------------------+\n",
      "|     aid|               title|                 url|           domain|votes|      user|          posted_at|comments|        source_title|         source_text|frontpage|text_length|               words|      filtered_words|         tf_features|      tfidf_features|domain_index|        domain_vec|            features|label|       rawPrediction|         probability|prediction|corrected_prediction|\n",
      "+--------+--------------------+--------------------+-----------------+-----+----------+-------------------+--------+--------------------+--------------------+---------+-----------+--------------------+--------------------+--------------------+--------------------+------------+------------------+--------------------+-----+--------------------+--------------------+----------+--------------------+\n",
      "|40474023|Front Crawl Swimm...|https://www.scien...|sciencedirect.com|    1|      wslh|2024-05-25 10:24:02|       0|       ScienceDirect|ScienceDirect\\n\\n...|    false|        648|[sciencedirect, ,...|[sciencedirect, ,...|(10000,[290,948,1...|(10000,[290,948,1...|       178.0|(2119,[178],[1.0])|(12122,[290,948,1...|  0.0|[1.54109111757439...|[0.95615176717383...|       0.0|                 1.0|\n",
      "|40474048|California city p...|https://www.thegu...|  theguardian.com|    2|passwordle|2024-05-25 10:28:24|       0|‘Psychologically ...|‘Psychologically ...|    false|       9289|[‘psychologically...|[‘psychologically...|(10000,[28,34,69,...|(10000,[28,34,69,...|         3.0|  (2119,[3],[1.0])|(12122,[28,34,69,...|  0.0|[1.54109111757439...|[0.95615176717383...|       0.0|                 1.0|\n",
      "|40474049|Google once again...|https://www.genig...|    genigears.com|    5| zerohedge|2024-05-25 10:28:57|       2|Google's AI Overv...|Google's AI Overv...|    false|       2638|[google's, ai, ov...|[google's, ai, ov...|(10000,[7,167,231...|(10000,[7,167,231...|      2119.0|      (2119,[],[])|(12122,[7,167,231...|  0.0|[-1.2488678133620...|[0.07601707353942...|       1.0|                 0.0|\n",
      "+--------+--------------------+--------------------+-----------------+-----+----------+-------------------+--------+--------------------+--------------------+---------+-----------+--------------------+--------------------+--------------------+--------------------+------------+------------------+--------------------+-----+--------------------+--------------------+----------+--------------------+\n",
      "\n"
     ]
    },
    {
     "name": "stderr",
     "output_type": "stream",
     "text": [
      "24/05/25 20:25:01 WARN DAGScheduler: Broadcasting large task binary with size 1407.4 KiB\n",
      "24/05/25 20:25:01 WARN RandomBlockReplicationPolicy: Expecting 1 replicas with only 0 peer/s.\n",
      "24/05/25 20:25:01 WARN BlockManager: Block input-0-1716661501200 replicated to only 0 peer(s) instead of 1 peers\n",
      "24/05/25 20:25:05 WARN RandomBlockReplicationPolicy: Expecting 1 replicas with only 0 peer/s.\n",
      "24/05/25 20:25:05 WARN BlockManager: Block input-0-1716661505200 replicated to only 0 peer(s) instead of 1 peers\n",
      "24/05/25 20:25:06 WARN RandomBlockReplicationPolicy: Expecting 1 replicas with only 0 peer/s.\n",
      "24/05/25 20:25:06 WARN BlockManager: Block input-0-1716661506400 replicated to only 0 peer(s) instead of 1 peers\n",
      "                                                                                \r"
     ]
    },
    {
     "name": "stdout",
     "output_type": "stream",
     "text": [
      "========= 2024-05-25 20:25:10 =========\n",
      "+--------+--------------------+--------------------+------------------+-----+--------+-------------------+--------+--------------------+--------------------+---------+\n",
      "|     aid|               title|                 url|            domain|votes|    user|          posted_at|comments|        source_title|         source_text|frontpage|\n",
      "+--------+--------------------+--------------------+------------------+-----+--------+-------------------+--------+--------------------+--------------------+---------+\n",
      "|40474051|Using a light air...|http://www.stepha...|stephan-schwab.com|    1|mpweiher|2024-05-25 10:29:36|       0|Using a light air...|Using a light air...|    false|\n",
      "|40474052|Trees and Dags in...|https://soundness...|     soundness.dev|    3|  cbeach|2024-05-25 10:29:39|       0|Soundness: Dendro...|Soundness: Dendro...|    false|\n",
      "|40474057|Framework for Int...|https://www.mdpi....|          mdpi.com|    2|    wslh|2024-05-25 10:30:07|       0|Framework for Int...|Sensors | Free Fu...|    false|\n",
      "+--------+--------------------+--------------------+------------------+-----+--------+-------------------+--------+--------------------+--------------------+---------+\n",
      "\n"
     ]
    },
    {
     "name": "stderr",
     "output_type": "stream",
     "text": [
      "24/05/25 20:25:10 WARN RandomBlockReplicationPolicy: Expecting 1 replicas with only 0 peer/s.\n",
      "24/05/25 20:25:10 WARN BlockManager: Block input-0-1716661510200 replicated to only 0 peer(s) instead of 1 peers\n",
      "24/05/25 20:25:11 WARN DAGScheduler: Broadcasting large task binary with size 1407.9 KiB\n",
      "24/05/25 20:25:11 WARN DAGScheduler: Broadcasting large task binary with size 1407.9 KiB\n"
     ]
    },
    {
     "name": "stdout",
     "output_type": "stream",
     "text": [
      "+--------+--------------------+--------------------+------------------+-----+--------+-------------------+--------+--------------------+--------------------+---------+-----------+--------------------+--------------------+--------------------+--------------------+------------+-----------------+--------------------+-----+--------------------+--------------------+----------+--------------------+\n",
      "|     aid|               title|                 url|            domain|votes|    user|          posted_at|comments|        source_title|         source_text|frontpage|text_length|               words|      filtered_words|         tf_features|      tfidf_features|domain_index|       domain_vec|            features|label|       rawPrediction|         probability|prediction|corrected_prediction|\n",
      "+--------+--------------------+--------------------+------------------+-----+--------+-------------------+--------+--------------------+--------------------+---------+-----------+--------------------+--------------------+--------------------+--------------------+------------+-----------------+--------------------+-----+--------------------+--------------------+----------+--------------------+\n",
      "|40474051|Using a light air...|http://www.stepha...|stephan-schwab.com|    1|mpweiher|2024-05-25 10:29:36|       0|Using a light air...|Using a light air...|    false|       7801|[using, a, light,...|[using, light, ai...|(10000,[1,6,15,27...|(10000,[1,6,15,27...|      2119.0|     (2119,[],[])|(12122,[1,6,15,27...|  0.0|[1.54109111757439...|[0.95615176717383...|       0.0|                 1.0|\n",
      "|40474052|Trees and Dags in...|https://soundness...|     soundness.dev|    3|  cbeach|2024-05-25 10:29:39|       0|Soundness: Dendro...|Soundness: Dendro...|    false|       6653|[soundness:, dend...|[soundness:, dend...|(10000,[57,64,65,...|(10000,[57,64,65,...|      2119.0|     (2119,[],[])|(12122,[57,64,65,...|  0.0|[-0.3019591369170...|[0.35344776694192...|       1.0|                 0.0|\n",
      "|40474057|Framework for Int...|https://www.mdpi....|          mdpi.com|    2|    wslh|2024-05-25 10:30:07|       0|Framework for Int...|Sensors | Free Fu...|    false|      78340|[sensors, |, free...|[sensors, |, free...|(10000,[1,6,7,8,9...|(10000,[1,6,7,8,9...|        86.0|(2119,[86],[1.0])|(12122,[1,6,7,8,9...|  0.0|[1.54109111757439...|[0.95615176717383...|       0.0|                 1.0|\n",
      "+--------+--------------------+--------------------+------------------+-----+--------+-------------------+--------+--------------------+--------------------+---------+-----------+--------------------+--------------------+--------------------+--------------------+------------+-----------------+--------------------+-----+--------------------+--------------------+----------+--------------------+\n",
      "\n"
     ]
    },
    {
     "name": "stderr",
     "output_type": "stream",
     "text": [
      "24/05/25 20:25:11 WARN DAGScheduler: Broadcasting large task binary with size 1407.4 KiB\n",
      "24/05/25 20:25:11 WARN RandomBlockReplicationPolicy: Expecting 1 replicas with only 0 peer/s.\n",
      "24/05/25 20:25:11 WARN BlockManager: Block input-0-1716661511400 replicated to only 0 peer(s) instead of 1 peers\n",
      "24/05/25 20:25:16 WARN RandomBlockReplicationPolicy: Expecting 1 replicas with only 0 peer/s.\n",
      "24/05/25 20:25:16 WARN BlockManager: Block input-0-1716661516400 replicated to only 0 peer(s) instead of 1 peers\n",
      "24/05/25 20:25:17 WARN RandomBlockReplicationPolicy: Expecting 1 replicas with only 0 peer/s.\n",
      "24/05/25 20:25:17 WARN BlockManager: Block input-0-1716661517400 replicated to only 0 peer(s) instead of 1 peers\n",
      "24/05/25 20:25:19 WARN RandomBlockReplicationPolicy: Expecting 1 replicas with only 0 peer/s.\n",
      "24/05/25 20:25:19 WARN BlockManager: Block input-0-1716661519400 replicated to only 0 peer(s) instead of 1 peers\n",
      "                                                                                \r"
     ]
    },
    {
     "name": "stdout",
     "output_type": "stream",
     "text": [
      "========= 2024-05-25 20:25:20 =========\n",
      "+--------+--------------------+--------------------+---------------+-----+------------+-------------------+--------+--------------------+--------------------+---------+\n",
      "|     aid|               title|                 url|         domain|votes|        user|          posted_at|comments|        source_title|         source_text|frontpage|\n",
      "+--------+--------------------+--------------------+---------------+-----+------------+-------------------+--------+--------------------+--------------------+---------+\n",
      "|40474064|If You Wish to Un...|https://frappe.io...|      frappe.io|    2|todsacerdoti|2024-05-25 10:31:01|       0|If You Wish to Tr...|If You Wish to Tr...|    false|\n",
      "|40474069|Triathlon Forum: ...|https://forum.slo...| slowtwitch.com|    1|        wslh|2024-05-25 10:32:16|       0|Early Thoughts on...|Early Thoughts on...|    false|\n",
      "|40474079| Embracing Ambiguity|https://en.wikive...|wikiversity.org|    1|     yamrzou|2024-05-25 10:34:55|       0|Embracing Ambigui...|Embracing Ambigui...|    false|\n",
      "|40474084|KDE Plasma 6.1 Be...|https://kde.org/a...|        kde.org|    1|     jrepinc|2024-05-25 10:36:31|       0|KDE Plasma 6.1 Be...|KDE Plasma 6.1 Be...|    false|\n",
      "|40474101|The Route of a Te...|https://web.archi...|    archive.org|    3|       dewey|2024-05-25 10:41:31|       0|The Route of a Te...|The Route of a Te...|     true|\n",
      "+--------+--------------------+--------------------+---------------+-----+------------+-------------------+--------+--------------------+--------------------+---------+\n",
      "\n"
     ]
    },
    {
     "name": "stderr",
     "output_type": "stream",
     "text": [
      "24/05/25 20:25:21 WARN DAGScheduler: Broadcasting large task binary with size 1407.9 KiB\n",
      "24/05/25 20:25:21 WARN DAGScheduler: Broadcasting large task binary with size 1407.9 KiB\n"
     ]
    },
    {
     "name": "stdout",
     "output_type": "stream",
     "text": [
      "+--------+--------------------+--------------------+---------------+-----+------------+-------------------+--------+--------------------+--------------------+---------+-----------+--------------------+--------------------+--------------------+--------------------+------------+------------------+--------------------+-----+--------------------+--------------------+----------+--------------------+\n",
      "|     aid|               title|                 url|         domain|votes|        user|          posted_at|comments|        source_title|         source_text|frontpage|text_length|               words|      filtered_words|         tf_features|      tfidf_features|domain_index|        domain_vec|            features|label|       rawPrediction|         probability|prediction|corrected_prediction|\n",
      "+--------+--------------------+--------------------+---------------+-----+------------+-------------------+--------+--------------------+--------------------+---------+-----------+--------------------+--------------------+--------------------+--------------------+------------+------------------+--------------------+-----+--------------------+--------------------+----------+--------------------+\n",
      "|40474064|If You Wish to Un...|https://frappe.io...|      frappe.io|    2|todsacerdoti|2024-05-25 10:31:01|       0|If You Wish to Tr...|If You Wish to Tr...|    false|      10431|[if, you, wish, t...|[wish, truly, und...|(10000,[4,7,15,25...|(10000,[4,7,15,25...|      2119.0|      (2119,[],[])|(12122,[4,7,15,25...|  0.0|[1.54109111757439...|[0.95615176717383...|       0.0|                 1.0|\n",
      "|40474069|Triathlon Forum: ...|https://forum.slo...| slowtwitch.com|    1|        wslh|2024-05-25 10:32:16|       0|Early Thoughts on...|Early Thoughts on...|    false|      23785|[early, thoughts,...|[early, thoughts,...|(10000,[4,32,44,4...|(10000,[4,32,44,4...|      2119.0|      (2119,[],[])|(12122,[4,32,44,4...|  0.0|[1.54109111757439...|[0.95615176717383...|       0.0|                 1.0|\n",
      "|40474079| Embracing Ambiguity|https://en.wikive...|wikiversity.org|    1|     yamrzou|2024-05-25 10:34:55|       0|Embracing Ambigui...|Embracing Ambigui...|    false|      35202|[embracing, ambig...|[embracing, ambig...|(10000,[1,7,8,11,...|(10000,[1,7,8,11,...|      2119.0|      (2119,[],[])|(12122,[1,7,8,11,...|  0.0|[1.54109111757439...|[0.95615176717383...|       0.0|                 1.0|\n",
      "|40474084|KDE Plasma 6.1 Be...|https://kde.org/a...|        kde.org|    1|     jrepinc|2024-05-25 10:36:31|       0|KDE Plasma 6.1 Be...|KDE Plasma 6.1 Be...|    false|       4989|[kde, plasma, 6.1...|[kde, plasma, 6.1...|(10000,[1,7,72,13...|(10000,[1,7,72,13...|      2119.0|      (2119,[],[])|(12122,[1,7,72,13...|  0.0|[1.54109111757439...|[0.95615176717383...|       0.0|                 1.0|\n",
      "|40474101|The Route of a Te...|https://web.archi...|    archive.org|    3|       dewey|2024-05-25 10:41:31|       0|The Route of a Te...|The Route of a Te...|     true|      38513|[the, route, of, ...|[route, text, mes...|(10000,[1,4,7,8,1...|(10000,[1,4,7,8,1...|       100.0|(2119,[100],[1.0])|(12122,[1,4,7,8,1...|  1.0|[0.62240017569137...|[0.77639847947132...|       0.0|                 1.0|\n",
      "+--------+--------------------+--------------------+---------------+-----+------------+-------------------+--------+--------------------+--------------------+---------+-----------+--------------------+--------------------+--------------------+--------------------+------------+------------------+--------------------+-----+--------------------+--------------------+----------+--------------------+\n",
      "\n"
     ]
    },
    {
     "name": "stderr",
     "output_type": "stream",
     "text": [
      "24/05/25 20:25:21 WARN DAGScheduler: Broadcasting large task binary with size 1407.4 KiB\n",
      "24/05/25 20:25:24 WARN RandomBlockReplicationPolicy: Expecting 1 replicas with only 0 peer/s.\n",
      "24/05/25 20:25:24 WARN BlockManager: Block input-0-1716661524400 replicated to only 0 peer(s) instead of 1 peers\n",
      "24/05/25 20:25:27 WARN RandomBlockReplicationPolicy: Expecting 1 replicas with only 0 peer/s.\n",
      "24/05/25 20:25:27 WARN BlockManager: Block input-0-1716661527600 replicated to only 0 peer(s) instead of 1 peers\n",
      "                                                                                \r"
     ]
    },
    {
     "name": "stdout",
     "output_type": "stream",
     "text": [
      "========= 2024-05-25 20:25:30 =========\n",
      "+--------+--------------------+--------------------+----------------+-----+------+-------------------+--------+--------------------+--------------------+---------+\n",
      "|     aid|               title|                 url|          domain|votes|  user|          posted_at|comments|        source_title|         source_text|frontpage|\n",
      "+--------+--------------------+--------------------+----------------+-----+------+-------------------+--------+--------------------+--------------------+---------+\n",
      "|40474108|Ghost in the Ethe...|https://blog.benj...|   benjojo.co.uk|    1| fanf2|2024-05-25 10:42:03|       0|Ghost in the ethe...|Ghost in the ethe...|    false|\n",
      "|40474125|The Minimum Marke...|https://www.ellio...|elliotcsmith.com|    1|smitec|2024-05-25 10:45:56|       0|The Minimum Marke...|The Minimum Marke...|    false|\n",
      "+--------+--------------------+--------------------+----------------+-----+------+-------------------+--------+--------------------+--------------------+---------+\n",
      "\n"
     ]
    },
    {
     "name": "stderr",
     "output_type": "stream",
     "text": [
      "24/05/25 20:25:31 WARN DAGScheduler: Broadcasting large task binary with size 1407.9 KiB\n",
      "24/05/25 20:25:31 WARN DAGScheduler: Broadcasting large task binary with size 1407.9 KiB\n"
     ]
    },
    {
     "name": "stdout",
     "output_type": "stream",
     "text": [
      "+--------+--------------------+--------------------+----------------+-----+------+-------------------+--------+--------------------+--------------------+---------+-----------+--------------------+--------------------+--------------------+--------------------+------------+------------------+--------------------+-----+--------------------+--------------------+----------+--------------------+\n",
      "|     aid|               title|                 url|          domain|votes|  user|          posted_at|comments|        source_title|         source_text|frontpage|text_length|               words|      filtered_words|         tf_features|      tfidf_features|domain_index|        domain_vec|            features|label|       rawPrediction|         probability|prediction|corrected_prediction|\n",
      "+--------+--------------------+--------------------+----------------+-----+------+-------------------+--------+--------------------+--------------------+---------+-----------+--------------------+--------------------+--------------------+--------------------+------------+------------------+--------------------+-----+--------------------+--------------------+----------+--------------------+\n",
      "|40474108|Ghost in the Ethe...|https://blog.benj...|   benjojo.co.uk|    1| fanf2|2024-05-25 10:42:03|       0|Ghost in the ethe...|Ghost in the ethe...|    false|       9584|[ghost, in, the, ...|[ghost, ethernet,...|(10000,[5,6,15,18...|(10000,[5,6,15,18...|       781.0|(2119,[781],[1.0])|(12122,[5,6,15,18...|  0.0|[1.54109111757439...|[0.95615176717383...|       0.0|                 1.0|\n",
      "|40474125|The Minimum Marke...|https://www.ellio...|elliotcsmith.com|    1|smitec|2024-05-25 10:45:56|       0|The Minimum Marke...|The Minimum Marke...|    false|       3596|[the, minimum, ma...|[minimum, marketa...|(10000,[4,7,57,59...|(10000,[4,7,57,59...|      2119.0|      (2119,[],[])|(12122,[4,7,57,59...|  0.0|[1.54109111757439...|[0.95615176717383...|       0.0|                 1.0|\n",
      "+--------+--------------------+--------------------+----------------+-----+------+-------------------+--------+--------------------+--------------------+---------+-----------+--------------------+--------------------+--------------------+--------------------+------------+------------------+--------------------+-----+--------------------+--------------------+----------+--------------------+\n",
      "\n"
     ]
    },
    {
     "name": "stderr",
     "output_type": "stream",
     "text": [
      "24/05/25 20:25:31 WARN DAGScheduler: Broadcasting large task binary with size 1407.4 KiB\n",
      "24/05/25 20:25:31 WARN RandomBlockReplicationPolicy: Expecting 1 replicas with only 0 peer/s.\n",
      "24/05/25 20:25:31 WARN BlockManager: Block input-0-1716661531400 replicated to only 0 peer(s) instead of 1 peers\n",
      "24/05/25 20:25:33 WARN RandomBlockReplicationPolicy: Expecting 1 replicas with only 0 peer/s.\n",
      "24/05/25 20:25:33 WARN BlockManager: Block input-0-1716661533400 replicated to only 0 peer(s) instead of 1 peers\n",
      "24/05/25 20:25:38 WARN RandomBlockReplicationPolicy: Expecting 1 replicas with only 0 peer/s.\n",
      "24/05/25 20:25:38 WARN BlockManager: Block input-0-1716661538400 replicated to only 0 peer(s) instead of 1 peers\n",
      "                                                                                \r"
     ]
    },
    {
     "name": "stdout",
     "output_type": "stream",
     "text": [
      "========= 2024-05-25 20:25:40 =========\n",
      "+--------+--------------------+--------------------+--------------------+-----+-----------+-------------------+--------+--------------------+--------------------+---------+\n",
      "|     aid|               title|                 url|              domain|votes|       user|          posted_at|comments|        source_title|         source_text|frontpage|\n",
      "+--------+--------------------+--------------------+--------------------+-----+-----------+-------------------+--------+--------------------+--------------------+---------+\n",
      "|40474165|Lapis: A Web Fram...|https://leafo.net...|           leafo.net|   14|thunderbong|2024-05-25 10:56:41|       0|Lapis - A web fra...|Lapis - A web fra...|     true|\n",
      "|40474180|It's cheaper to b...|https://twitter.c...|twitter.com/billf...|    7|     doener|2024-05-25 11:01:20|       4|                   X|X\\n\\nDon’t miss w...|     true|\n",
      "|40474195|     Bing API Outage|https://twitter.c...|twitter.com/nixcraft|    1|     doener|2024-05-25 11:05:09|       0|                   X|X\\n\\nDon’t miss w...|    false|\n",
      "+--------+--------------------+--------------------+--------------------+-----+-----------+-------------------+--------+--------------------+--------------------+---------+\n",
      "\n"
     ]
    },
    {
     "name": "stderr",
     "output_type": "stream",
     "text": [
      "24/05/25 20:25:41 WARN DAGScheduler: Broadcasting large task binary with size 1407.9 KiB\n",
      "24/05/25 20:25:41 WARN DAGScheduler: Broadcasting large task binary with size 1407.9 KiB\n"
     ]
    },
    {
     "name": "stdout",
     "output_type": "stream",
     "text": [
      "+--------+--------------------+--------------------+--------------------+-----+-----------+-------------------+--------+--------------------+--------------------+---------+-----------+--------------------+--------------------+--------------------+--------------------+------------+------------+--------------------+-----+--------------------+--------------------+----------+--------------------+\n",
      "|     aid|               title|                 url|              domain|votes|       user|          posted_at|comments|        source_title|         source_text|frontpage|text_length|               words|      filtered_words|         tf_features|      tfidf_features|domain_index|  domain_vec|            features|label|       rawPrediction|         probability|prediction|corrected_prediction|\n",
      "+--------+--------------------+--------------------+--------------------+-----+-----------+-------------------+--------+--------------------+--------------------+---------+-----------+--------------------+--------------------+--------------------+--------------------+------------+------------+--------------------+-----+--------------------+--------------------+----------+--------------------+\n",
      "|40474165|Lapis: A Web Fram...|https://leafo.net...|           leafo.net|   14|thunderbong|2024-05-25 10:56:41|       0|Lapis - A web fra...|Lapis - A web fra...|     true|       8507|[lapis, -, a, web...|[lapis, -, web, f...|(10000,[1,3,8,14,...|(10000,[1,3,8,14,...|      2119.0|(2119,[],[])|(12122,[1,3,8,14,...|  1.0|[0.46042465732514...|[0.71521512780424...|       0.0|                 1.0|\n",
      "|40474180|It's cheaper to b...|https://twitter.c...|twitter.com/billf...|    7|     doener|2024-05-25 11:01:20|       4|                   X|X\\n\\nDon’t miss w...|     true|        541|[x, , don’t, miss...|[x, , don’t, miss...|(10000,[474,607,8...|(10000,[474,607,8...|      2119.0|(2119,[],[])|(12122,[474,607,8...|  1.0|[-1.4062569759235...|[0.05665167968502...|       1.0|                 0.0|\n",
      "|40474195|     Bing API Outage|https://twitter.c...|twitter.com/nixcraft|    1|     doener|2024-05-25 11:05:09|       0|                   X|X\\n\\nDon’t miss w...|    false|        541|[x, , don’t, miss...|[x, , don’t, miss...|(10000,[474,607,8...|(10000,[474,607,8...|      2119.0|(2119,[],[])|(12122,[474,607,8...|  0.0|[1.54109111757439...|[0.95615176717383...|       0.0|                 1.0|\n",
      "+--------+--------------------+--------------------+--------------------+-----+-----------+-------------------+--------+--------------------+--------------------+---------+-----------+--------------------+--------------------+--------------------+--------------------+------------+------------+--------------------+-----+--------------------+--------------------+----------+--------------------+\n",
      "\n"
     ]
    },
    {
     "name": "stderr",
     "output_type": "stream",
     "text": [
      "24/05/25 20:25:41 WARN DAGScheduler: Broadcasting large task binary with size 1407.4 KiB\n",
      "24/05/25 20:25:42 WARN RandomBlockReplicationPolicy: Expecting 1 replicas with only 0 peer/s.\n",
      "24/05/25 20:25:42 WARN BlockManager: Block input-0-1716661542600 replicated to only 0 peer(s) instead of 1 peers\n",
      "24/05/25 20:25:47 WARN RandomBlockReplicationPolicy: Expecting 1 replicas with only 0 peer/s.\n",
      "24/05/25 20:25:47 WARN BlockManager: Block input-0-1716661547600 replicated to only 0 peer(s) instead of 1 peers\n",
      "                                                                                \r"
     ]
    },
    {
     "name": "stdout",
     "output_type": "stream",
     "text": [
      "========= 2024-05-25 20:25:50 =========\n",
      "+--------+--------------------+--------------------+----------+-----+--------+-------------------+--------+--------------------+--------------------+---------+\n",
      "|     aid|               title|                 url|    domain|votes|    user|          posted_at|comments|        source_title|         source_text|frontpage|\n",
      "+--------+--------------------+--------------------+----------+-----+--------+-------------------+--------+--------------------+--------------------+---------+\n",
      "|40474201|I'm in love with ...|https://unherd.co...|unherd.com|   27|elsewhen|2024-05-25 11:13:47|      21|I'm in love with ...|I'm in love with ...|     true|\n",
      "|40474202|Google just updat...|https://www.bbc.c...|   bbc.com|   68|sonabinu|2024-05-25 11:14:26|      31|Google just updat...|Google just updat...|     true|\n",
      "+--------+--------------------+--------------------+----------+-----+--------+-------------------+--------+--------------------+--------------------+---------+\n",
      "\n"
     ]
    },
    {
     "name": "stderr",
     "output_type": "stream",
     "text": [
      "24/05/25 20:25:51 WARN DAGScheduler: Broadcasting large task binary with size 1407.9 KiB\n",
      "24/05/25 20:25:51 WARN DAGScheduler: Broadcasting large task binary with size 1407.9 KiB\n"
     ]
    },
    {
     "name": "stdout",
     "output_type": "stream",
     "text": [
      "+--------+--------------------+--------------------+----------+-----+--------+-------------------+--------+--------------------+--------------------+---------+-----------+--------------------+--------------------+--------------------+--------------------+------------+------------------+--------------------+-----+--------------------+--------------------+----------+--------------------+\n",
      "|     aid|               title|                 url|    domain|votes|    user|          posted_at|comments|        source_title|         source_text|frontpage|text_length|               words|      filtered_words|         tf_features|      tfidf_features|domain_index|        domain_vec|            features|label|       rawPrediction|         probability|prediction|corrected_prediction|\n",
      "+--------+--------------------+--------------------+----------+-----+--------+-------------------+--------+--------------------+--------------------+---------+-----------+--------------------+--------------------+--------------------+--------------------+------------+------------------+--------------------+-----+--------------------+--------------------+----------+--------------------+\n",
      "|40474201|I'm in love with ...|https://unherd.co...|unherd.com|   27|elsewhen|2024-05-25 11:13:47|      21|I'm in love with ...|I'm in love with ...|     true|      24125|[i'm, in, love, w...|[love, ai, girlfr...|(10000,[2,7,15,17...|(10000,[2,7,15,17...|       190.0|(2119,[190],[1.0])|(12122,[2,7,15,17...|  1.0|[-1.1302228664751...|[0.09445223806735...|       1.0|                 0.0|\n",
      "|40474202|Google just updat...|https://www.bbc.c...|   bbc.com|   68|sonabinu|2024-05-25 11:14:26|      31|Google just updat...|Google just updat...|     true|      15884|[google, just, up...|[google, updated,...|(10000,[1,6,7,11,...|(10000,[1,6,7,11,...|         9.0|  (2119,[9],[1.0])|(12122,[1,6,7,11,...|  1.0|[-1.4190509549880...|[0.05529961332079...|       1.0|                 0.0|\n",
      "+--------+--------------------+--------------------+----------+-----+--------+-------------------+--------+--------------------+--------------------+---------+-----------+--------------------+--------------------+--------------------+--------------------+------------+------------------+--------------------+-----+--------------------+--------------------+----------+--------------------+\n",
      "\n"
     ]
    },
    {
     "name": "stderr",
     "output_type": "stream",
     "text": [
      "24/05/25 20:25:51 WARN DAGScheduler: Broadcasting large task binary with size 1407.4 KiB\n",
      "24/05/25 20:25:51 WARN RandomBlockReplicationPolicy: Expecting 1 replicas with only 0 peer/s.\n",
      "24/05/25 20:25:51 WARN BlockManager: Block input-0-1716661551600 replicated to only 0 peer(s) instead of 1 peers\n",
      "24/05/25 20:25:54 WARN RandomBlockReplicationPolicy: Expecting 1 replicas with only 0 peer/s.\n",
      "24/05/25 20:25:54 WARN BlockManager: Block input-0-1716661554600 replicated to only 0 peer(s) instead of 1 peers\n",
      "24/05/25 20:26:00 WARN RandomBlockReplicationPolicy: Expecting 1 replicas with only 0 peer/s.\n",
      "24/05/25 20:26:00 WARN BlockManager: Block input-0-1716661559800 replicated to only 0 peer(s) instead of 1 peers\n",
      "                                                                                \r"
     ]
    },
    {
     "name": "stdout",
     "output_type": "stream",
     "text": [
      "========= 2024-05-25 20:26:00 =========\n",
      "+--------+--------------------+--------------------+--------------------+-----+---------------+-------------------+--------+------------+--------------------+---------+\n",
      "|     aid|               title|                 url|              domain|votes|           user|          posted_at|comments|source_title|         source_text|frontpage|\n",
      "+--------+--------------------+--------------------+--------------------+-----+---------------+-------------------+--------+------------+--------------------+---------+\n",
      "|40474203|I Built a Simple ...|https://billburst...|billburst.vercel.app|    1|          aiibe|2024-05-25 11:15:01|       0|   BillBurst|BillBurst\\n\\nQuic...|    false|\n",
      "|40474207|What airlines can...|https://www.ft.co...|              ft.com|    2|quick_brown_fox|2024-05-25 11:18:51|       0|        NULL|What airlines can...|    false|\n",
      "+--------+--------------------+--------------------+--------------------+-----+---------------+-------------------+--------+------------+--------------------+---------+\n",
      "\n"
     ]
    },
    {
     "name": "stderr",
     "output_type": "stream",
     "text": [
      "24/05/25 20:26:01 WARN DAGScheduler: Broadcasting large task binary with size 1407.9 KiB\n",
      "24/05/25 20:26:01 WARN DAGScheduler: Broadcasting large task binary with size 1407.9 KiB\n"
     ]
    },
    {
     "name": "stdout",
     "output_type": "stream",
     "text": [
      "+--------+--------------------+--------------------+--------------------+-----+---------------+-------------------+--------+------------+--------------------+---------+-----------+--------------------+--------------------+--------------------+--------------------+------------+------------------+--------------------+-----+--------------------+--------------------+----------+--------------------+\n",
      "|     aid|               title|                 url|              domain|votes|           user|          posted_at|comments|source_title|         source_text|frontpage|text_length|               words|      filtered_words|         tf_features|      tfidf_features|domain_index|        domain_vec|            features|label|       rawPrediction|         probability|prediction|corrected_prediction|\n",
      "+--------+--------------------+--------------------+--------------------+-----+---------------+-------------------+--------+------------+--------------------+---------+-----------+--------------------+--------------------+--------------------+--------------------+------------+------------------+--------------------+-----+--------------------+--------------------+----------+--------------------+\n",
      "|40474203|I Built a Simple ...|https://billburst...|billburst.vercel.app|    1|          aiibe|2024-05-25 11:15:01|       0|   BillBurst|BillBurst\\n\\nQuic...|    false|        122|[billburst, , qui...|[billburst, , qui...|(10000,[513,560,1...|(10000,[513,560,1...|      2119.0|      (2119,[],[])|(12122,[513,560,1...|  0.0|[1.54109111757439...|[0.95615176717383...|       0.0|                 1.0|\n",
      "|40474207|What airlines can...|https://www.ft.co...|              ft.com|    2|quick_brown_fox|2024-05-25 11:18:51|       0|        NULL|What airlines can...|    false|       9454|[what, airlines, ...|[airlines, danger...|(10000,[58,137,16...|(10000,[58,137,16...|       306.0|(2119,[306],[1.0])|(12122,[58,137,16...|  0.0|[1.54216674900152...|[0.95624187163064...|       0.0|                 1.0|\n",
      "+--------+--------------------+--------------------+--------------------+-----+---------------+-------------------+--------+------------+--------------------+---------+-----------+--------------------+--------------------+--------------------+--------------------+------------+------------------+--------------------+-----+--------------------+--------------------+----------+--------------------+\n",
      "\n"
     ]
    },
    {
     "name": "stderr",
     "output_type": "stream",
     "text": [
      "24/05/25 20:26:01 WARN DAGScheduler: Broadcasting large task binary with size 1407.4 KiB\n",
      "24/05/25 20:26:02 WARN RandomBlockReplicationPolicy: Expecting 1 replicas with only 0 peer/s.\n",
      "24/05/25 20:26:02 WARN BlockManager: Block input-0-1716661561800 replicated to only 0 peer(s) instead of 1 peers\n",
      "24/05/25 20:26:04 WARN RandomBlockReplicationPolicy: Expecting 1 replicas with only 0 peer/s.\n",
      "24/05/25 20:26:04 WARN BlockManager: Block input-0-1716661563800 replicated to only 0 peer(s) instead of 1 peers\n",
      "24/05/25 20:26:09 WARN RandomBlockReplicationPolicy: Expecting 1 replicas with only 0 peer/s.\n",
      "24/05/25 20:26:09 WARN BlockManager: Block input-0-1716661568800 replicated to only 0 peer(s) instead of 1 peers\n",
      "                                                                                \r"
     ]
    },
    {
     "name": "stdout",
     "output_type": "stream",
     "text": [
      "========= 2024-05-25 20:26:10 =========\n",
      "+--------+--------------------+--------------------+---------------+-----+-----------+-------------------+--------+--------------------+--------------------+---------+\n",
      "|     aid|               title|                 url|         domain|votes|       user|          posted_at|comments|        source_title|         source_text|frontpage|\n",
      "+--------+--------------------+--------------------+---------------+-----+-----------+-------------------+--------+--------------------+--------------------+---------+\n",
      "|40474212|Atomstr: RSS/Atom...|https://atomstr.d...|      data.haus|    2| janandonly|2024-05-25 11:20:25|       0|             atomstr|atomstr\\n\\n# atom...|    false|\n",
      "|40474227|Fitting High-Leve...|https://www.youtu...|    youtube.com|    1|  hasheddan|2024-05-25 11:24:19|       0|Fitting High-Leve...|Fitting High-Leve...|    false|\n",
      "|40474234|NASA finds more i...|https://arstechni...|arstechnica.com|    1|andreiursan|2024-05-25 11:25:38|       0|NASA finds more i...|NASA finds more i...|    false|\n",
      "|40474235|The potential of ...|https://www.europ...|      europa.eu|    1|      kimmk|2024-05-25 11:25:43|       0|                NULL|                \\n\\n|    false|\n",
      "+--------+--------------------+--------------------+---------------+-----+-----------+-------------------+--------+--------------------+--------------------+---------+\n",
      "\n"
     ]
    },
    {
     "name": "stderr",
     "output_type": "stream",
     "text": [
      "24/05/25 20:26:10 WARN RandomBlockReplicationPolicy: Expecting 1 replicas with only 0 peer/s.\n",
      "24/05/25 20:26:10 WARN BlockManager: Block input-0-1716661570600 replicated to only 0 peer(s) instead of 1 peers\n",
      "24/05/25 20:26:11 WARN DAGScheduler: Broadcasting large task binary with size 1407.9 KiB\n",
      "24/05/25 20:26:11 WARN DAGScheduler: Broadcasting large task binary with size 1407.9 KiB\n"
     ]
    },
    {
     "name": "stdout",
     "output_type": "stream",
     "text": [
      "+--------+--------------------+--------------------+---------------+-----+-----------+-------------------+--------+--------------------+--------------------+---------+-----------+--------------------+--------------------+--------------------+--------------------+------------+-----------------+--------------------+-----+--------------------+--------------------+----------+--------------------+\n",
      "|     aid|               title|                 url|         domain|votes|       user|          posted_at|comments|        source_title|         source_text|frontpage|text_length|               words|      filtered_words|         tf_features|      tfidf_features|domain_index|       domain_vec|            features|label|       rawPrediction|         probability|prediction|corrected_prediction|\n",
      "+--------+--------------------+--------------------+---------------+-----+-----------+-------------------+--------+--------------------+--------------------+---------+-----------+--------------------+--------------------+--------------------+--------------------+------------+-----------------+--------------------+-----+--------------------+--------------------+----------+--------------------+\n",
      "|40474212|Atomstr: RSS/Atom...|https://atomstr.d...|      data.haus|    2| janandonly|2024-05-25 11:20:25|       0|             atomstr|atomstr\\n\\n# atom...|    false|      54361|[atomstr, , #, at...|[atomstr, , #, at...|(10000,[13,20,28,...|(10000,[13,20,28,...|      2119.0|     (2119,[],[])|(12122,[13,20,28,...|  0.0|[1.54084072640630...|[0.95613076679455...|       0.0|                 1.0|\n",
      "|40474227|Fitting High-Leve...|https://www.youtu...|    youtube.com|    1|  hasheddan|2024-05-25 11:24:19|       0|Fitting High-Leve...|Fitting High-Leve...|    false|       5745|[fitting, high-le...|[fitting, high-le...|(10000,[93,132,22...|(10000,[93,132,22...|         0.0| (2119,[0],[1.0])|(12122,[93,132,22...|  0.0|[1.54109111757439...|[0.95615176717383...|       0.0|                 1.0|\n",
      "|40474234|NASA finds more i...|https://arstechni...|arstechnica.com|    1|andreiursan|2024-05-25 11:25:38|       0|NASA finds more i...|NASA finds more i...|    false|       9202|[nasa, finds, mor...|[nasa, finds, iss...|(10000,[24,28,48,...|(10000,[24,28,48,...|         1.0| (2119,[1],[1.0])|(12122,[24,28,48,...|  0.0|[1.54109111757439...|[0.95615176717383...|       0.0|                 1.0|\n",
      "|40474235|The potential of ...|https://www.europ...|      europa.eu|    1|      kimmk|2024-05-25 11:25:43|       0|                NULL|                \\n\\n|    false|          2|                  []|                  []|       (10000,[],[])|       (10000,[],[])|        52.0|(2119,[52],[1.0])|(12122,[10000,100...|  0.0|[1.54109111757439...|[0.95615176717383...|       0.0|                 1.0|\n",
      "+--------+--------------------+--------------------+---------------+-----+-----------+-------------------+--------+--------------------+--------------------+---------+-----------+--------------------+--------------------+--------------------+--------------------+------------+-----------------+--------------------+-----+--------------------+--------------------+----------+--------------------+\n",
      "\n"
     ]
    },
    {
     "name": "stderr",
     "output_type": "stream",
     "text": [
      "24/05/25 20:26:11 WARN DAGScheduler: Broadcasting large task binary with size 1407.4 KiB\n",
      "24/05/25 20:26:16 WARN RandomBlockReplicationPolicy: Expecting 1 replicas with only 0 peer/s.\n",
      "24/05/25 20:26:16 WARN BlockManager: Block input-0-1716661575800 replicated to only 0 peer(s) instead of 1 peers\n",
      "                                                                                \r"
     ]
    },
    {
     "name": "stdout",
     "output_type": "stream",
     "text": [
      "========= 2024-05-25 20:26:20 =========\n",
      "+--------+--------------------+--------------------+------------------+-----+--------+-------------------+--------+--------------------+--------------------+---------+\n",
      "|     aid|               title|                 url|            domain|votes|    user|          posted_at|comments|        source_title|         source_text|frontpage|\n",
      "+--------+--------------------+--------------------+------------------+-----+--------+-------------------+--------+--------------------+--------------------+---------+\n",
      "|40474236|Publishing AI Slo...|https://daringfir...|daringfireball.net|    9|mpweiher|2024-05-25 11:25:52|       0|Publishing AI Slo...|Daring Fireball: ...|     true|\n",
      "|40474238|A startup's \"tabl...|https://om.co/202...|             om.co|    2|mpweiher|2024-05-25 11:26:06|       0|A startup’s “tabl...|A startup’s “tabl...|    false|\n",
      "+--------+--------------------+--------------------+------------------+-----+--------+-------------------+--------+--------------------+--------------------+---------+\n",
      "\n"
     ]
    },
    {
     "name": "stderr",
     "output_type": "stream",
     "text": [
      "24/05/25 20:26:21 WARN RandomBlockReplicationPolicy: Expecting 1 replicas with only 0 peer/s.\n",
      "24/05/25 20:26:21 WARN BlockManager: Block input-0-1716661580800 replicated to only 0 peer(s) instead of 1 peers\n",
      "24/05/25 20:26:21 WARN DAGScheduler: Broadcasting large task binary with size 1407.9 KiB\n",
      "24/05/25 20:26:21 WARN DAGScheduler: Broadcasting large task binary with size 1407.9 KiB\n"
     ]
    },
    {
     "name": "stdout",
     "output_type": "stream",
     "text": [
      "+--------+--------------------+--------------------+------------------+-----+--------+-------------------+--------+--------------------+--------------------+---------+-----------+--------------------+--------------------+--------------------+--------------------+------------+------------------+--------------------+-----+--------------------+--------------------+----------+--------------------+\n",
      "|     aid|               title|                 url|            domain|votes|    user|          posted_at|comments|        source_title|         source_text|frontpage|text_length|               words|      filtered_words|         tf_features|      tfidf_features|domain_index|        domain_vec|            features|label|       rawPrediction|         probability|prediction|corrected_prediction|\n",
      "+--------+--------------------+--------------------+------------------+-----+--------+-------------------+--------+--------------------+--------------------+---------+-----------+--------------------+--------------------+--------------------+--------------------+------------+------------------+--------------------+-----+--------------------+--------------------+----------+--------------------+\n",
      "|40474236|Publishing AI Slo...|https://daringfir...|daringfireball.net|    9|mpweiher|2024-05-25 11:25:52|       0|Publishing AI Slo...|Daring Fireball: ...|     true|       1850|[daring, fireball...|[daring, fireball...|(10000,[44,157,16...|(10000,[44,157,16...|       462.0|(2119,[462],[1.0])|(12122,[44,157,16...|  1.0|[-1.4190509549880...|[0.05529961332079...|       1.0|                 0.0|\n",
      "|40474238|A startup's \"tabl...|https://om.co/202...|             om.co|    2|mpweiher|2024-05-25 11:26:06|       0|A startup’s “tabl...|A startup’s “tabl...|    false|       6607|[a, startup’s, “t...|[startup’s, “tabl...|(10000,[28,36,44,...|(10000,[28,36,44,...|      2119.0|      (2119,[],[])|(12122,[28,36,44,...|  0.0|[1.54109111757439...|[0.95615176717383...|       0.0|                 1.0|\n",
      "+--------+--------------------+--------------------+------------------+-----+--------+-------------------+--------+--------------------+--------------------+---------+-----------+--------------------+--------------------+--------------------+--------------------+------------+------------------+--------------------+-----+--------------------+--------------------+----------+--------------------+\n",
      "\n"
     ]
    },
    {
     "name": "stderr",
     "output_type": "stream",
     "text": [
      "24/05/25 20:26:21 WARN DAGScheduler: Broadcasting large task binary with size 1407.4 KiB\n",
      "24/05/25 20:26:24 WARN RandomBlockReplicationPolicy: Expecting 1 replicas with only 0 peer/s.\n",
      "24/05/25 20:26:24 WARN BlockManager: Block input-0-1716661583800 replicated to only 0 peer(s) instead of 1 peers\n",
      "24/05/25 20:26:25 WARN RandomBlockReplicationPolicy: Expecting 1 replicas with only 0 peer/s.\n",
      "24/05/25 20:26:25 WARN BlockManager: Block input-0-1716661584800 replicated to only 0 peer(s) instead of 1 peers\n",
      "24/05/25 20:26:28 WARN RandomBlockReplicationPolicy: Expecting 1 replicas with only 0 peer/s.\n",
      "24/05/25 20:26:28 WARN BlockManager: Block input-0-1716661587800 replicated to only 0 peer(s) instead of 1 peers\n",
      "                                                                                \r"
     ]
    },
    {
     "name": "stdout",
     "output_type": "stream",
     "text": [
      "========= 2024-05-25 20:26:30 =========\n",
      "+--------+--------------------+--------------------+-------------------+-----+------------+-------------------+--------+--------------------+--------------------+---------+\n",
      "|     aid|               title|                 url|             domain|votes|        user|          posted_at|comments|        source_title|         source_text|frontpage|\n",
      "+--------+--------------------+--------------------+-------------------+-----+------------+-------------------+--------+--------------------+--------------------+---------+\n",
      "|40474294|Lessons from the ...|https://arxiv.org...|          arxiv.org|    3|veryluckyxyz|2024-05-25 11:42:23|       0|Lessons from the ...|[2405.14782] Less...|     true|\n",
      "|40474296|Feed and Blogroll...|https://andregarz...|    andregarzia.com|    1|todsacerdoti|2024-05-25 11:42:44|       0|Feed and Blogroll...|Feed and Blogroll...|    false|\n",
      "|40474304|Ilgpu: A Modern G...|  https://ilgpu.net/|          ilgpu.net|    1|   PaulHoule|2024-05-25 11:43:37|       0|ILGPU - A Modern ...|ILGPU - A Modern ...|    false|\n",
      "|40474314|How to Remove Use...|https://sleepless...|sleeplessbeastie.eu|    1|     CTOSian|2024-05-25 11:44:51|       0|How to remove use...|How to remove use...|    false|\n",
      "+--------+--------------------+--------------------+-------------------+-----+------------+-------------------+--------+--------------------+--------------------+---------+\n",
      "\n"
     ]
    },
    {
     "name": "stderr",
     "output_type": "stream",
     "text": [
      "24/05/25 20:26:31 WARN DAGScheduler: Broadcasting large task binary with size 1407.9 KiB\n",
      "24/05/25 20:26:31 WARN DAGScheduler: Broadcasting large task binary with size 1407.9 KiB\n"
     ]
    },
    {
     "name": "stdout",
     "output_type": "stream",
     "text": [
      "+--------+--------------------+--------------------+-------------------+-----+------------+-------------------+--------+--------------------+--------------------+---------+-----------+--------------------+--------------------+--------------------+--------------------+------------+----------------+--------------------+-----+--------------------+--------------------+----------+--------------------+\n",
      "|     aid|               title|                 url|             domain|votes|        user|          posted_at|comments|        source_title|         source_text|frontpage|text_length|               words|      filtered_words|         tf_features|      tfidf_features|domain_index|      domain_vec|            features|label|       rawPrediction|         probability|prediction|corrected_prediction|\n",
      "+--------+--------------------+--------------------+-------------------+-----+------------+-------------------+--------+--------------------+--------------------+---------+-----------+--------------------+--------------------+--------------------+--------------------+------------+----------------+--------------------+-----+--------------------+--------------------+----------+--------------------+\n",
      "|40474294|Lessons from the ...|https://arxiv.org...|          arxiv.org|    3|veryluckyxyz|2024-05-25 11:42:23|       0|Lessons from the ...|[2405.14782] Less...|     true|       4456|[[2405.14782], le...|[[2405.14782], le...|(10000,[19,120,15...|(10000,[19,120,15...|         6.0|(2119,[6],[1.0])|(12122,[19,120,15...|  1.0|[-0.3019591369170...|[0.35344776694192...|       1.0|                 0.0|\n",
      "|40474296|Feed and Blogroll...|https://andregarz...|    andregarzia.com|    1|todsacerdoti|2024-05-25 11:42:44|       0|Feed and Blogroll...|Feed and Blogroll...|    false|       2382|[feed, and, blogr...|[feed, blogrolls,...|(10000,[13,21,56,...|(10000,[13,21,56,...|      2119.0|    (2119,[],[])|(12122,[13,21,56,...|  0.0|[1.54109111757439...|[0.95615176717383...|       0.0|                 1.0|\n",
      "|40474304|Ilgpu: A Modern G...|  https://ilgpu.net/|          ilgpu.net|    1|   PaulHoule|2024-05-25 11:43:37|       0|ILGPU - A Modern ...|ILGPU - A Modern ...|    false|       6832|[ilgpu, -, a, mod...|[ilgpu, -, modern...|(10000,[20,28,32,...|(10000,[20,28,32,...|      2119.0|    (2119,[],[])|(12122,[20,28,32,...|  0.0|[1.54109111757439...|[0.95615176717383...|       0.0|                 1.0|\n",
      "|40474314|How to Remove Use...|https://sleepless...|sleeplessbeastie.eu|    1|     CTOSian|2024-05-25 11:44:51|       0|How to remove use...|How to remove use...|    false|       6075|[how, to, remove,...|[remove, useless,...|(10000,[16,29,32,...|(10000,[16,29,32,...|      2119.0|    (2119,[],[])|(12122,[16,29,32,...|  0.0|[1.54109111757439...|[0.95615176717383...|       0.0|                 1.0|\n",
      "+--------+--------------------+--------------------+-------------------+-----+------------+-------------------+--------+--------------------+--------------------+---------+-----------+--------------------+--------------------+--------------------+--------------------+------------+----------------+--------------------+-----+--------------------+--------------------+----------+--------------------+\n",
      "\n"
     ]
    },
    {
     "name": "stderr",
     "output_type": "stream",
     "text": [
      "24/05/25 20:26:31 WARN DAGScheduler: Broadcasting large task binary with size 1407.4 KiB\n",
      "24/05/25 20:26:33 WARN RandomBlockReplicationPolicy: Expecting 1 replicas with only 0 peer/s.\n",
      "24/05/25 20:26:33 WARN BlockManager: Block input-0-1716661592800 replicated to only 0 peer(s) instead of 1 peers\n",
      "24/05/25 20:26:34 WARN RandomBlockReplicationPolicy: Expecting 1 replicas with only 0 peer/s.\n",
      "24/05/25 20:26:34 WARN BlockManager: Block input-0-1716661593800 replicated to only 0 peer(s) instead of 1 peers\n",
      "24/05/25 20:26:38 WARN RandomBlockReplicationPolicy: Expecting 1 replicas with only 0 peer/s.\n",
      "24/05/25 20:26:38 WARN BlockManager: Block input-0-1716661598000 replicated to only 0 peer(s) instead of 1 peers\n",
      "                                                                                \r"
     ]
    },
    {
     "name": "stdout",
     "output_type": "stream",
     "text": [
      "========= 2024-05-25 20:26:40 =========\n",
      "+--------+--------------------+--------------------+-------------+-----+------------+-------------------+--------+--------------------+--------------------+---------+\n",
      "|     aid|               title|                 url|       domain|votes|        user|          posted_at|comments|        source_title|         source_text|frontpage|\n",
      "+--------+--------------------+--------------------+-------------+-----+------------+-------------------+--------+--------------------+--------------------+---------+\n",
      "|40474334|Teenage Engineeri...|https://www.ifixi...|   ifixit.com|    2|    follower|2024-05-25 11:47:37|       0|How Teenage Engin...|How Teenage Engin...|    false|\n",
      "|40474342|Microsoft Launche...|https://www.micro...|microsoft.com|    2|NayamAmarshe|2024-05-25 11:48:49|       0|Copilot for Teleg...|Copilot for Teleg...|    false|\n",
      "|40474351|Apple elaborates ...|https://9to5mac.c...|  9to5mac.com|    1|   f_allwein|2024-05-25 11:50:45|       0|Apple elaborates ...|Apple elaborates ...|    false|\n",
      "+--------+--------------------+--------------------+-------------+-----+------------+-------------------+--------+--------------------+--------------------+---------+\n",
      "\n"
     ]
    },
    {
     "name": "stderr",
     "output_type": "stream",
     "text": [
      "24/05/25 20:26:41 WARN DAGScheduler: Broadcasting large task binary with size 1407.9 KiB\n",
      "24/05/25 20:26:41 WARN DAGScheduler: Broadcasting large task binary with size 1407.9 KiB\n"
     ]
    },
    {
     "name": "stdout",
     "output_type": "stream",
     "text": [
      "+--------+--------------------+--------------------+-------------+-----+------------+-------------------+--------+--------------------+--------------------+---------+-----------+--------------------+--------------------+--------------------+--------------------+------------+-----------------+--------------------+-----+--------------------+--------------------+----------+--------------------+\n",
      "|     aid|               title|                 url|       domain|votes|        user|          posted_at|comments|        source_title|         source_text|frontpage|text_length|               words|      filtered_words|         tf_features|      tfidf_features|domain_index|       domain_vec|            features|label|       rawPrediction|         probability|prediction|corrected_prediction|\n",
      "+--------+--------------------+--------------------+-------------+-----+------------+-------------------+--------+--------------------+--------------------+---------+-----------+--------------------+--------------------+--------------------+--------------------+------------+-----------------+--------------------+-----+--------------------+--------------------+----------+--------------------+\n",
      "|40474334|Teenage Engineeri...|https://www.ifixi...|   ifixit.com|    2|    follower|2024-05-25 11:47:37|       0|How Teenage Engin...|How Teenage Engin...|    false|      10937|[how, teenage, en...|[teenage, enginee...|(10000,[7,11,15,2...|(10000,[7,11,15,2...|      2119.0|     (2119,[],[])|(12122,[7,11,15,2...|  0.0|[1.51626740098796...|[0.95402248650278...|       0.0|                 1.0|\n",
      "|40474342|Microsoft Launche...|https://www.micro...|microsoft.com|    2|NayamAmarshe|2024-05-25 11:48:49|       0|Copilot for Teleg...|Copilot for Teleg...|    false|       9345|[copilot, for, te...|[copilot, telegra...|(10000,[32,51,55,...|(10000,[32,51,55,...|        25.0|(2119,[25],[1.0])|(12122,[32,51,55,...|  0.0|[1.54109111757439...|[0.95615176717383...|       0.0|                 1.0|\n",
      "|40474351|Apple elaborates ...|https://9to5mac.c...|  9to5mac.com|    1|   f_allwein|2024-05-25 11:50:45|       0|Apple elaborates ...|Apple elaborates ...|    false|      61260|[apple, elaborate...|[apple, elaborate...|(10000,[4,8,9,17,...|(10000,[4,8,9,17,...|        97.0|(2119,[97],[1.0])|(12122,[4,8,9,17,...|  0.0|[1.54109111757439...|[0.95615176717383...|       0.0|                 1.0|\n",
      "+--------+--------------------+--------------------+-------------+-----+------------+-------------------+--------+--------------------+--------------------+---------+-----------+--------------------+--------------------+--------------------+--------------------+------------+-----------------+--------------------+-----+--------------------+--------------------+----------+--------------------+\n",
      "\n"
     ]
    },
    {
     "name": "stderr",
     "output_type": "stream",
     "text": [
      "24/05/25 20:26:41 WARN DAGScheduler: Broadcasting large task binary with size 1407.4 KiB\n",
      "24/05/25 20:26:43 WARN RandomBlockReplicationPolicy: Expecting 1 replicas with only 0 peer/s.\n",
      "24/05/25 20:26:43 WARN BlockManager: Block input-0-1716661603000 replicated to only 0 peer(s) instead of 1 peers\n",
      "24/05/25 20:26:48 WARN RandomBlockReplicationPolicy: Expecting 1 replicas with only 0 peer/s.\n",
      "24/05/25 20:26:48 WARN BlockManager: Block input-0-1716661608000 replicated to only 0 peer(s) instead of 1 peers\n",
      "24/05/25 20:26:50 WARN RandomBlockReplicationPolicy: Expecting 1 replicas with only 0 peer/s.\n",
      "24/05/25 20:26:50 WARN BlockManager: Block input-0-1716661610000 replicated to only 0 peer(s) instead of 1 peers\n"
     ]
    },
    {
     "name": "stdout",
     "output_type": "stream",
     "text": [
      "========= 2024-05-25 20:26:50 =========\n",
      "+--------+--------------------+--------------------+------------+-----+--------+-------------------+--------+--------------------+--------------------+---------+\n",
      "|     aid|               title|                 url|      domain|votes|    user|          posted_at|comments|        source_title|         source_text|frontpage|\n",
      "+--------+--------------------+--------------------+------------+-----+--------+-------------------+--------+--------------------+--------------------+---------+\n",
      "|40474376|SQLCipher is a se...|https://www.zetet...| zetetic.net|    1|  doener|2024-05-25 11:55:09|       0|SQLCipher Design ...|SQLCipher Design ...|    false|\n",
      "|40474425|    Hacked Happiness|https://www.mindp...|mindpluz.com|    1|samleecs|2024-05-25 12:05:17|       0|Mindpluz: Persona...|Mindpluz: Persona...|    false|\n",
      "+--------+--------------------+--------------------+------------+-----+--------+-------------------+--------+--------------------+--------------------+---------+\n",
      "\n"
     ]
    },
    {
     "name": "stderr",
     "output_type": "stream",
     "text": [
      "24/05/25 20:26:51 WARN DAGScheduler: Broadcasting large task binary with size 1407.9 KiB\n",
      "24/05/25 20:26:51 WARN DAGScheduler: Broadcasting large task binary with size 1407.9 KiB\n"
     ]
    },
    {
     "name": "stdout",
     "output_type": "stream",
     "text": [
      "+--------+--------------------+--------------------+------------+-----+--------+-------------------+--------+--------------------+--------------------+---------+-----------+--------------------+--------------------+--------------------+--------------------+------------+------------+--------------------+-----+--------------------+--------------------+----------+--------------------+\n",
      "|     aid|               title|                 url|      domain|votes|    user|          posted_at|comments|        source_title|         source_text|frontpage|text_length|               words|      filtered_words|         tf_features|      tfidf_features|domain_index|  domain_vec|            features|label|       rawPrediction|         probability|prediction|corrected_prediction|\n",
      "+--------+--------------------+--------------------+------------+-----+--------+-------------------+--------+--------------------+--------------------+---------+-----------+--------------------+--------------------+--------------------+--------------------+------------+------------+--------------------+-----+--------------------+--------------------+----------+--------------------+\n",
      "|40474376|SQLCipher is a se...|https://www.zetet...| zetetic.net|    1|  doener|2024-05-25 11:55:09|       0|SQLCipher Design ...|SQLCipher Design ...|    false|       8961|[sqlcipher, desig...|[sqlcipher, desig...|(10000,[28,44,75,...|(10000,[28,44,75,...|      2119.0|(2119,[],[])|(12122,[28,44,75,...|  0.0|[1.54109111757439...|[0.95615176717383...|       0.0|                 1.0|\n",
      "|40474425|    Hacked Happiness|https://www.mindp...|mindpluz.com|    1|samleecs|2024-05-25 12:05:17|       0|Mindpluz: Persona...|Mindpluz: Persona...|    false|       3800|[mindpluz:, perso...|[mindpluz:, perso...|(10000,[1,4,25,42...|(10000,[1,4,25,42...|      2119.0|(2119,[],[])|(12122,[1,4,25,42...|  0.0|[1.54109111757439...|[0.95615176717383...|       0.0|                 1.0|\n",
      "+--------+--------------------+--------------------+------------+-----+--------+-------------------+--------+--------------------+--------------------+---------+-----------+--------------------+--------------------+--------------------+--------------------+------------+------------+--------------------+-----+--------------------+--------------------+----------+--------------------+\n",
      "\n"
     ]
    },
    {
     "name": "stderr",
     "output_type": "stream",
     "text": [
      "24/05/25 20:26:51 WARN DAGScheduler: Broadcasting large task binary with size 1407.4 KiB\n",
      "24/05/25 20:26:53 WARN RandomBlockReplicationPolicy: Expecting 1 replicas with only 0 peer/s.\n",
      "24/05/25 20:26:53 WARN BlockManager: Block input-0-1716661613000 replicated to only 0 peer(s) instead of 1 peers\n",
      "24/05/25 20:26:58 WARN RandomBlockReplicationPolicy: Expecting 1 replicas with only 0 peer/s.\n",
      "24/05/25 20:26:58 WARN BlockManager: Block input-0-1716661618000 replicated to only 0 peer(s) instead of 1 peers\n",
      "24/05/25 20:26:59 WARN RandomBlockReplicationPolicy: Expecting 1 replicas with only 0 peer/s.\n",
      "24/05/25 20:26:59 WARN BlockManager: Block input-0-1716661619200 replicated to only 0 peer(s) instead of 1 peers\n",
      "                                                                                \r"
     ]
    },
    {
     "name": "stdout",
     "output_type": "stream",
     "text": [
      "========= 2024-05-25 20:27:00 =========\n",
      "+--------+--------------------+--------------------+-------------------+-----+-------------+-------------------+--------+--------------------+--------------------+---------+\n",
      "|     aid|               title|                 url|             domain|votes|         user|          posted_at|comments|        source_title|         source_text|frontpage|\n",
      "+--------+--------------------+--------------------+-------------------+-----+-------------+-------------------+--------+--------------------+--------------------+---------+\n",
      "|40474451|Unsafe OpenAI exa...|https://cookbook....|cookbook.openai.com|    1|  upwardbound|2024-05-25 12:10:24|       0|How to call funct...|How to call funct...|    false|\n",
      "|40474464|Benefits with CSV...|https://impler.io...|          impler.io|    4| bhavikchavda|2024-05-25 12:12:15|       0|ROI on CSV Excel ...|ROI on CSV Excel ...|    false|\n",
      "|40474501|LeechBlock – A Si...|https://www.progi...|     proginosko.com|    1|alabhyajindal|2024-05-25 12:17:27|       0|          LeechBlock|LeechBlock | A Si...|    false|\n",
      "|40474505|System Settings g...|https://www.macru...|      macrumors.com|    1|       doener|2024-05-25 12:17:46|       0|macOS 15 System S...|macOS 15 System S...|    false|\n",
      "+--------+--------------------+--------------------+-------------------+-----+-------------+-------------------+--------+--------------------+--------------------+---------+\n",
      "\n"
     ]
    },
    {
     "name": "stderr",
     "output_type": "stream",
     "text": [
      "24/05/25 20:27:01 WARN DAGScheduler: Broadcasting large task binary with size 1407.9 KiB\n",
      "24/05/25 20:27:01 WARN DAGScheduler: Broadcasting large task binary with size 1407.9 KiB\n",
      "24/05/25 20:27:01 WARN RandomBlockReplicationPolicy: Expecting 1 replicas with only 0 peer/s.\n",
      "24/05/25 20:27:01 WARN BlockManager: Block input-0-1716661621200 replicated to only 0 peer(s) instead of 1 peers\n",
      "24/05/25 20:27:01 WARN DAGScheduler: Broadcasting large task binary with size 1407.4 KiB\n"
     ]
    },
    {
     "name": "stdout",
     "output_type": "stream",
     "text": [
      "+--------+--------------------+--------------------+-------------------+-----+-------------+-------------------+--------+--------------------+--------------------+---------+-----------+--------------------+--------------------+--------------------+--------------------+------------+-----------------+--------------------+-----+--------------------+--------------------+----------+--------------------+\n",
      "|     aid|               title|                 url|             domain|votes|         user|          posted_at|comments|        source_title|         source_text|frontpage|text_length|               words|      filtered_words|         tf_features|      tfidf_features|domain_index|       domain_vec|            features|label|       rawPrediction|         probability|prediction|corrected_prediction|\n",
      "+--------+--------------------+--------------------+-------------------+-----+-------------+-------------------+--------+--------------------+--------------------+---------+-----------+--------------------+--------------------+--------------------+--------------------+------------+-----------------+--------------------+-----+--------------------+--------------------+----------+--------------------+\n",
      "|40474451|Unsafe OpenAI exa...|https://cookbook....|cookbook.openai.com|    1|  upwardbound|2024-05-25 12:10:24|       0|How to call funct...|How to call funct...|    false|      17838|[how, to, call, f...|[call, functions,...|(10000,[8,15,32,8...|(10000,[8,15,32,8...|      2119.0|     (2119,[],[])|(12122,[8,15,32,8...|  0.0|[1.54109111757439...|[0.95615176717383...|       0.0|                 1.0|\n",
      "|40474464|Benefits with CSV...|https://impler.io...|          impler.io|    4| bhavikchavda|2024-05-25 12:12:15|       0|ROI on CSV Excel ...|ROI on CSV Excel ...|    false|       4027|[roi, on, csv, ex...|[roi, csv, excel,...|(10000,[120,187,2...|(10000,[120,187,2...|      2119.0|     (2119,[],[])|(12122,[120,187,2...|  0.0|[-1.1715360210944...|[0.08761802106855...|       1.0|                 0.0|\n",
      "|40474501|LeechBlock – A Si...|https://www.progi...|     proginosko.com|    1|alabhyajindal|2024-05-25 12:17:27|       0|          LeechBlock|LeechBlock | A Si...|    false|       2213|[leechblock, |, a...|[leechblock, |, s...|(10000,[86,460,50...|(10000,[86,460,50...|      2119.0|     (2119,[],[])|(12122,[86,460,50...|  0.0|[1.54109111757439...|[0.95615176717383...|       0.0|                 1.0|\n",
      "|40474505|System Settings g...|https://www.macru...|      macrumors.com|    1|       doener|2024-05-25 12:17:46|       0|macOS 15 System S...|macOS 15 System S...|    false|      10544|[macos, 15, syste...|[macos, 15, syste...|(10000,[18,24,44,...|(10000,[18,24,44,...|        24.0|(2119,[24],[1.0])|(12122,[18,24,44,...|  0.0|[1.51626740098796...|[0.95402248650278...|       0.0|                 1.0|\n",
      "+--------+--------------------+--------------------+-------------------+-----+-------------+-------------------+--------+--------------------+--------------------+---------+-----------+--------------------+--------------------+--------------------+--------------------+------------+-----------------+--------------------+-----+--------------------+--------------------+----------+--------------------+\n",
      "\n"
     ]
    },
    {
     "name": "stderr",
     "output_type": "stream",
     "text": [
      "24/05/25 20:27:03 WARN RandomBlockReplicationPolicy: Expecting 1 replicas with only 0 peer/s.\n",
      "24/05/25 20:27:03 WARN BlockManager: Block input-0-1716661623000 replicated to only 0 peer(s) instead of 1 peers\n",
      "                                                                                \r"
     ]
    },
    {
     "name": "stdout",
     "output_type": "stream",
     "text": [
      "========= 2024-05-25 20:27:10 =========\n",
      "+--------+--------------------+--------------------+------------+-----+---------+-------------------+--------+--------------------+--------------------+---------+\n",
      "|     aid|               title|                 url|      domain|votes|     user|          posted_at|comments|        source_title|         source_text|frontpage|\n",
      "+--------+--------------------+--------------------+------------+-----+---------+-------------------+--------+--------------------+--------------------+---------+\n",
      "|40474507|Bill Maher: Ameri...|https://www.thefp...|   thefp.com|    2|   cebert|2024-05-25 12:17:51|       0|Bill Maher: Ameri...|Bill Maher: Ameri...|    false|\n",
      "|40474510|Memory Sealing \"M...|https://www.phoro...|phoronix.com|    1|westurner|2024-05-25 12:17:58|       0|Memory Sealing \"m...|Memory Sealing \"m...|    false|\n",
      "+--------+--------------------+--------------------+------------+-----+---------+-------------------+--------+--------------------+--------------------+---------+\n",
      "\n"
     ]
    },
    {
     "name": "stderr",
     "output_type": "stream",
     "text": [
      "24/05/25 20:27:11 WARN DAGScheduler: Broadcasting large task binary with size 1407.9 KiB\n",
      "24/05/25 20:27:11 WARN DAGScheduler: Broadcasting large task binary with size 1407.9 KiB\n"
     ]
    },
    {
     "name": "stdout",
     "output_type": "stream",
     "text": [
      "+--------+--------------------+--------------------+------------+-----+---------+-------------------+--------+--------------------+--------------------+---------+-----------+--------------------+--------------------+--------------------+--------------------+------------+-----------------+--------------------+-----+--------------------+--------------------+----------+--------------------+\n",
      "|     aid|               title|                 url|      domain|votes|     user|          posted_at|comments|        source_title|         source_text|frontpage|text_length|               words|      filtered_words|         tf_features|      tfidf_features|domain_index|       domain_vec|            features|label|       rawPrediction|         probability|prediction|corrected_prediction|\n",
      "+--------+--------------------+--------------------+------------+-----+---------+-------------------+--------+--------------------+--------------------+---------+-----------+--------------------+--------------------+--------------------+--------------------+------------+-----------------+--------------------+-----+--------------------+--------------------+----------+--------------------+\n",
      "|40474507|Bill Maher: Ameri...|https://www.thefp...|   thefp.com|    2|   cebert|2024-05-25 12:17:51|       0|Bill Maher: Ameri...|Bill Maher: Ameri...|    false|      20101|[bill, maher:, am...|[bill, maher:, am...|(10000,[1,4,14,15...|(10000,[1,4,14,15...|      2119.0|     (2119,[],[])|(12122,[1,4,14,15...|  0.0|[1.51601700981987...|[0.95400051540081...|       0.0|                 1.0|\n",
      "|40474510|Memory Sealing \"M...|https://www.phoro...|phoronix.com|    1|westurner|2024-05-25 12:17:58|       0|Memory Sealing \"m...|Memory Sealing \"m...|    false|       6371|[memory, sealing,...|[memory, sealing,...|(10000,[28,94,191...|(10000,[28,94,191...|        41.0|(2119,[41],[1.0])|(12122,[28,94,191...|  0.0|[1.54109111757439...|[0.95615176717383...|       0.0|                 1.0|\n",
      "+--------+--------------------+--------------------+------------+-----+---------+-------------------+--------+--------------------+--------------------+---------+-----------+--------------------+--------------------+--------------------+--------------------+------------+-----------------+--------------------+-----+--------------------+--------------------+----------+--------------------+\n",
      "\n"
     ]
    },
    {
     "name": "stderr",
     "output_type": "stream",
     "text": [
      "24/05/25 20:27:11 WARN DAGScheduler: Broadcasting large task binary with size 1407.4 KiB\n",
      "24/05/25 20:28:06 WARN RandomBlockReplicationPolicy: Expecting 1 replicas with only 0 peer/s.\n",
      "24/05/25 20:28:06 WARN BlockManager: Block input-0-1716661686400 replicated to only 0 peer(s) instead of 1 peers\n",
      "                                                                                \r"
     ]
    },
    {
     "name": "stdout",
     "output_type": "stream",
     "text": [
      "========= 2024-05-25 20:28:10 =========\n",
      "+--------+--------------------+--------------------+-------------------+-----+------+-------------------+--------+--------------------+--------------------+---------+\n",
      "|     aid|               title|                 url|             domain|votes|  user|          posted_at|comments|        source_title|         source_text|frontpage|\n",
      "+--------+--------------------+--------------------+-------------------+-----+------+-------------------+--------+--------------------+--------------------+---------+\n",
      "|40474516|The deskilling of...|https://www.baldu...|baldurbjarnason.com|   29|loop22|2024-05-25 12:18:53|       9|The deskilling of...|The deskilling of...|     true|\n",
      "+--------+--------------------+--------------------+-------------------+-----+------+-------------------+--------+--------------------+--------------------+---------+\n",
      "\n"
     ]
    },
    {
     "name": "stderr",
     "output_type": "stream",
     "text": [
      "24/05/25 20:28:10 WARN DAGScheduler: Broadcasting large task binary with size 1407.9 KiB\n",
      "24/05/25 20:28:11 WARN DAGScheduler: Broadcasting large task binary with size 1407.4 KiB\n"
     ]
    },
    {
     "name": "stdout",
     "output_type": "stream",
     "text": [
      "+--------+--------------------+--------------------+-------------------+-----+------+-------------------+--------+--------------------+--------------------+---------+-----------+--------------------+--------------------+--------------------+--------------------+------------+------------+--------------------+-----+--------------------+--------------------+----------+--------------------+\n",
      "|     aid|               title|                 url|             domain|votes|  user|          posted_at|comments|        source_title|         source_text|frontpage|text_length|               words|      filtered_words|         tf_features|      tfidf_features|domain_index|  domain_vec|            features|label|       rawPrediction|         probability|prediction|corrected_prediction|\n",
      "+--------+--------------------+--------------------+-------------------+-----+------+-------------------+--------+--------------------+--------------------+---------+-----------+--------------------+--------------------+--------------------+--------------------+------------+------------+--------------------+-----+--------------------+--------------------+----------+--------------------+\n",
      "|40474516|The deskilling of...|https://www.baldu...|baldurbjarnason.com|   29|loop22|2024-05-25 12:18:53|       9|The deskilling of...|The deskilling of...|     true|      11684|[the, deskilling,...|[deskilling, web,...|(10000,[4,7,11,44...|(10000,[4,7,11,44...|      2119.0|(2119,[],[])|(12122,[4,7,11,44...|  1.0|[-0.4913129116208...|[0.27237107375477...|       1.0|                 0.0|\n",
      "+--------+--------------------+--------------------+-------------------+-----+------+-------------------+--------+--------------------+--------------------+---------+-----------+--------------------+--------------------+--------------------+--------------------+------------+------------+--------------------+-----+--------------------+--------------------+----------+--------------------+\n",
      "\n"
     ]
    },
    {
     "name": "stderr",
     "output_type": "stream",
     "text": [
      "24/05/25 20:28:11 WARN RandomBlockReplicationPolicy: Expecting 1 replicas with only 0 peer/s.\n",
      "24/05/25 20:28:11 WARN BlockManager: Block input-0-1716661691400 replicated to only 0 peer(s) instead of 1 peers\n",
      "24/05/25 20:28:13 WARN RandomBlockReplicationPolicy: Expecting 1 replicas with only 0 peer/s.\n",
      "24/05/25 20:28:13 WARN BlockManager: Block input-0-1716661693400 replicated to only 0 peer(s) instead of 1 peers\n",
      "24/05/25 20:28:16 WARN RandomBlockReplicationPolicy: Expecting 1 replicas with only 0 peer/s.\n",
      "24/05/25 20:28:16 WARN BlockManager: Block input-0-1716661696400 replicated to only 0 peer(s) instead of 1 peers\n",
      "24/05/25 20:28:18 WARN RandomBlockReplicationPolicy: Expecting 1 replicas with only 0 peer/s.\n",
      "24/05/25 20:28:18 WARN BlockManager: Block input-0-1716661698400 replicated to only 0 peer(s) instead of 1 peers\n",
      "                                                                                \r"
     ]
    },
    {
     "name": "stdout",
     "output_type": "stream",
     "text": [
      "========= 2024-05-25 20:28:20 =========\n",
      "+--------+--------------------+--------------------+--------------------+-----+------+-------------------+--------+--------------------+--------------------+---------+\n",
      "|     aid|               title|                 url|              domain|votes|  user|          posted_at|comments|        source_title|         source_text|frontpage|\n",
      "+--------+--------------------+--------------------+--------------------+-----+------+-------------------+--------+--------------------+--------------------+---------+\n",
      "|40474517|The day Putin cri...|https://not-enter...|not-entertainment...|    1|microt|2024-05-25 12:18:57|       0|             Vietnam|Vietnam\\n\\nSkip t...|    false|\n",
      "|40474520|        Horror Vacui|https://en.wikipe...|       wikipedia.org|    1| EndXA|2024-05-25 12:19:41|       0|Horror vacui (phy...|Horror vacui (phy...|    false|\n",
      "|40474521|David Heinemeier ...|https://highperfo...|highperformancesq...|    2|  tosh|2024-05-25 12:19:42|       0|David Heinemeier ...|David Heinemeier ...|    false|\n",
      "|40474535|OpenAI: Non-dispa...|https://twitter.c...|twitter.com/jacob...|    1|doener|2024-05-25 12:21:13|       0|                   X|X\\n\\nDon’t miss w...|    false|\n",
      "+--------+--------------------+--------------------+--------------------+-----+------+-------------------+--------+--------------------+--------------------+---------+\n",
      "\n"
     ]
    },
    {
     "name": "stderr",
     "output_type": "stream",
     "text": [
      "24/05/25 20:28:20 WARN RandomBlockReplicationPolicy: Expecting 1 replicas with only 0 peer/s.\n",
      "24/05/25 20:28:20 WARN BlockManager: Block input-0-1716661700400 replicated to only 0 peer(s) instead of 1 peers\n",
      "24/05/25 20:28:21 WARN DAGScheduler: Broadcasting large task binary with size 1407.9 KiB\n",
      "24/05/25 20:28:21 WARN DAGScheduler: Broadcasting large task binary with size 1407.9 KiB\n"
     ]
    },
    {
     "name": "stdout",
     "output_type": "stream",
     "text": [
      "+--------+--------------------+--------------------+--------------------+-----+------+-------------------+--------+--------------------+--------------------+---------+-----------+--------------------+--------------------+--------------------+--------------------+------------+----------------+--------------------+-----+--------------------+--------------------+----------+--------------------+\n",
      "|     aid|               title|                 url|              domain|votes|  user|          posted_at|comments|        source_title|         source_text|frontpage|text_length|               words|      filtered_words|         tf_features|      tfidf_features|domain_index|      domain_vec|            features|label|       rawPrediction|         probability|prediction|corrected_prediction|\n",
      "+--------+--------------------+--------------------+--------------------+-----+------+-------------------+--------+--------------------+--------------------+---------+-----------+--------------------+--------------------+--------------------+--------------------+------------+----------------+--------------------+-----+--------------------+--------------------+----------+--------------------+\n",
      "|40474517|The day Putin cri...|https://not-enter...|not-entertainment...|    1|microt|2024-05-25 12:18:57|       0|             Vietnam|Vietnam\\n\\nSkip t...|    false|       9928|[vietnam, , skip,...|[vietnam, , skip,...|(10000,[24,58,99,...|(10000,[24,58,99,...|      2119.0|    (2119,[],[])|(12122,[24,58,99,...|  0.0|[1.54109111757439...|[0.95615176717383...|       0.0|                 1.0|\n",
      "|40474520|        Horror Vacui|https://en.wikipe...|       wikipedia.org|    1| EndXA|2024-05-25 12:19:41|       0|Horror vacui (phy...|Horror vacui (phy...|    false|      12426|[horror, vacui, (...|[horror, vacui, (...|(10000,[24,55,78,...|(10000,[24,55,78,...|         4.0|(2119,[4],[1.0])|(12122,[24,55,78,...|  0.0|[1.54109111757439...|[0.95615176717383...|       0.0|                 1.0|\n",
      "|40474521|David Heinemeier ...|https://highperfo...|highperformancesq...|    2|  tosh|2024-05-25 12:19:42|       0|David Heinemeier ...|David Heinemeier ...|    false|      53160|[david, heinemeie...|[david, heinemeie...|(10000,[1,2,4,7,2...|(10000,[1,2,4,7,2...|      2119.0|    (2119,[],[])|(12122,[1,2,4,7,2...|  0.0|[1.51601700981987...|[0.95400051540081...|       0.0|                 1.0|\n",
      "|40474535|OpenAI: Non-dispa...|https://twitter.c...|twitter.com/jacob...|    1|doener|2024-05-25 12:21:13|       0|                   X|X\\n\\nDon’t miss w...|    false|        541|[x, , don’t, miss...|[x, , don’t, miss...|(10000,[474,607,8...|(10000,[474,607,8...|      2119.0|    (2119,[],[])|(12122,[474,607,8...|  0.0|[1.54109111757439...|[0.95615176717383...|       0.0|                 1.0|\n",
      "+--------+--------------------+--------------------+--------------------+-----+------+-------------------+--------+--------------------+--------------------+---------+-----------+--------------------+--------------------+--------------------+--------------------+------------+----------------+--------------------+-----+--------------------+--------------------+----------+--------------------+\n",
      "\n"
     ]
    },
    {
     "name": "stderr",
     "output_type": "stream",
     "text": [
      "24/05/25 20:28:21 WARN DAGScheduler: Broadcasting large task binary with size 1407.4 KiB\n",
      "24/05/25 20:28:22 WARN RandomBlockReplicationPolicy: Expecting 1 replicas with only 0 peer/s.\n",
      "24/05/25 20:28:22 WARN BlockManager: Block input-0-1716661702600 replicated to only 0 peer(s) instead of 1 peers\n",
      "24/05/25 20:28:23 WARN RandomBlockReplicationPolicy: Expecting 1 replicas with only 0 peer/s.\n",
      "24/05/25 20:28:23 WARN BlockManager: Block input-0-1716661703600 replicated to only 0 peer(s) instead of 1 peers\n",
      "24/05/25 20:28:25 WARN RandomBlockReplicationPolicy: Expecting 1 replicas with only 0 peer/s.\n",
      "24/05/25 20:28:25 WARN BlockManager: Block input-0-1716661704800 replicated to only 0 peer(s) instead of 1 peers\n",
      "24/05/25 20:28:29 WARN RandomBlockReplicationPolicy: Expecting 1 replicas with only 0 peer/s.\n",
      "24/05/25 20:28:29 WARN BlockManager: Block input-0-1716661708800 replicated to only 0 peer(s) instead of 1 peers\n",
      "                                                                                \r"
     ]
    },
    {
     "name": "stdout",
     "output_type": "stream",
     "text": [
      "========= 2024-05-25 20:28:30 =========\n",
      "+--------+--------------------+--------------------+--------------+-----+----------+-------------------+--------+--------------------+--------------------+---------+\n",
      "|     aid|               title|                 url|        domain|votes|      user|          posted_at|comments|        source_title|         source_text|frontpage|\n",
      "+--------+--------------------+--------------------+--------------+-----+----------+-------------------+--------+--------------------+--------------------+---------+\n",
      "|40474540|In defense of usi...|https://www.dseba...|dsebastien.net|    2|dSebastien|2024-05-25 12:22:32|       0|Why You Should Ta...|Why You Should Ta...|    false|\n",
      "|40474545|How we crafted a ...|https://www.craft...|      craft.do|    2|     gklka|2024-05-25 12:23:09|       0|How we crafted a ...|How we crafted a ...|    false|\n",
      "|40474549|Fauci aide trigge...|https://usrtk.org...|     usrtk.org|    1| miguelazo|2024-05-25 12:23:50|       0|Fauci aide trigge...|Fauci aide trigge...|    false|\n",
      "|40474557|Kombucha-associat...|https://journals....|      plos.org|   12| bookofjoe|2024-05-25 12:24:38|       0|Kombucha Tea-asso...|Kombucha Tea-asso...|     true|\n",
      "|40474563|MoonScript A prog...|https://moonscrip...|moonscript.org|    2|  raytopia|2024-05-25 12:25:34|       0|MoonScript, a lan...|MoonScript, a lan...|    false|\n",
      "+--------+--------------------+--------------------+--------------+-----+----------+-------------------+--------+--------------------+--------------------+---------+\n",
      "\n"
     ]
    },
    {
     "name": "stderr",
     "output_type": "stream",
     "text": [
      "24/05/25 20:28:31 WARN RandomBlockReplicationPolicy: Expecting 1 replicas with only 0 peer/s.\n",
      "24/05/25 20:28:31 WARN BlockManager: Block input-0-1716661710800 replicated to only 0 peer(s) instead of 1 peers\n",
      "24/05/25 20:28:31 WARN DAGScheduler: Broadcasting large task binary with size 1407.9 KiB\n",
      "24/05/25 20:28:31 WARN DAGScheduler: Broadcasting large task binary with size 1407.9 KiB\n"
     ]
    },
    {
     "name": "stdout",
     "output_type": "stream",
     "text": [
      "+--------+--------------------+--------------------+--------------+-----+----------+-------------------+--------+--------------------+--------------------+---------+-----------+--------------------+--------------------+--------------------+--------------------+------------+-------------------+--------------------+-----+--------------------+--------------------+----------+--------------------+\n",
      "|     aid|               title|                 url|        domain|votes|      user|          posted_at|comments|        source_title|         source_text|frontpage|text_length|               words|      filtered_words|         tf_features|      tfidf_features|domain_index|         domain_vec|            features|label|       rawPrediction|         probability|prediction|corrected_prediction|\n",
      "+--------+--------------------+--------------------+--------------+-----+----------+-------------------+--------+--------------------+--------------------+---------+-----------+--------------------+--------------------+--------------------+--------------------+------------+-------------------+--------------------+-----+--------------------+--------------------+----------+--------------------+\n",
      "|40474540|In defense of usi...|https://www.dseba...|dsebastien.net|    2|dSebastien|2024-05-25 12:22:32|       0|Why You Should Ta...|Why You Should Ta...|    false|      24271|[why, you, should...|[take, notes, , p...|(10000,[1,4,8,16,...|(10000,[1,4,8,16,...|      2119.0|       (2119,[],[])|(12122,[1,4,8,16,...|  0.0|[1.54109111757439...|[0.95615176717383...|       0.0|                 1.0|\n",
      "|40474545|How we crafted a ...|https://www.craft...|      craft.do|    2|     gklka|2024-05-25 12:23:09|       0|How we crafted a ...|How we crafted a ...|    false|      29381|[how, we, crafted...|[crafted, first, ...|(10000,[5,7,20,23...|(10000,[5,7,20,23...|      2119.0|       (2119,[],[])|(12122,[5,7,20,23...|  0.0|[1.54109111757439...|[0.95615176717383...|       0.0|                 1.0|\n",
      "|40474549|Fauci aide trigge...|https://usrtk.org...|     usrtk.org|    1| miguelazo|2024-05-25 12:23:50|       0|Fauci aide trigge...|Fauci aide trigge...|    false|      11837|[fauci, aide, tri...|[fauci, aide, tri...|(10000,[7,15,32,9...|(10000,[7,15,32,9...|      2119.0|       (2119,[],[])|(12122,[7,15,32,9...|  0.0|[1.54109111757439...|[0.95615176717383...|       0.0|                 1.0|\n",
      "|40474557|Kombucha-associat...|https://journals....|      plos.org|   12| bookofjoe|2024-05-25 12:24:38|       0|Kombucha Tea-asso...|Kombucha Tea-asso...|     true|     134401|[kombucha, tea-as...|[kombucha, tea-as...|(10000,[0,2,5,9,1...|(10000,[0,2,5,9,1...|      1689.0|(2119,[1689],[1.0])|(12122,[0,2,5,9,1...|  1.0|[2.18441359135993...|[0.98749233628919...|       0.0|                 1.0|\n",
      "|40474563|MoonScript A prog...|https://moonscrip...|moonscript.org|    2|  raytopia|2024-05-25 12:25:34|       0|MoonScript, a lan...|MoonScript, a lan...|    false|       6278|[moonscript,, a, ...|[moonscript,, lan...|(10000,[3,15,32,4...|(10000,[3,15,32,4...|      2119.0|       (2119,[],[])|(12122,[3,15,32,4...|  0.0|[1.54109111757439...|[0.95615176717383...|       0.0|                 1.0|\n",
      "+--------+--------------------+--------------------+--------------+-----+----------+-------------------+--------+--------------------+--------------------+---------+-----------+--------------------+--------------------+--------------------+--------------------+------------+-------------------+--------------------+-----+--------------------+--------------------+----------+--------------------+\n",
      "\n"
     ]
    },
    {
     "name": "stderr",
     "output_type": "stream",
     "text": [
      "24/05/25 20:28:31 WARN DAGScheduler: Broadcasting large task binary with size 1407.4 KiB\n",
      "                                                                                \r"
     ]
    },
    {
     "name": "stdout",
     "output_type": "stream",
     "text": [
      "========= 2024-05-25 20:28:40 =========\n",
      "+--------+--------------------+--------------------+-------------+-----+-----+-------------------+--------+------------+-----------+---------+\n",
      "|     aid|               title|                 url|       domain|votes| user|          posted_at|comments|source_title|source_text|frontpage|\n",
      "+--------+--------------------+--------------------+-------------+-----+-----+-------------------+--------+------------+-----------+---------+\n",
      "|40474564|Neuralink Compres...|https://content.n...|neuralink.com|    1|atrus|2024-05-25 12:25:42|       0|        NULL|       NULL|    false|\n",
      "+--------+--------------------+--------------------+-------------+-----+-----+-------------------+--------+------------+-----------+---------+\n",
      "\n"
     ]
    },
    {
     "name": "stderr",
     "output_type": "stream",
     "text": [
      "24/05/25 20:28:40 WARN DAGScheduler: Broadcasting large task binary with size 1407.9 KiB\n",
      "24/05/25 20:28:41 ERROR PythonUDFRunner: Python worker exited unexpectedly (crashed)\n",
      "org.apache.spark.api.python.PythonException: Traceback (most recent call last):\n",
      "  File \"/Users/xiaodi/anaconda3/spark/spark-3.5.1-bin-hadoop3/python/lib/pyspark.zip/pyspark/worker.py\", line 1225, in main\n",
      "    eval_type = read_int(infile)\n",
      "                ^^^^^^^^^^^^^^^^\n",
      "  File \"/Users/xiaodi/anaconda3/spark/spark-3.5.1-bin-hadoop3/python/lib/pyspark.zip/pyspark/serializers.py\", line 596, in read_int\n",
      "    raise EOFError\n",
      "EOFError\n",
      "\n",
      "\tat org.apache.spark.api.python.BasePythonRunner$ReaderIterator.handlePythonException(PythonRunner.scala:572)\n",
      "\tat org.apache.spark.sql.execution.python.BasePythonUDFRunner$$anon$1.read(PythonUDFRunner.scala:94)\n",
      "\tat org.apache.spark.sql.execution.python.BasePythonUDFRunner$$anon$1.read(PythonUDFRunner.scala:75)\n",
      "\tat org.apache.spark.api.python.BasePythonRunner$ReaderIterator.hasNext(PythonRunner.scala:525)\n",
      "\tat org.apache.spark.InterruptibleIterator.hasNext(InterruptibleIterator.scala:37)\n",
      "\tat scala.collection.Iterator$$anon$11.hasNext(Iterator.scala:491)\n",
      "\tat scala.collection.Iterator$$anon$10.hasNext(Iterator.scala:460)\n",
      "\tat scala.collection.Iterator$$anon$10.hasNext(Iterator.scala:460)\n",
      "\tat org.apache.spark.sql.catalyst.expressions.GeneratedClass$GeneratedIteratorForCodegenStage2.processNext(Unknown Source)\n",
      "\tat org.apache.spark.sql.execution.BufferedRowIterator.hasNext(BufferedRowIterator.java:43)\n",
      "\tat org.apache.spark.sql.execution.WholeStageCodegenEvaluatorFactory$WholeStageCodegenPartitionEvaluator$$anon$1.hasNext(WholeStageCodegenEvaluatorFactory.scala:43)\n",
      "\tat org.apache.spark.sql.execution.SparkPlan.$anonfun$getByteArrayRdd$1(SparkPlan.scala:388)\n",
      "\tat org.apache.spark.rdd.RDD.$anonfun$mapPartitionsInternal$2(RDD.scala:893)\n",
      "\tat org.apache.spark.rdd.RDD.$anonfun$mapPartitionsInternal$2$adapted(RDD.scala:893)\n",
      "\tat org.apache.spark.rdd.MapPartitionsRDD.compute(MapPartitionsRDD.scala:52)\n",
      "\tat org.apache.spark.rdd.RDD.computeOrReadCheckpoint(RDD.scala:367)\n",
      "\tat org.apache.spark.rdd.RDD.iterator(RDD.scala:331)\n",
      "\tat org.apache.spark.scheduler.ResultTask.runTask(ResultTask.scala:93)\n",
      "\tat org.apache.spark.TaskContext.runTaskWithListeners(TaskContext.scala:166)\n",
      "\tat org.apache.spark.scheduler.Task.run(Task.scala:141)\n",
      "\tat org.apache.spark.executor.Executor$TaskRunner.$anonfun$run$4(Executor.scala:620)\n",
      "\tat org.apache.spark.util.SparkErrorUtils.tryWithSafeFinally(SparkErrorUtils.scala:64)\n",
      "\tat org.apache.spark.util.SparkErrorUtils.tryWithSafeFinally$(SparkErrorUtils.scala:61)\n",
      "\tat org.apache.spark.util.Utils$.tryWithSafeFinally(Utils.scala:94)\n",
      "\tat org.apache.spark.executor.Executor$TaskRunner.run(Executor.scala:623)\n",
      "\tat java.util.concurrent.ThreadPoolExecutor.runWorker(ThreadPoolExecutor.java:1149)\n",
      "\tat java.util.concurrent.ThreadPoolExecutor$Worker.run(ThreadPoolExecutor.java:624)\n",
      "\tat java.lang.Thread.run(Thread.java:750)\n",
      "Caused by: org.apache.spark.SparkException: [FAILED_EXECUTE_UDF] Failed to execute user defined function (`Tokenizer$$Lambda$3589/364020804`: (string) => array<string>).\n",
      "\tat org.apache.spark.sql.errors.QueryExecutionErrors$.failedExecuteUserDefinedFunctionError(QueryExecutionErrors.scala:198)\n",
      "\tat org.apache.spark.sql.errors.QueryExecutionErrors.failedExecuteUserDefinedFunctionError(QueryExecutionErrors.scala)\n",
      "\tat org.apache.spark.sql.catalyst.expressions.GeneratedClass$GeneratedIteratorForCodegenStage1.processNext(Unknown Source)\n",
      "\tat org.apache.spark.sql.execution.BufferedRowIterator.hasNext(BufferedRowIterator.java:43)\n",
      "\tat org.apache.spark.sql.execution.WholeStageCodegenEvaluatorFactory$WholeStageCodegenPartitionEvaluator$$anon$1.hasNext(WholeStageCodegenEvaluatorFactory.scala:43)\n",
      "\tat scala.collection.Iterator$$anon$10.hasNext(Iterator.scala:460)\n",
      "\tat org.apache.spark.ContextAwareIterator.hasNext(ContextAwareIterator.scala:39)\n",
      "\tat scala.collection.Iterator$$anon$10.hasNext(Iterator.scala:460)\n",
      "\tat scala.collection.Iterator$$anon$10.hasNext(Iterator.scala:460)\n",
      "\tat scala.collection.Iterator$GroupedIterator.fill(Iterator.scala:1211)\n",
      "\tat scala.collection.Iterator$GroupedIterator.hasNext(Iterator.scala:1217)\n",
      "\tat scala.collection.Iterator$$anon$10.hasNext(Iterator.scala:460)\n",
      "\tat scala.collection.Iterator.foreach(Iterator.scala:943)\n",
      "\tat scala.collection.Iterator.foreach$(Iterator.scala:943)\n",
      "\tat scala.collection.AbstractIterator.foreach(Iterator.scala:1431)\n",
      "\tat org.apache.spark.api.python.PythonRDD$.writeIteratorToStream(PythonRDD.scala:322)\n",
      "\tat org.apache.spark.sql.execution.python.BasePythonUDFRunner$PythonUDFWriterThread.writeIteratorToStream(PythonUDFRunner.scala:58)\n",
      "\tat org.apache.spark.api.python.BasePythonRunner$WriterThread.$anonfun$run$1(PythonRunner.scala:451)\n",
      "\tat org.apache.spark.util.Utils$.logUncaughtExceptions(Utils.scala:1928)\n",
      "\tat org.apache.spark.api.python.BasePythonRunner$WriterThread.run(PythonRunner.scala:282)\n",
      "Caused by: java.lang.NullPointerException\n",
      "\tat org.apache.spark.ml.feature.Tokenizer.$anonfun$createTransformFunc$1(Tokenizer.scala:40)\n",
      "\t... 18 more\n",
      "24/05/25 20:28:41 ERROR PythonUDFRunner: This may have been caused by a prior exception:\n",
      "org.apache.spark.SparkException: [FAILED_EXECUTE_UDF] Failed to execute user defined function (`Tokenizer$$Lambda$3589/364020804`: (string) => array<string>).\n",
      "\tat org.apache.spark.sql.errors.QueryExecutionErrors$.failedExecuteUserDefinedFunctionError(QueryExecutionErrors.scala:198)\n",
      "\tat org.apache.spark.sql.errors.QueryExecutionErrors.failedExecuteUserDefinedFunctionError(QueryExecutionErrors.scala)\n",
      "\tat org.apache.spark.sql.catalyst.expressions.GeneratedClass$GeneratedIteratorForCodegenStage1.processNext(Unknown Source)\n",
      "\tat org.apache.spark.sql.execution.BufferedRowIterator.hasNext(BufferedRowIterator.java:43)\n",
      "\tat org.apache.spark.sql.execution.WholeStageCodegenEvaluatorFactory$WholeStageCodegenPartitionEvaluator$$anon$1.hasNext(WholeStageCodegenEvaluatorFactory.scala:43)\n",
      "\tat scala.collection.Iterator$$anon$10.hasNext(Iterator.scala:460)\n",
      "\tat org.apache.spark.ContextAwareIterator.hasNext(ContextAwareIterator.scala:39)\n",
      "\tat scala.collection.Iterator$$anon$10.hasNext(Iterator.scala:460)\n",
      "\tat scala.collection.Iterator$$anon$10.hasNext(Iterator.scala:460)\n",
      "\tat scala.collection.Iterator$GroupedIterator.fill(Iterator.scala:1211)\n",
      "\tat scala.collection.Iterator$GroupedIterator.hasNext(Iterator.scala:1217)\n",
      "\tat scala.collection.Iterator$$anon$10.hasNext(Iterator.scala:460)\n",
      "\tat scala.collection.Iterator.foreach(Iterator.scala:943)\n",
      "\tat scala.collection.Iterator.foreach$(Iterator.scala:943)\n",
      "\tat scala.collection.AbstractIterator.foreach(Iterator.scala:1431)\n",
      "\tat org.apache.spark.api.python.PythonRDD$.writeIteratorToStream(PythonRDD.scala:322)\n",
      "\tat org.apache.spark.sql.execution.python.BasePythonUDFRunner$PythonUDFWriterThread.writeIteratorToStream(PythonUDFRunner.scala:58)\n",
      "\tat org.apache.spark.api.python.BasePythonRunner$WriterThread.$anonfun$run$1(PythonRunner.scala:451)\n",
      "\tat org.apache.spark.util.Utils$.logUncaughtExceptions(Utils.scala:1928)\n",
      "\tat org.apache.spark.api.python.BasePythonRunner$WriterThread.run(PythonRunner.scala:282)\n",
      "Caused by: java.lang.NullPointerException\n",
      "\tat org.apache.spark.ml.feature.Tokenizer.$anonfun$createTransformFunc$1(Tokenizer.scala:40)\n",
      "\t... 18 more\n",
      "24/05/25 20:28:41 ERROR Executor: Exception in task 0.0 in stage 1187.0 (TID 1339)\n",
      "org.apache.spark.SparkException: [FAILED_EXECUTE_UDF] Failed to execute user defined function (`Tokenizer$$Lambda$3589/364020804`: (string) => array<string>).\n",
      "\tat org.apache.spark.sql.errors.QueryExecutionErrors$.failedExecuteUserDefinedFunctionError(QueryExecutionErrors.scala:198)\n",
      "\tat org.apache.spark.sql.errors.QueryExecutionErrors.failedExecuteUserDefinedFunctionError(QueryExecutionErrors.scala)\n",
      "\tat org.apache.spark.sql.catalyst.expressions.GeneratedClass$GeneratedIteratorForCodegenStage1.processNext(Unknown Source)\n",
      "\tat org.apache.spark.sql.execution.BufferedRowIterator.hasNext(BufferedRowIterator.java:43)\n",
      "\tat org.apache.spark.sql.execution.WholeStageCodegenEvaluatorFactory$WholeStageCodegenPartitionEvaluator$$anon$1.hasNext(WholeStageCodegenEvaluatorFactory.scala:43)\n",
      "\tat scala.collection.Iterator$$anon$10.hasNext(Iterator.scala:460)\n",
      "\tat org.apache.spark.ContextAwareIterator.hasNext(ContextAwareIterator.scala:39)\n",
      "\tat scala.collection.Iterator$$anon$10.hasNext(Iterator.scala:460)\n",
      "\tat scala.collection.Iterator$$anon$10.hasNext(Iterator.scala:460)\n",
      "\tat scala.collection.Iterator$GroupedIterator.fill(Iterator.scala:1211)\n",
      "\tat scala.collection.Iterator$GroupedIterator.hasNext(Iterator.scala:1217)\n",
      "\tat scala.collection.Iterator$$anon$10.hasNext(Iterator.scala:460)\n",
      "\tat scala.collection.Iterator.foreach(Iterator.scala:943)\n",
      "\tat scala.collection.Iterator.foreach$(Iterator.scala:943)\n",
      "\tat scala.collection.AbstractIterator.foreach(Iterator.scala:1431)\n",
      "\tat org.apache.spark.api.python.PythonRDD$.writeIteratorToStream(PythonRDD.scala:322)\n",
      "\tat org.apache.spark.sql.execution.python.BasePythonUDFRunner$PythonUDFWriterThread.writeIteratorToStream(PythonUDFRunner.scala:58)\n",
      "\tat org.apache.spark.api.python.BasePythonRunner$WriterThread.$anonfun$run$1(PythonRunner.scala:451)\n",
      "\tat org.apache.spark.util.Utils$.logUncaughtExceptions(Utils.scala:1928)\n",
      "\tat org.apache.spark.api.python.BasePythonRunner$WriterThread.run(PythonRunner.scala:282)\n",
      "Caused by: java.lang.NullPointerException\n",
      "\tat org.apache.spark.ml.feature.Tokenizer.$anonfun$createTransformFunc$1(Tokenizer.scala:40)\n",
      "\t... 18 more\n",
      "24/05/25 20:28:41 WARN TaskSetManager: Lost task 0.0 in stage 1187.0 (TID 1339) (10.46.188.41 executor driver): org.apache.spark.SparkException: [FAILED_EXECUTE_UDF] Failed to execute user defined function (`Tokenizer$$Lambda$3589/364020804`: (string) => array<string>).\n",
      "\tat org.apache.spark.sql.errors.QueryExecutionErrors$.failedExecuteUserDefinedFunctionError(QueryExecutionErrors.scala:198)\n",
      "\tat org.apache.spark.sql.errors.QueryExecutionErrors.failedExecuteUserDefinedFunctionError(QueryExecutionErrors.scala)\n",
      "\tat org.apache.spark.sql.catalyst.expressions.GeneratedClass$GeneratedIteratorForCodegenStage1.processNext(Unknown Source)\n",
      "\tat org.apache.spark.sql.execution.BufferedRowIterator.hasNext(BufferedRowIterator.java:43)\n",
      "\tat org.apache.spark.sql.execution.WholeStageCodegenEvaluatorFactory$WholeStageCodegenPartitionEvaluator$$anon$1.hasNext(WholeStageCodegenEvaluatorFactory.scala:43)\n",
      "\tat scala.collection.Iterator$$anon$10.hasNext(Iterator.scala:460)\n",
      "\tat org.apache.spark.ContextAwareIterator.hasNext(ContextAwareIterator.scala:39)\n",
      "\tat scala.collection.Iterator$$anon$10.hasNext(Iterator.scala:460)\n",
      "\tat scala.collection.Iterator$$anon$10.hasNext(Iterator.scala:460)\n",
      "\tat scala.collection.Iterator$GroupedIterator.fill(Iterator.scala:1211)\n",
      "\tat scala.collection.Iterator$GroupedIterator.hasNext(Iterator.scala:1217)\n",
      "\tat scala.collection.Iterator$$anon$10.hasNext(Iterator.scala:460)\n",
      "\tat scala.collection.Iterator.foreach(Iterator.scala:943)\n",
      "\tat scala.collection.Iterator.foreach$(Iterator.scala:943)\n",
      "\tat scala.collection.AbstractIterator.foreach(Iterator.scala:1431)\n",
      "\tat org.apache.spark.api.python.PythonRDD$.writeIteratorToStream(PythonRDD.scala:322)\n",
      "\tat org.apache.spark.sql.execution.python.BasePythonUDFRunner$PythonUDFWriterThread.writeIteratorToStream(PythonUDFRunner.scala:58)\n",
      "\tat org.apache.spark.api.python.BasePythonRunner$WriterThread.$anonfun$run$1(PythonRunner.scala:451)\n",
      "\tat org.apache.spark.util.Utils$.logUncaughtExceptions(Utils.scala:1928)\n",
      "\tat org.apache.spark.api.python.BasePythonRunner$WriterThread.run(PythonRunner.scala:282)\n",
      "Caused by: java.lang.NullPointerException\n",
      "\tat org.apache.spark.ml.feature.Tokenizer.$anonfun$createTransformFunc$1(Tokenizer.scala:40)\n",
      "\t... 18 more\n",
      "\n",
      "24/05/25 20:28:41 ERROR TaskSetManager: Task 0 in stage 1187.0 failed 1 times; aborting job\n",
      "24/05/25 20:28:41 ERROR JobScheduler: Error running job streaming job 1716661720000 ms.0\n",
      "org.apache.spark.SparkException: An exception was raised by Python:\n",
      "Traceback (most recent call last):\n",
      "  File \"/Users/xiaodi/anaconda3/spark/spark-3.5.1-bin-hadoop3/python/pyspark/streaming/util.py\", line 71, in call\n",
      "    r = self.func(t, *rdds)\n",
      "        ^^^^^^^^^^^^^^^^^^^\n",
      "  File \"/var/folders/cz/pmt5rhc96x1dr6fqpqr44bmr0000gn/T/ipykernel_33325/3480282205.py\", line 66, in process\n",
      "    df_result.show(n=20)\n",
      "  File \"/Users/xiaodi/anaconda3/spark/spark-3.5.1-bin-hadoop3/python/pyspark/sql/dataframe.py\", line 945, in show\n",
      "    print(self._show_string(n, truncate, vertical))\n",
      "          ^^^^^^^^^^^^^^^^^^^^^^^^^^^^^^^^^^^^^^^^\n",
      "  File \"/Users/xiaodi/anaconda3/spark/spark-3.5.1-bin-hadoop3/python/pyspark/sql/dataframe.py\", line 963, in _show_string\n",
      "    return self._jdf.showString(n, 20, vertical)\n",
      "           ^^^^^^^^^^^^^^^^^^^^^^^^^^^^^^^^^^^^^\n",
      "  File \"/Users/xiaodi/anaconda3/spark/spark-3.5.1-bin-hadoop3/python/lib/py4j-0.10.9.7-src.zip/py4j/java_gateway.py\", line 1322, in __call__\n",
      "    return_value = get_return_value(\n",
      "                   ^^^^^^^^^^^^^^^^^\n",
      "  File \"/Users/xiaodi/anaconda3/spark/spark-3.5.1-bin-hadoop3/python/pyspark/errors/exceptions/captured.py\", line 179, in deco\n",
      "    return f(*a, **kw)\n",
      "           ^^^^^^^^^^^\n",
      "  File \"/Users/xiaodi/anaconda3/spark/spark-3.5.1-bin-hadoop3/python/lib/py4j-0.10.9.7-src.zip/py4j/protocol.py\", line 326, in get_return_value\n",
      "    raise Py4JJavaError(\n",
      "py4j.protocol.Py4JJavaError: An error occurred while calling o13138.showString.\n",
      ": org.apache.spark.SparkException: Job aborted due to stage failure: Task 0 in stage 1187.0 failed 1 times, most recent failure: Lost task 0.0 in stage 1187.0 (TID 1339) (10.46.188.41 executor driver): org.apache.spark.SparkException: [FAILED_EXECUTE_UDF] Failed to execute user defined function (`Tokenizer$$Lambda$3589/364020804`: (string) => array<string>).\n",
      "\tat org.apache.spark.sql.errors.QueryExecutionErrors$.failedExecuteUserDefinedFunctionError(QueryExecutionErrors.scala:198)\n",
      "\tat org.apache.spark.sql.errors.QueryExecutionErrors.failedExecuteUserDefinedFunctionError(QueryExecutionErrors.scala)\n",
      "\tat org.apache.spark.sql.catalyst.expressions.GeneratedClass$GeneratedIteratorForCodegenStage1.processNext(Unknown Source)\n",
      "\tat org.apache.spark.sql.execution.BufferedRowIterator.hasNext(BufferedRowIterator.java:43)\n",
      "\tat org.apache.spark.sql.execution.WholeStageCodegenEvaluatorFactory$WholeStageCodegenPartitionEvaluator$$anon$1.hasNext(WholeStageCodegenEvaluatorFactory.scala:43)\n",
      "\tat scala.collection.Iterator$$anon$10.hasNext(Iterator.scala:460)\n",
      "\tat org.apache.spark.ContextAwareIterator.hasNext(ContextAwareIterator.scala:39)\n",
      "\tat scala.collection.Iterator$$anon$10.hasNext(Iterator.scala:460)\n",
      "\tat scala.collection.Iterator$$anon$10.hasNext(Iterator.scala:460)\n",
      "\tat scala.collection.Iterator$GroupedIterator.fill(Iterator.scala:1211)\n",
      "\tat scala.collection.Iterator$GroupedIterator.hasNext(Iterator.scala:1217)\n",
      "\tat scala.collection.Iterator$$anon$10.hasNext(Iterator.scala:460)\n",
      "\tat scala.collection.Iterator.foreach(Iterator.scala:943)\n",
      "\tat scala.collection.Iterator.foreach$(Iterator.scala:943)\n",
      "\tat scala.collection.AbstractIterator.foreach(Iterator.scala:1431)\n",
      "\tat org.apache.spark.api.python.PythonRDD$.writeIteratorToStream(PythonRDD.scala:322)\n",
      "\tat org.apache.spark.sql.execution.python.BasePythonUDFRunner$PythonUDFWriterThread.writeIteratorToStream(PythonUDFRunner.scala:58)\n",
      "\tat org.apache.spark.api.python.BasePythonRunner$WriterThread.$anonfun$run$1(PythonRunner.scala:451)\n",
      "\tat org.apache.spark.util.Utils$.logUncaughtExceptions(Utils.scala:1928)\n",
      "\tat org.apache.spark.api.python.BasePythonRunner$WriterThread.run(PythonRunner.scala:282)\n",
      "Caused by: java.lang.NullPointerException\n",
      "\tat org.apache.spark.ml.feature.Tokenizer.$anonfun$createTransformFunc$1(Tokenizer.scala:40)\n",
      "\t... 18 more\n",
      "\n",
      "Driver stacktrace:\n",
      "\tat org.apache.spark.scheduler.DAGScheduler.failJobAndIndependentStages(DAGScheduler.scala:2856)\n",
      "\tat org.apache.spark.scheduler.DAGScheduler.$anonfun$abortStage$2(DAGScheduler.scala:2792)\n",
      "\tat org.apache.spark.scheduler.DAGScheduler.$anonfun$abortStage$2$adapted(DAGScheduler.scala:2791)\n",
      "\tat scala.collection.mutable.ResizableArray.foreach(ResizableArray.scala:62)\n",
      "\tat scala.collection.mutable.ResizableArray.foreach$(ResizableArray.scala:55)\n",
      "\tat scala.collection.mutable.ArrayBuffer.foreach(ArrayBuffer.scala:49)\n",
      "\tat org.apache.spark.scheduler.DAGScheduler.abortStage(DAGScheduler.scala:2791)\n",
      "\tat org.apache.spark.scheduler.DAGScheduler.$anonfun$handleTaskSetFailed$1(DAGScheduler.scala:1247)\n",
      "\tat org.apache.spark.scheduler.DAGScheduler.$anonfun$handleTaskSetFailed$1$adapted(DAGScheduler.scala:1247)\n",
      "\tat scala.Option.foreach(Option.scala:407)\n",
      "\tat org.apache.spark.scheduler.DAGScheduler.handleTaskSetFailed(DAGScheduler.scala:1247)\n",
      "\tat org.apache.spark.scheduler.DAGSchedulerEventProcessLoop.doOnReceive(DAGScheduler.scala:3060)\n",
      "\tat org.apache.spark.scheduler.DAGSchedulerEventProcessLoop.onReceive(DAGScheduler.scala:2994)\n",
      "\tat org.apache.spark.scheduler.DAGSchedulerEventProcessLoop.onReceive(DAGScheduler.scala:2983)\n",
      "\tat org.apache.spark.util.EventLoop$$anon$1.run(EventLoop.scala:49)\n",
      "\tat org.apache.spark.scheduler.DAGScheduler.runJob(DAGScheduler.scala:989)\n",
      "\tat org.apache.spark.SparkContext.runJob(SparkContext.scala:2398)\n",
      "\tat org.apache.spark.SparkContext.runJob(SparkContext.scala:2419)\n",
      "\tat org.apache.spark.SparkContext.runJob(SparkContext.scala:2438)\n",
      "\tat org.apache.spark.sql.execution.SparkPlan.executeTake(SparkPlan.scala:530)\n",
      "\tat org.apache.spark.sql.execution.SparkPlan.executeTake(SparkPlan.scala:483)\n",
      "\tat org.apache.spark.sql.execution.CollectLimitExec.executeCollect(limit.scala:61)\n",
      "\tat org.apache.spark.sql.Dataset.collectFromPlan(Dataset.scala:4332)\n",
      "\tat org.apache.spark.sql.Dataset.$anonfun$head$1(Dataset.scala:3314)\n",
      "\tat org.apache.spark.sql.Dataset.$anonfun$withAction$2(Dataset.scala:4322)\n",
      "\tat org.apache.spark.sql.execution.QueryExecution$.withInternalError(QueryExecution.scala:546)\n",
      "\tat org.apache.spark.sql.Dataset.$anonfun$withAction$1(Dataset.scala:4320)\n",
      "\tat org.apache.spark.sql.execution.SQLExecution$.$anonfun$withNewExecutionId$6(SQLExecution.scala:125)\n",
      "\tat org.apache.spark.sql.execution.SQLExecution$.withSQLConfPropagated(SQLExecution.scala:201)\n",
      "\tat org.apache.spark.sql.execution.SQLExecution$.$anonfun$withNewExecutionId$1(SQLExecution.scala:108)\n",
      "\tat org.apache.spark.sql.SparkSession.withActive(SparkSession.scala:900)\n",
      "\tat org.apache.spark.sql.execution.SQLExecution$.withNewExecutionId(SQLExecution.scala:66)\n",
      "\tat org.apache.spark.sql.Dataset.withAction(Dataset.scala:4320)\n",
      "\tat org.apache.spark.sql.Dataset.head(Dataset.scala:3314)\n",
      "\tat org.apache.spark.sql.Dataset.take(Dataset.scala:3537)\n",
      "\tat org.apache.spark.sql.Dataset.getRows(Dataset.scala:280)\n",
      "\tat org.apache.spark.sql.Dataset.showString(Dataset.scala:315)\n",
      "\tat sun.reflect.GeneratedMethodAccessor181.invoke(Unknown Source)\n",
      "\tat sun.reflect.DelegatingMethodAccessorImpl.invoke(DelegatingMethodAccessorImpl.java:43)\n",
      "\tat java.lang.reflect.Method.invoke(Method.java:498)\n",
      "\tat py4j.reflection.MethodInvoker.invoke(MethodInvoker.java:244)\n",
      "\tat py4j.reflection.ReflectionEngine.invoke(ReflectionEngine.java:374)\n",
      "\tat py4j.Gateway.invoke(Gateway.java:282)\n",
      "\tat py4j.commands.AbstractCommand.invokeMethod(AbstractCommand.java:132)\n",
      "\tat py4j.commands.CallCommand.execute(CallCommand.java:79)\n",
      "\tat py4j.ClientServerConnection.sendCommand(ClientServerConnection.java:244)\n",
      "\tat py4j.CallbackClient.sendCommand(CallbackClient.java:384)\n",
      "\tat py4j.CallbackClient.sendCommand(CallbackClient.java:356)\n",
      "\tat py4j.reflection.PythonProxyHandler.invoke(PythonProxyHandler.java:106)\n",
      "\tat com.sun.proxy.$Proxy33.call(Unknown Source)\n",
      "\tat org.apache.spark.streaming.api.python.TransformFunction.callPythonTransformFunction(PythonDStream.scala:92)\n",
      "\tat org.apache.spark.streaming.api.python.TransformFunction.apply(PythonDStream.scala:78)\n",
      "\tat org.apache.spark.streaming.api.python.PythonDStream$.$anonfun$callForeachRDD$1(PythonDStream.scala:179)\n",
      "\tat org.apache.spark.streaming.api.python.PythonDStream$.$anonfun$callForeachRDD$1$adapted(PythonDStream.scala:179)\n",
      "\tat org.apache.spark.streaming.dstream.ForEachDStream.$anonfun$generateJob$2(ForEachDStream.scala:51)\n",
      "\tat scala.runtime.java8.JFunction0$mcV$sp.apply(JFunction0$mcV$sp.java:23)\n",
      "\tat org.apache.spark.streaming.dstream.DStream.createRDDWithLocalProperties(DStream.scala:417)\n",
      "\tat org.apache.spark.streaming.dstream.ForEachDStream.$anonfun$generateJob$1(ForEachDStream.scala:51)\n",
      "\tat scala.runtime.java8.JFunction0$mcV$sp.apply(JFunction0$mcV$sp.java:23)\n",
      "\tat scala.util.Try$.apply(Try.scala:213)\n",
      "\tat org.apache.spark.streaming.scheduler.Job.run(Job.scala:39)\n",
      "\tat org.apache.spark.streaming.scheduler.JobScheduler$JobHandler.$anonfun$run$1(JobScheduler.scala:256)\n",
      "\tat scala.runtime.java8.JFunction0$mcV$sp.apply(JFunction0$mcV$sp.java:23)\n",
      "\tat scala.util.DynamicVariable.withValue(DynamicVariable.scala:62)\n",
      "\tat org.apache.spark.streaming.scheduler.JobScheduler$JobHandler.run(JobScheduler.scala:256)\n",
      "\tat java.util.concurrent.ThreadPoolExecutor.runWorker(ThreadPoolExecutor.java:1149)\n",
      "\tat java.util.concurrent.ThreadPoolExecutor$Worker.run(ThreadPoolExecutor.java:624)\n",
      "\tat java.lang.Thread.run(Thread.java:750)\n",
      "Caused by: org.apache.spark.SparkException: [FAILED_EXECUTE_UDF] Failed to execute user defined function (`Tokenizer$$Lambda$3589/364020804`: (string) => array<string>).\n",
      "\tat org.apache.spark.sql.errors.QueryExecutionErrors$.failedExecuteUserDefinedFunctionError(QueryExecutionErrors.scala:198)\n",
      "\tat org.apache.spark.sql.errors.QueryExecutionErrors.failedExecuteUserDefinedFunctionError(QueryExecutionErrors.scala)\n",
      "\tat org.apache.spark.sql.catalyst.expressions.GeneratedClass$GeneratedIteratorForCodegenStage1.processNext(Unknown Source)\n",
      "\tat org.apache.spark.sql.execution.BufferedRowIterator.hasNext(BufferedRowIterator.java:43)\n",
      "\tat org.apache.spark.sql.execution.WholeStageCodegenEvaluatorFactory$WholeStageCodegenPartitionEvaluator$$anon$1.hasNext(WholeStageCodegenEvaluatorFactory.scala:43)\n",
      "\tat scala.collection.Iterator$$anon$10.hasNext(Iterator.scala:460)\n",
      "\tat org.apache.spark.ContextAwareIterator.hasNext(ContextAwareIterator.scala:39)\n",
      "\tat scala.collection.Iterator$$anon$10.hasNext(Iterator.scala:460)\n",
      "\tat scala.collection.Iterator$$anon$10.hasNext(Iterator.scala:460)\n",
      "\tat scala.collection.Iterator$GroupedIterator.fill(Iterator.scala:1211)\n",
      "\tat scala.collection.Iterator$GroupedIterator.hasNext(Iterator.scala:1217)\n",
      "\tat scala.collection.Iterator$$anon$10.hasNext(Iterator.scala:460)\n",
      "\tat scala.collection.Iterator.foreach(Iterator.scala:943)\n",
      "\tat scala.collection.Iterator.foreach$(Iterator.scala:943)\n",
      "\tat scala.collection.AbstractIterator.foreach(Iterator.scala:1431)\n",
      "\tat org.apache.spark.api.python.PythonRDD$.writeIteratorToStream(PythonRDD.scala:322)\n",
      "\tat org.apache.spark.sql.execution.python.BasePythonUDFRunner$PythonUDFWriterThread.writeIteratorToStream(PythonUDFRunner.scala:58)\n",
      "\tat org.apache.spark.api.python.BasePythonRunner$WriterThread.$anonfun$run$1(PythonRunner.scala:451)\n",
      "\tat org.apache.spark.util.Utils$.logUncaughtExceptions(Utils.scala:1928)\n",
      "\tat org.apache.spark.api.python.BasePythonRunner$WriterThread.run(PythonRunner.scala:282)\n",
      "Caused by: java.lang.NullPointerException\n",
      "\tat org.apache.spark.ml.feature.Tokenizer.$anonfun$createTransformFunc$1(Tokenizer.scala:40)\n",
      "\t... 18 more\n",
      "\n",
      "\n",
      "\tat org.apache.spark.streaming.api.python.TransformFunction.callPythonTransformFunction(PythonDStream.scala:95)\n",
      "\tat org.apache.spark.streaming.api.python.TransformFunction.apply(PythonDStream.scala:78)\n",
      "\tat org.apache.spark.streaming.api.python.PythonDStream$.$anonfun$callForeachRDD$1(PythonDStream.scala:179)\n",
      "\tat org.apache.spark.streaming.api.python.PythonDStream$.$anonfun$callForeachRDD$1$adapted(PythonDStream.scala:179)\n",
      "\tat org.apache.spark.streaming.dstream.ForEachDStream.$anonfun$generateJob$2(ForEachDStream.scala:51)\n",
      "\tat scala.runtime.java8.JFunction0$mcV$sp.apply(JFunction0$mcV$sp.java:23)\n",
      "\tat org.apache.spark.streaming.dstream.DStream.createRDDWithLocalProperties(DStream.scala:417)\n",
      "\tat org.apache.spark.streaming.dstream.ForEachDStream.$anonfun$generateJob$1(ForEachDStream.scala:51)\n",
      "\tat scala.runtime.java8.JFunction0$mcV$sp.apply(JFunction0$mcV$sp.java:23)\n",
      "\tat scala.util.Try$.apply(Try.scala:213)\n",
      "\tat org.apache.spark.streaming.scheduler.Job.run(Job.scala:39)\n",
      "\tat org.apache.spark.streaming.scheduler.JobScheduler$JobHandler.$anonfun$run$1(JobScheduler.scala:256)\n",
      "\tat scala.runtime.java8.JFunction0$mcV$sp.apply(JFunction0$mcV$sp.java:23)\n",
      "\tat scala.util.DynamicVariable.withValue(DynamicVariable.scala:62)\n",
      "\tat org.apache.spark.streaming.scheduler.JobScheduler$JobHandler.run(JobScheduler.scala:256)\n",
      "\tat java.util.concurrent.ThreadPoolExecutor.runWorker(ThreadPoolExecutor.java:1149)\n",
      "\tat java.util.concurrent.ThreadPoolExecutor$Worker.run(ThreadPoolExecutor.java:624)\n",
      "\tat java.lang.Thread.run(Thread.java:750)\n",
      "Exception in thread Thread-8:\n",
      "Traceback (most recent call last):\n",
      "  File \"/Users/xiaodi/anaconda3/lib/python3.11/threading.py\", line 1038, in _bootstrap_inner\n",
      "    self.run()\n",
      "  File \"/var/folders/cz/pmt5rhc96x1dr6fqpqr44bmr0000gn/T/ipykernel_33325/265281298.py\", line 11, in run\n",
      "  File \"/Users/xiaodi/anaconda3/spark/spark-3.5.1-bin-hadoop3/python/pyspark/streaming/context.py\", line 239, in awaitTermination\n",
      "    self._jssc.awaitTermination()\n",
      "  File \"/Users/xiaodi/anaconda3/spark/spark-3.5.1-bin-hadoop3/python/lib/py4j-0.10.9.7-src.zip/py4j/java_gateway.py\", line 1322, in __call__\n",
      "  File \"/Users/xiaodi/anaconda3/spark/spark-3.5.1-bin-hadoop3/python/pyspark/errors/exceptions/captured.py\", line 179, in deco\n",
      "    return f(*a, **kw)\n",
      "           ^^^^^^^^^^^\n",
      "  File \"/Users/xiaodi/anaconda3/spark/spark-3.5.1-bin-hadoop3/python/lib/py4j-0.10.9.7-src.zip/py4j/protocol.py\", line 326, in get_return_value\n",
      "py4j.protocol.Py4JJavaError: An error occurred while calling o47.awaitTermination.\n",
      ": org.apache.spark.SparkException: An exception was raised by Python:\n",
      "Traceback (most recent call last):\n",
      "  File \"/Users/xiaodi/anaconda3/spark/spark-3.5.1-bin-hadoop3/python/pyspark/streaming/util.py\", line 71, in call\n",
      "    r = self.func(t, *rdds)\n",
      "        ^^^^^^^^^^^^^^^^^^^\n",
      "  File \"/var/folders/cz/pmt5rhc96x1dr6fqpqr44bmr0000gn/T/ipykernel_33325/3480282205.py\", line 66, in process\n",
      "    df_result.show(n=20)\n",
      "  File \"/Users/xiaodi/anaconda3/spark/spark-3.5.1-bin-hadoop3/python/pyspark/sql/dataframe.py\", line 945, in show\n",
      "    print(self._show_string(n, truncate, vertical))\n",
      "          ^^^^^^^^^^^^^^^^^^^^^^^^^^^^^^^^^^^^^^^^\n",
      "  File \"/Users/xiaodi/anaconda3/spark/spark-3.5.1-bin-hadoop3/python/pyspark/sql/dataframe.py\", line 963, in _show_string\n",
      "    return self._jdf.showString(n, 20, vertical)\n",
      "           ^^^^^^^^^^^^^^^^^^^^^^^^^^^^^^^^^^^^^\n",
      "  File \"/Users/xiaodi/anaconda3/spark/spark-3.5.1-bin-hadoop3/python/lib/py4j-0.10.9.7-src.zip/py4j/java_gateway.py\", line 1322, in __call__\n",
      "    return_value = get_return_value(\n",
      "                   ^^^^^^^^^^^^^^^^^\n",
      "  File \"/Users/xiaodi/anaconda3/spark/spark-3.5.1-bin-hadoop3/python/pyspark/errors/exceptions/captured.py\", line 179, in deco\n",
      "    return f(*a, **kw)\n",
      "           ^^^^^^^^^^^\n",
      "  File \"/Users/xiaodi/anaconda3/spark/spark-3.5.1-bin-hadoop3/python/lib/py4j-0.10.9.7-src.zip/py4j/protocol.py\", line 326, in get_return_value\n",
      "    raise Py4JJavaError(\n",
      "py4j.protocol.Py4JJavaError: An error occurred while calling o13138.showString.\n",
      ": org.apache.spark.SparkException: Job aborted due to stage failure: Task 0 in stage 1187.0 failed 1 times, most recent failure: Lost task 0.0 in stage 1187.0 (TID 1339) (10.46.188.41 executor driver): org.apache.spark.SparkException: [FAILED_EXECUTE_UDF] Failed to execute user defined function (`Tokenizer$$Lambda$3589/364020804`: (string) => array<string>).\n",
      "\tat org.apache.spark.sql.errors.QueryExecutionErrors$.failedExecuteUserDefinedFunctionError(QueryExecutionErrors.scala:198)\n",
      "\tat org.apache.spark.sql.errors.QueryExecutionErrors.failedExecuteUserDefinedFunctionError(QueryExecutionErrors.scala)\n",
      "\tat org.apache.spark.sql.catalyst.expressions.GeneratedClass$GeneratedIteratorForCodegenStage1.processNext(Unknown Source)\n",
      "\tat org.apache.spark.sql.execution.BufferedRowIterator.hasNext(BufferedRowIterator.java:43)\n",
      "\tat org.apache.spark.sql.execution.WholeStageCodegenEvaluatorFactory$WholeStageCodegenPartitionEvaluator$$anon$1.hasNext(WholeStageCodegenEvaluatorFactory.scala:43)\n",
      "\tat scala.collection.Iterator$$anon$10.hasNext(Iterator.scala:460)\n",
      "\tat org.apache.spark.ContextAwareIterator.hasNext(ContextAwareIterator.scala:39)\n",
      "\tat scala.collection.Iterator$$anon$10.hasNext(Iterator.scala:460)\n",
      "\tat scala.collection.Iterator$$anon$10.hasNext(Iterator.scala:460)\n",
      "\tat scala.collection.Iterator$GroupedIterator.fill(Iterator.scala:1211)\n",
      "\tat scala.collection.Iterator$GroupedIterator.hasNext(Iterator.scala:1217)\n",
      "\tat scala.collection.Iterator$$anon$10.hasNext(Iterator.scala:460)\n",
      "\tat scala.collection.Iterator.foreach(Iterator.scala:943)\n",
      "\tat scala.collection.Iterator.foreach$(Iterator.scala:943)\n",
      "\tat scala.collection.AbstractIterator.foreach(Iterator.scala:1431)\n",
      "\tat org.apache.spark.api.python.PythonRDD$.writeIteratorToStream(PythonRDD.scala:322)\n",
      "\tat org.apache.spark.sql.execution.python.BasePythonUDFRunner$PythonUDFWriterThread.writeIteratorToStream(PythonUDFRunner.scala:58)\n",
      "\tat org.apache.spark.api.python.BasePythonRunner$WriterThread.$anonfun$run$1(PythonRunner.scala:451)\n",
      "\tat org.apache.spark.util.Utils$.logUncaughtExceptions(Utils.scala:1928)\n",
      "\tat org.apache.spark.api.python.BasePythonRunner$WriterThread.run(PythonRunner.scala:282)\n",
      "Caused by: java.lang.NullPointerException\n",
      "\tat org.apache.spark.ml.feature.Tokenizer.$anonfun$createTransformFunc$1(Tokenizer.scala:40)\n",
      "\t... 18 more\n",
      "\n",
      "Driver stacktrace:\n",
      "\tat org.apache.spark.scheduler.DAGScheduler.failJobAndIndependentStages(DAGScheduler.scala:2856)\n",
      "\tat org.apache.spark.scheduler.DAGScheduler.$anonfun$abortStage$2(DAGScheduler.scala:2792)\n",
      "\tat org.apache.spark.scheduler.DAGScheduler.$anonfun$abortStage$2$adapted(DAGScheduler.scala:2791)\n",
      "\tat scala.collection.mutable.ResizableArray.foreach(ResizableArray.scala:62)\n",
      "\tat scala.collection.mutable.ResizableArray.foreach$(ResizableArray.scala:55)\n",
      "\tat scala.collection.mutable.ArrayBuffer.foreach(ArrayBuffer.scala:49)\n",
      "\tat org.apache.spark.scheduler.DAGScheduler.abortStage(DAGScheduler.scala:2791)\n",
      "\tat org.apache.spark.scheduler.DAGScheduler.$anonfun$handleTaskSetFailed$1(DAGScheduler.scala:1247)\n",
      "\tat org.apache.spark.scheduler.DAGScheduler.$anonfun$handleTaskSetFailed$1$adapted(DAGScheduler.scala:1247)\n",
      "\tat scala.Option.foreach(Option.scala:407)\n",
      "\tat org.apache.spark.scheduler.DAGScheduler.handleTaskSetFailed(DAGScheduler.scala:1247)\n",
      "\tat org.apache.spark.scheduler.DAGSchedulerEventProcessLoop.doOnReceive(DAGScheduler.scala:3060)\n",
      "\tat org.apache.spark.scheduler.DAGSchedulerEventProcessLoop.onReceive(DAGScheduler.scala:2994)\n",
      "\tat org.apache.spark.scheduler.DAGSchedulerEventProcessLoop.onReceive(DAGScheduler.scala:2983)\n",
      "\tat org.apache.spark.util.EventLoop$$anon$1.run(EventLoop.scala:49)\n",
      "\tat org.apache.spark.scheduler.DAGScheduler.runJob(DAGScheduler.scala:989)\n",
      "\tat org.apache.spark.SparkContext.runJob(SparkContext.scala:2398)\n",
      "\tat org.apache.spark.SparkContext.runJob(SparkContext.scala:2419)\n",
      "\tat org.apache.spark.SparkContext.runJob(SparkContext.scala:2438)\n",
      "\tat org.apache.spark.sql.execution.SparkPlan.executeTake(SparkPlan.scala:530)\n",
      "\tat org.apache.spark.sql.execution.SparkPlan.executeTake(SparkPlan.scala:483)\n",
      "\tat org.apache.spark.sql.execution.CollectLimitExec.executeCollect(limit.scala:61)\n",
      "\tat org.apache.spark.sql.Dataset.collectFromPlan(Dataset.scala:4332)\n",
      "\tat org.apache.spark.sql.Dataset.$anonfun$head$1(Dataset.scala:3314)\n",
      "\tat org.apache.spark.sql.Dataset.$anonfun$withAction$2(Dataset.scala:4322)\n",
      "\tat org.apache.spark.sql.execution.QueryExecution$.withInternalError(QueryExecution.scala:546)\n",
      "\tat org.apache.spark.sql.Dataset.$anonfun$withAction$1(Dataset.scala:4320)\n",
      "\tat org.apache.spark.sql.execution.SQLExecution$.$anonfun$withNewExecutionId$6(SQLExecution.scala:125)\n",
      "\tat org.apache.spark.sql.execution.SQLExecution$.withSQLConfPropagated(SQLExecution.scala:201)\n",
      "\tat org.apache.spark.sql.execution.SQLExecution$.$anonfun$withNewExecutionId$1(SQLExecution.scala:108)\n",
      "\tat org.apache.spark.sql.SparkSession.withActive(SparkSession.scala:900)\n",
      "\tat org.apache.spark.sql.execution.SQLExecution$.withNewExecutionId(SQLExecution.scala:66)\n",
      "\tat org.apache.spark.sql.Dataset.withAction(Dataset.scala:4320)\n",
      "\tat org.apache.spark.sql.Dataset.head(Dataset.scala:3314)\n",
      "\tat org.apache.spark.sql.Dataset.take(Dataset.scala:3537)\n",
      "\tat org.apache.spark.sql.Dataset.getRows(Dataset.scala:280)\n",
      "\tat org.apache.spark.sql.Dataset.showString(Dataset.scala:315)\n",
      "\tat sun.reflect.GeneratedMethodAccessor181.invoke(Unknown Source)\n",
      "\tat sun.reflect.DelegatingMethodAccessorImpl.invoke(DelegatingMethodAccessorImpl.java:43)\n",
      "\tat java.lang.reflect.Method.invoke(Method.java:498)\n",
      "\tat py4j.reflection.MethodInvoker.invoke(MethodInvoker.java:244)\n",
      "\tat py4j.reflection.ReflectionEngine.invoke(ReflectionEngine.java:374)\n",
      "\tat py4j.Gateway.invoke(Gateway.java:282)\n",
      "\tat py4j.commands.AbstractCommand.invokeMethod(AbstractCommand.java:132)\n",
      "\tat py4j.commands.CallCommand.execute(CallCommand.java:79)\n",
      "\tat py4j.ClientServerConnection.sendCommand(ClientServerConnection.java:244)\n",
      "\tat py4j.CallbackClient.sendCommand(CallbackClient.java:384)\n",
      "\tat py4j.CallbackClient.sendCommand(CallbackClient.java:356)\n",
      "\tat py4j.reflection.PythonProxyHandler.invoke(PythonProxyHandler.java:106)\n",
      "\tat com.sun.proxy.$Proxy33.call(Unknown Source)\n",
      "\tat org.apache.spark.streaming.api.python.TransformFunction.callPythonTransformFunction(PythonDStream.scala:92)\n",
      "\tat org.apache.spark.streaming.api.python.TransformFunction.apply(PythonDStream.scala:78)\n",
      "\tat org.apache.spark.streaming.api.python.PythonDStream$.$anonfun$callForeachRDD$1(PythonDStream.scala:179)\n",
      "\tat org.apache.spark.streaming.api.python.PythonDStream$.$anonfun$callForeachRDD$1$adapted(PythonDStream.scala:179)\n",
      "\tat org.apache.spark.streaming.dstream.ForEachDStream.$anonfun$generateJob$2(ForEachDStream.scala:51)\n",
      "\tat scala.runtime.java8.JFunction0$mcV$sp.apply(JFunction0$mcV$sp.java:23)\n",
      "\tat org.apache.spark.streaming.dstream.DStream.createRDDWithLocalProperties(DStream.scala:417)\n",
      "\tat org.apache.spark.streaming.dstream.ForEachDStream.$anonfun$generateJob$1(ForEachDStream.scala:51)\n",
      "\tat scala.runtime.java8.JFunction0$mcV$sp.apply(JFunction0$mcV$sp.java:23)\n",
      "\tat scala.util.Try$.apply(Try.scala:213)\n",
      "\tat org.apache.spark.streaming.scheduler.Job.run(Job.scala:39)\n",
      "\tat org.apache.spark.streaming.scheduler.JobScheduler$JobHandler.$anonfun$run$1(JobScheduler.scala:256)\n",
      "\tat scala.runtime.java8.JFunction0$mcV$sp.apply(JFunction0$mcV$sp.java:23)\n",
      "\tat scala.util.DynamicVariable.withValue(DynamicVariable.scala:62)\n",
      "\tat org.apache.spark.streaming.scheduler.JobScheduler$JobHandler.run(JobScheduler.scala:256)\n",
      "\tat java.util.concurrent.ThreadPoolExecutor.runWorker(ThreadPoolExecutor.java:1149)\n",
      "\tat java.util.concurrent.ThreadPoolExecutor$Worker.run(ThreadPoolExecutor.java:624)\n",
      "\tat java.lang.Thread.run(Thread.java:750)\n",
      "Caused by: org.apache.spark.SparkException: [FAILED_EXECUTE_UDF] Failed to execute user defined function (`Tokenizer$$Lambda$3589/364020804`: (string) => array<string>).\n",
      "\tat org.apache.spark.sql.errors.QueryExecutionErrors$.failedExecuteUserDefinedFunctionError(QueryExecutionErrors.scala:198)\n",
      "\tat org.apache.spark.sql.errors.QueryExecutionErrors.failedExecuteUserDefinedFunctionError(QueryExecutionErrors.scala)\n",
      "\tat org.apache.spark.sql.catalyst.expressions.GeneratedClass$GeneratedIteratorForCodegenStage1.processNext(Unknown Source)\n",
      "\tat org.apache.spark.sql.execution.BufferedRowIterator.hasNext(BufferedRowIterator.java:43)\n",
      "\tat org.apache.spark.sql.execution.WholeStageCodegenEvaluatorFactory$WholeStageCodegenPartitionEvaluator$$anon$1.hasNext(WholeStageCodegenEvaluatorFactory.scala:43)\n",
      "\tat scala.collection.Iterator$$anon$10.hasNext(Iterator.scala:460)\n",
      "\tat org.apache.spark.ContextAwareIterator.hasNext(ContextAwareIterator.scala:39)\n",
      "\tat scala.collection.Iterator$$anon$10.hasNext(Iterator.scala:460)\n",
      "\tat scala.collection.Iterator$$anon$10.hasNext(Iterator.scala:460)\n",
      "\tat scala.collection.Iterator$GroupedIterator.fill(Iterator.scala:1211)\n",
      "\tat scala.collection.Iterator$GroupedIterator.hasNext(Iterator.scala:1217)\n",
      "\tat scala.collection.Iterator$$anon$10.hasNext(Iterator.scala:460)\n",
      "\tat scala.collection.Iterator.foreach(Iterator.scala:943)\n",
      "\tat scala.collection.Iterator.foreach$(Iterator.scala:943)\n",
      "\tat scala.collection.AbstractIterator.foreach(Iterator.scala:1431)\n",
      "\tat org.apache.spark.api.python.PythonRDD$.writeIteratorToStream(PythonRDD.scala:322)\n",
      "\tat org.apache.spark.sql.execution.python.BasePythonUDFRunner$PythonUDFWriterThread.writeIteratorToStream(PythonUDFRunner.scala:58)\n",
      "\tat org.apache.spark.api.python.BasePythonRunner$WriterThread.$anonfun$run$1(PythonRunner.scala:451)\n",
      "\tat org.apache.spark.util.Utils$.logUncaughtExceptions(Utils.scala:1928)\n",
      "\tat org.apache.spark.api.python.BasePythonRunner$WriterThread.run(PythonRunner.scala:282)\n",
      "Caused by: java.lang.NullPointerException\n",
      "\tat org.apache.spark.ml.feature.Tokenizer.$anonfun$createTransformFunc$1(Tokenizer.scala:40)\n",
      "\t... 18 more\n",
      "\n",
      "\n",
      "\tat org.apache.spark.streaming.api.python.TransformFunction.callPythonTransformFunction(PythonDStream.scala:95)\n",
      "\tat org.apache.spark.streaming.api.python.TransformFunction.apply(PythonDStream.scala:78)\n",
      "\tat org.apache.spark.streaming.api.python.PythonDStream$.$anonfun$callForeachRDD$1(PythonDStream.scala:179)\n",
      "\tat org.apache.spark.streaming.api.python.PythonDStream$.$anonfun$callForeachRDD$1$adapted(PythonDStream.scala:179)\n",
      "\tat org.apache.spark.streaming.dstream.ForEachDStream.$anonfun$generateJob$2(ForEachDStream.scala:51)\n",
      "\tat scala.runtime.java8.JFunction0$mcV$sp.apply(JFunction0$mcV$sp.java:23)\n",
      "\tat org.apache.spark.streaming.dstream.DStream.createRDDWithLocalProperties(DStream.scala:417)\n",
      "\tat org.apache.spark.streaming.dstream.ForEachDStream.$anonfun$generateJob$1(ForEachDStream.scala:51)\n",
      "\tat scala.runtime.java8.JFunction0$mcV$sp.apply(JFunction0$mcV$sp.java:23)\n",
      "\tat scala.util.Try$.apply(Try.scala:213)\n",
      "\tat org.apache.spark.streaming.scheduler.Job.run(Job.scala:39)\n",
      "\tat org.apache.spark.streaming.scheduler.JobScheduler$JobHandler.$anonfun$run$1(JobScheduler.scala:256)\n",
      "\tat scala.runtime.java8.JFunction0$mcV$sp.apply(JFunction0$mcV$sp.java:23)\n",
      "\tat scala.util.DynamicVariable.withValue(DynamicVariable.scala:62)\n",
      "\tat org.apache.spark.streaming.scheduler.JobScheduler$JobHandler.run(JobScheduler.scala:256)\n",
      "\tat java.util.concurrent.ThreadPoolExecutor.runWorker(ThreadPoolExecutor.java:1149)\n",
      "\tat java.util.concurrent.ThreadPoolExecutor$Worker.run(ThreadPoolExecutor.java:624)\n",
      "\tat java.lang.Thread.run(Thread.java:750)\n",
      "\n"
     ]
    },
    {
     "name": "stderr",
     "output_type": "stream",
     "text": [
      "24/05/25 20:30:35 WARN RandomBlockReplicationPolicy: Expecting 1 replicas with only 0 peer/s.\n",
      "24/05/25 20:30:35 WARN BlockManager: Block input-0-1716661835000 replicated to only 0 peer(s) instead of 1 peers\n",
      "                                                                                \r"
     ]
    },
    {
     "name": "stdout",
     "output_type": "stream",
     "text": [
      "========= 2024-05-25 20:30:40 =========\n",
      "+--------+--------------------+--------------------+-------+-----+----+-------------------+--------+--------------------+--------------------+---------+\n",
      "|     aid|               title|                 url| domain|votes|user|          posted_at|comments|        source_title|         source_text|frontpage|\n",
      "+--------+--------------------+--------------------+-------+-----+----+-------------------+--------+--------------------+--------------------+---------+\n",
      "|40474594|Developers are no...|https://0xff.nu/d...|0xff.nu|   21|hxii|2024-05-25 12:30:12|      13|Developers aren't...|Developers aren't...|     true|\n",
      "+--------+--------------------+--------------------+-------+-----+----+-------------------+--------+--------------------+--------------------+---------+\n",
      "\n"
     ]
    },
    {
     "name": "stderr",
     "output_type": "stream",
     "text": [
      "24/05/25 20:30:40 WARN DAGScheduler: Broadcasting large task binary with size 1407.9 KiB\n"
     ]
    },
    {
     "name": "stdout",
     "output_type": "stream",
     "text": [
      "+--------+--------------------+--------------------+-------+-----+----+-------------------+--------+--------------------+--------------------+---------+-----------+--------------------+--------------------+--------------------+--------------------+------------+------------+--------------------+-----+--------------------+--------------------+----------+--------------------+\n",
      "|     aid|               title|                 url| domain|votes|user|          posted_at|comments|        source_title|         source_text|frontpage|text_length|               words|      filtered_words|         tf_features|      tfidf_features|domain_index|  domain_vec|            features|label|       rawPrediction|         probability|prediction|corrected_prediction|\n",
      "+--------+--------------------+--------------------+-------+-----+----+-------------------+--------+--------------------+--------------------+---------+-----------+--------------------+--------------------+--------------------+--------------------+------------+------------+--------------------+-----+--------------------+--------------------+----------+--------------------+\n",
      "|40474594|Developers are no...|https://0xff.nu/d...|0xff.nu|   21|hxii|2024-05-25 12:30:12|      13|Developers aren't...|Developers aren't...|     true|       3610|[developers, aren...|[developers, nerd...|(10000,[32,63,166...|(10000,[32,63,166...|      2119.0|(2119,[],[])|(12122,[32,63,166...|  1.0|[-1.4190509549880...|[0.05529961332079...|       1.0|                 0.0|\n",
      "+--------+--------------------+--------------------+-------+-----+----+-------------------+--------+--------------------+--------------------+---------+-----------+--------------------+--------------------+--------------------+--------------------+------------+------------+--------------------+-----+--------------------+--------------------+----------+--------------------+\n",
      "\n"
     ]
    },
    {
     "name": "stderr",
     "output_type": "stream",
     "text": [
      "24/05/25 20:30:41 WARN DAGScheduler: Broadcasting large task binary with size 1407.4 KiB\n",
      "[Stage 0:>                                                          (0 + 1) / 1]\r"
     ]
    }
   ],
   "source": [
    "ssc_t = StreamingThread(ssc)\n",
    "ssc_t.start()"
   ]
  },
  {
   "cell_type": "code",
   "execution_count": 9,
   "metadata": {
    "scrolled": false
   },
   "outputs": [
    {
     "name": "stdout",
     "output_type": "stream",
     "text": [
      "----- Stopping... this may take a few seconds -----\n"
     ]
    },
    {
     "name": "stderr",
     "output_type": "stream",
     "text": [
      "24/05/25 20:31:41 WARN SocketReceiver: Error receiving data\n",
      "java.net.SocketException: Socket closed\n",
      "\tat java.net.SocketInputStream.socketRead0(Native Method)\n",
      "\tat java.net.SocketInputStream.socketRead(SocketInputStream.java:116)\n",
      "\tat java.net.SocketInputStream.read(SocketInputStream.java:171)\n",
      "\tat java.net.SocketInputStream.read(SocketInputStream.java:141)\n",
      "\tat sun.nio.cs.StreamDecoder.readBytes(StreamDecoder.java:284)\n",
      "\tat sun.nio.cs.StreamDecoder.implRead(StreamDecoder.java:326)\n",
      "\tat sun.nio.cs.StreamDecoder.read(StreamDecoder.java:178)\n",
      "\tat java.io.InputStreamReader.read(InputStreamReader.java:184)\n",
      "\tat java.io.BufferedReader.fill(BufferedReader.java:161)\n",
      "\tat java.io.BufferedReader.readLine(BufferedReader.java:324)\n",
      "\tat java.io.BufferedReader.readLine(BufferedReader.java:389)\n",
      "\tat org.apache.spark.streaming.dstream.SocketReceiver$$anon$2.getNext(SocketInputDStream.scala:121)\n",
      "\tat org.apache.spark.streaming.dstream.SocketReceiver$$anon$2.getNext(SocketInputDStream.scala:119)\n",
      "\tat org.apache.spark.util.NextIterator.hasNext(NextIterator.scala:73)\n",
      "\tat org.apache.spark.streaming.dstream.SocketReceiver.receive(SocketInputDStream.scala:91)\n",
      "\tat org.apache.spark.streaming.dstream.SocketReceiver$$anon$1.run(SocketInputDStream.scala:72)\n",
      "24/05/25 20:31:41 ERROR ReceiverTracker: Deregistered receiver for stream 0: Stopped by driver\n",
      "24/05/25 20:31:41 WARN ReceiverSupervisorImpl: Restarting receiver with delay 2000 ms: Error receiving data\n",
      "java.net.SocketException: Socket closed\n",
      "\tat java.net.SocketInputStream.socketRead0(Native Method)\n",
      "\tat java.net.SocketInputStream.socketRead(SocketInputStream.java:116)\n",
      "\tat java.net.SocketInputStream.read(SocketInputStream.java:171)\n",
      "\tat java.net.SocketInputStream.read(SocketInputStream.java:141)\n",
      "\tat sun.nio.cs.StreamDecoder.readBytes(StreamDecoder.java:284)\n",
      "\tat sun.nio.cs.StreamDecoder.implRead(StreamDecoder.java:326)\n",
      "\tat sun.nio.cs.StreamDecoder.read(StreamDecoder.java:178)\n",
      "\tat java.io.InputStreamReader.read(InputStreamReader.java:184)\n",
      "\tat java.io.BufferedReader.fill(BufferedReader.java:161)\n",
      "\tat java.io.BufferedReader.readLine(BufferedReader.java:324)\n",
      "\tat java.io.BufferedReader.readLine(BufferedReader.java:389)\n",
      "\tat org.apache.spark.streaming.dstream.SocketReceiver$$anon$2.getNext(SocketInputDStream.scala:121)\n",
      "\tat org.apache.spark.streaming.dstream.SocketReceiver$$anon$2.getNext(SocketInputDStream.scala:119)\n",
      "\tat org.apache.spark.util.NextIterator.hasNext(NextIterator.scala:73)\n",
      "\tat org.apache.spark.streaming.dstream.SocketReceiver.receive(SocketInputDStream.scala:91)\n",
      "\tat org.apache.spark.streaming.dstream.SocketReceiver$$anon$1.run(SocketInputDStream.scala:72)\n",
      "24/05/25 20:31:41 WARN ReceiverSupervisorImpl: Receiver has been stopped\n",
      "Exception in thread \"receiver-supervisor-future-0\" java.lang.Error: java.lang.InterruptedException: sleep interrupted\n",
      "\tat java.util.concurrent.ThreadPoolExecutor.runWorker(ThreadPoolExecutor.java:1155)\n",
      "\tat java.util.concurrent.ThreadPoolExecutor$Worker.run(ThreadPoolExecutor.java:624)\n",
      "\tat java.lang.Thread.run(Thread.java:750)\n",
      "Caused by: java.lang.InterruptedException: sleep interrupted\n",
      "\tat java.lang.Thread.sleep(Native Method)\n",
      "\tat org.apache.spark.streaming.receiver.ReceiverSupervisor.$anonfun$restartReceiver$1(ReceiverSupervisor.scala:196)\n",
      "\tat scala.runtime.java8.JFunction0$mcV$sp.apply(JFunction0$mcV$sp.java:23)\n",
      "\tat scala.concurrent.Future$.$anonfun$apply$1(Future.scala:659)\n",
      "\tat scala.util.Success.$anonfun$map$1(Try.scala:255)\n",
      "\tat scala.util.Success.map(Try.scala:213)\n",
      "\tat scala.concurrent.Future.$anonfun$map$1(Future.scala:292)\n",
      "\tat scala.concurrent.impl.Promise.liftedTree1$1(Promise.scala:33)\n",
      "\tat scala.concurrent.impl.Promise.$anonfun$transform$1(Promise.scala:33)\n",
      "\tat scala.concurrent.impl.CallbackRunnable.run(Promise.scala:64)\n",
      "\tat java.util.concurrent.ThreadPoolExecutor.runWorker(ThreadPoolExecutor.java:1149)\n",
      "\t... 2 more\n"
     ]
    }
   ],
   "source": [
    "ssc_t.stop()"
   ]
  },
  {
   "cell_type": "code",
   "execution_count": 11,
   "metadata": {},
   "outputs": [
    {
     "name": "stdout",
     "output_type": "stream",
     "text": [
      "+--------+--------------------+--------------------+--------------------+-----+---------------+-------------------+--------+---------+--------------------+-------------+\n",
      "|     aid|               title|                 url|              domain|votes|           user|          posted_at|comments|frontpage|corrected_prediction|frontpage_num|\n",
      "+--------+--------------------+--------------------+--------------------+-----+---------------+-------------------+--------+---------+--------------------+-------------+\n",
      "|40474069|Triathlon Forum: ...|https://forum.slo...|      slowtwitch.com|    1|           wslh|2024-05-25 10:32:16|       0|    false|                 1.0|          0.0|\n",
      "|40474234|NASA finds more i...|https://arstechni...|     arstechnica.com|    1|    andreiursan|2024-05-25 11:25:38|       0|    false|                 1.0|          0.0|\n",
      "|40473550|Big tech has dist...|https://www.thegu...|     theguardian.com|    3|       lastdong|2024-05-25 08:28:56|       0|     true|                 1.0|          1.0|\n",
      "|40474064|If You Wish to Un...|https://frappe.io...|           frappe.io|    2|   todsacerdoti|2024-05-25 10:31:01|       0|    false|                 1.0|          0.0|\n",
      "|40436106|World Economic Fo...|https://www.cnbc....|            cnbc.com|    2|     walterbell|2024-05-22 00:46:02|       0|    false|                 0.0|          0.0|\n",
      "|40473950|Boeing 737-9 MAX ...|https://www.bosto...|          boston.com|    3|        hosteur|2024-05-25 10:00:10|       0|    false|                 0.0|          0.0|\n",
      "|40473467|Post Office lobbi...|https://www.thegu...|     theguardian.com|    1|        chrisjj|2024-05-25 08:15:03|       0|    false|                 1.0|          0.0|\n",
      "|40474334|Teenage Engineeri...|https://www.ifixi...|          ifixit.com|    2|       follower|2024-05-25 11:47:37|       0|    false|                 1.0|          0.0|\n",
      "|40436469|The revolution th...|https://breakingd...| breakingdefense.com|    3|     walterbell|2024-05-22 01:38:33|       0|     true|                 1.0|          1.0|\n",
      "|40473240|This week in KDE:...|https://pointiest...|  pointieststick.com|    2| TangerineDream|2024-05-25 07:20:42|       0|    false|                 1.0|          0.0|\n",
      "|40473060|America's premier...|https://www.thegu...|     theguardian.com|    4|        defrost|2024-05-25 06:36:16|       2|     true|                 0.0|          1.0|\n",
      "|40473909|Last major Arabic...|https://www.thegu...|     theguardian.com|    4|YeGoblynQueenne|2024-05-25 09:48:52|       0|     true|                 0.0|          1.0|\n",
      "|40473130|Signal's Meredith...|https://techcrunc...|      techcrunch.com|   10|         doener|2024-05-25 06:51:13|       0|     true|                 0.0|          1.0|\n",
      "|40474549|Fauci aide trigge...|https://usrtk.org...|           usrtk.org|    1|      miguelazo|2024-05-25 12:23:50|       0|    false|                 1.0|          0.0|\n",
      "|40474048|California city p...|https://www.thegu...|     theguardian.com|    2|     passwordle|2024-05-25 10:28:24|       0|    false|                 1.0|          0.0|\n",
      "|40473089|Lauryn Hill's 'Mi...|https://apnews.co...|          apnews.com|    2|           geox|2024-05-25 06:42:09|       0|    false|                 1.0|          0.0|\n",
      "|40474451|Unsafe OpenAI exa...|https://cookbook....| cookbook.openai.com|    1|    upwardbound|2024-05-25 12:10:24|       0|    false|                 1.0|          0.0|\n",
      "|40473791|Uvalde Families A...|https://www.nytim...|         nytimes.com|    1|        docdeek|2024-05-25 09:21:31|       0|    false|                 1.0|          0.0|\n",
      "|40474202|Google just updat...|https://www.bbc.c...|             bbc.com|   68|       sonabinu|2024-05-25 11:14:26|      31|     true|                 0.0|          1.0|\n",
      "|40436301|ChatGPT: Prompt I...|https://twitter.c...|twitter.com/wunde...|    3| wendythehacker|2024-05-22 01:14:29|       0|    false|                 1.0|          0.0|\n",
      "|40474235|The potential of ...|https://www.europ...|           europa.eu|    1|          kimmk|2024-05-25 11:25:43|       0|    false|                 1.0|          0.0|\n",
      "|40474557|Kombucha-associat...|https://journals....|            plos.org|   12|      bookofjoe|2024-05-25 12:24:38|       0|     true|                 1.0|          1.0|\n",
      "|40473799|Armed highway thi...|https://news.sky....|             sky.com|    1|  austinallegro|2024-05-25 09:23:08|       0|    false|                 1.0|          0.0|\n",
      "|40473012|MPs urge under-16...|https://www.thegu...|     theguardian.com|    3|         kieloo|2024-05-25 06:23:19|       0|    false|                 0.0|          0.0|\n",
      "|40436523|U.S. Military Las...|https://www.twz.c...|             twz.com|    2|         jdmark|2024-05-22 01:46:51|       0|    false|                 0.0|          0.0|\n",
      "|40436499|Middle Palaeolith...|https://www.scien...|   sciencedirect.com|    1|           rntn|2024-05-22 01:43:53|       0|    false|                 0.0|          0.0|\n",
      "|40436326|Digital Ocean App...|https://www.digit...|    digitalocean.com|    2|           nikz|2024-05-22 01:18:55|       0|    false|                 0.0|          0.0|\n",
      "|40474351|Apple elaborates ...|https://9to5mac.c...|         9to5mac.com|    1|      f_allwein|2024-05-25 11:50:45|       0|    false|                 1.0|          0.0|\n",
      "|40474505|System Settings g...|https://www.macru...|       macrumors.com|    1|         doener|2024-05-25 12:17:46|       0|    false|                 1.0|          0.0|\n",
      "|40473855|Interior design c...|https://algedra.a...|          algedra.ae|    1|    ameliaalana|2024-05-25 09:37:55|       0|    false|                 1.0|          0.0|\n",
      "|40436268|Humane Explores P...|https://www.bloom...|       bloomberg.com|    4|        marc__1|2024-05-22 01:08:39|       0|     true|                 1.0|          1.0|\n",
      "|40474535|OpenAI: Non-dispa...|https://twitter.c...|twitter.com/jacob...|    1|         doener|2024-05-25 12:21:13|       0|    false|                 1.0|          0.0|\n",
      "|40436134|The Unpunished: H...|https://www.nytim...|         nytimes.com|    2|      etc-hosts|2024-05-22 00:49:52|       0|    false|                 0.0|          0.0|\n",
      "|40473531|Elon Musk slams M...|https://www.pguru...|          pgurus.com|    1|         taubek|2024-05-25 08:24:58|       0|    false|                 1.0|          0.0|\n",
      "|40474517|The day Putin cri...|https://not-enter...|not-entertainment...|    1|         microt|2024-05-25 12:18:57|       0|    false|                 1.0|          0.0|\n",
      "|40436139|So-called 'SMART ...|https://psyche.co...|           psyche.co|    1|       herbertl|2024-05-22 00:50:29|       0|    false|                 0.0|          0.0|\n",
      "|40473063|Will Google Have ...|https://www.busin...| businessinsider.com|    5|       ulrischa|2024-05-25 06:36:51|       0|     true|                 0.0|          1.0|\n",
      "|40474180|It's cheaper to b...|https://twitter.c...|twitter.com/billf...|    7|         doener|2024-05-25 11:01:20|       4|     true|                 0.0|          1.0|\n",
      "|40436285|China Is Winning ...|https://www.wsj.c...|             wsj.com|    4|       jseliger|2024-05-22 01:12:01|       0|     true|                 1.0|          1.0|\n",
      "|40474545|How we crafted a ...|https://www.craft...|            craft.do|    2|          gklka|2024-05-25 12:23:09|       0|    false|                 1.0|          0.0|\n",
      "|40473381|Tail Recursion El...|http://neopythoni...|neopythonic.blogs...|    1|       mpweiher|2024-05-25 07:54:10|       0|    false|                 1.0|          0.0|\n",
      "|40436357|OpenAI just gave ...|https://www.theat...|     theatlantic.com|    8|       lolinder|2024-05-22 01:23:20|       4|     true|                 1.0|          1.0|\n",
      "|40436255|Perplexity launch...|https://www.youtu...|         youtube.com|    4|   shreyarajpal|2024-05-22 01:07:05|       0|     true|                 1.0|          1.0|\n",
      "|40474049|Google once again...|https://www.genig...|       genigears.com|    5|      zerohedge|2024-05-25 10:28:57|       2|    false|                 0.0|          0.0|\n",
      "|40436293|A.I.'S Black Boxe...|https://www.nytim...|         nytimes.com|    1|       nikikiki|2024-05-22 01:13:40|       0|    false|                 0.0|          0.0|\n",
      "|40474516|The deskilling of...|https://www.baldu...| baldurbjarnason.com|   29|         loop22|2024-05-25 12:18:53|       9|     true|                 0.0|          1.0|\n",
      "|40436230|Why Were Older Po...|https://melodicam...|melodicambient.su...|    1|         davikr|2024-05-22 01:04:04|       0|    false|                 0.0|          0.0|\n",
      "|40436195|85% of Neuralink ...|https://www.popsc...|          popsci.com|   35|      jrflowers|2024-05-22 00:59:14|      29|     true|                 1.0|          1.0|\n",
      "|40473454|Male birth contro...|https://newatlas....|        newatlas.com|   34|           geox|2024-05-25 08:11:11|      10|     true|                 0.0|          1.0|\n",
      "|40474023|Front Crawl Swimm...|https://www.scien...|   sciencedirect.com|    1|           wslh|2024-05-25 10:24:02|       0|    false|                 1.0|          0.0|\n",
      "+--------+--------------------+--------------------+--------------------+-----+---------------+-------------------+--------+---------+--------------------+-------------+\n",
      "only showing top 50 rows\n",
      "\n"
     ]
    },
    {
     "name": "stdout",
     "output_type": "stream",
     "text": [
      "Correct Predictions: 38\n",
      "Total Predictions: 138\n",
      "Accuracy: 0.2753623188405797\n"
     ]
    }
   ],
   "source": [
    "# Load saved predictions\n",
    "predictions_df = spark.read.option(\"header\", \"true\").csv(\"/Users/xiaodi/anaconda3/spark/notebooks/predictions\")\n",
    "\n",
    "# Define a functions to convert numbers to boolen\n",
    "def bool_to_double(value):\n",
    "    return 1.0 if value == \"true\" else 0.0 if value == \"false\" else None\n",
    "\n",
    "bool_to_double_udf = udf(bool_to_double, DoubleType())\n",
    "predictions_df = predictions_df.withColumn(\"frontpage_num\", bool_to_double_udf(predictions_df[\"frontpage\"]))\n",
    "\n",
    "# Check for the lines\n",
    "predictions_df.show(n=50)\n",
    "\n",
    "# Compute the correct predictions and accuracy\n",
    "correct_predictions = predictions_df.filter(predictions_df[\"frontpage_num\"] == predictions_df[\"corrected_prediction\"]).count()\n",
    "total_predictions = predictions_df.count()\n",
    "\n",
    "accuracy = correct_predictions / total_predictions\n",
    "\n",
    "print(f\"Correct Predictions: {correct_predictions}\")\n",
    "print(f\"Total Predictions: {total_predictions}\")\n",
    "print(f\"Accuracy: {accuracy}\")\n"
   ]
  },
  {
   "cell_type": "code",
   "execution_count": null,
   "metadata": {},
   "outputs": [],
   "source": []
  }
 ],
 "metadata": {
  "kernelspec": {
   "display_name": "Python 3 (ipykernel)",
   "language": "python",
   "name": "python3"
  },
  "language_info": {
   "codemirror_mode": {
    "name": "ipython",
    "version": 3
   },
   "file_extension": ".py",
   "mimetype": "text/x-python",
   "name": "python",
   "nbconvert_exporter": "python",
   "pygments_lexer": "ipython3",
   "version": "3.11.4"
  },
  "toc": {
   "base_numbering": 1,
   "nav_menu": {},
   "number_sections": true,
   "sideBar": true,
   "skip_h1_title": false,
   "title_cell": "Table of Contents",
   "title_sidebar": "Contents",
   "toc_cell": false,
   "toc_position": {},
   "toc_section_display": true,
   "toc_window_display": false
  }
 },
 "nbformat": 4,
 "nbformat_minor": 2
}
