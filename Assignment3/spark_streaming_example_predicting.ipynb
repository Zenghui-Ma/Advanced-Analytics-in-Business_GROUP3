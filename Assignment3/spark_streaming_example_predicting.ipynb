{
 "cells": [
  {
   "cell_type": "code",
   "execution_count": 1,
   "metadata": {},
   "outputs": [],
   "source": [
    "import threading\n",
    "\n",
    "# Helper thread to avoid the Spark StreamingContext from blocking Jupyter\n",
    "        \n",
    "class StreamingThread(threading.Thread):\n",
    "    def __init__(self, ssc):\n",
    "        super().__init__()\n",
    "        self.ssc = ssc\n",
    "    def run(self):\n",
    "        self.ssc.start()\n",
    "        self.ssc.awaitTermination()\n",
    "    def stop(self):\n",
    "        print('----- Stopping... this may take a few seconds -----')\n",
    "        self.ssc.stop(stopSparkContext=False, stopGraceFully=True)"
   ]
  },
  {
   "cell_type": "code",
   "execution_count": 2,
   "metadata": {
    "scrolled": true
   },
   "outputs": [
    {
     "data": {
      "text/html": [
       "\n",
       "        <div>\n",
       "            <p><b>SparkContext</b></p>\n",
       "\n",
       "            <p><a href=\"http://192.168.0.102:4042\">Spark UI</a></p>\n",
       "\n",
       "            <dl>\n",
       "              <dt>Version</dt>\n",
       "                <dd><code>v3.5.1</code></dd>\n",
       "              <dt>Master</dt>\n",
       "                <dd><code>local[2]</code></dd>\n",
       "              <dt>AppName</dt>\n",
       "                <dd><code>PySparkShell</code></dd>\n",
       "            </dl>\n",
       "        </div>\n",
       "        "
      ],
      "text/plain": [
       "<SparkContext master=local[2] appName=PySparkShell>"
      ]
     },
     "execution_count": 2,
     "metadata": {},
     "output_type": "execute_result"
    }
   ],
   "source": [
    "sc"
   ]
  },
  {
   "cell_type": "code",
   "execution_count": 3,
   "metadata": {},
   "outputs": [
    {
     "data": {
      "text/html": [
       "\n",
       "            <div>\n",
       "                <p><b>SparkSession - hive</b></p>\n",
       "                \n",
       "        <div>\n",
       "            <p><b>SparkContext</b></p>\n",
       "\n",
       "            <p><a href=\"http://192.168.0.102:4042\">Spark UI</a></p>\n",
       "\n",
       "            <dl>\n",
       "              <dt>Version</dt>\n",
       "                <dd><code>v3.5.1</code></dd>\n",
       "              <dt>Master</dt>\n",
       "                <dd><code>local[2]</code></dd>\n",
       "              <dt>AppName</dt>\n",
       "                <dd><code>PySparkShell</code></dd>\n",
       "            </dl>\n",
       "        </div>\n",
       "        \n",
       "            </div>\n",
       "        "
      ],
      "text/plain": [
       "<pyspark.sql.session.SparkSession at 0x10642ae90>"
      ]
     },
     "execution_count": 3,
     "metadata": {},
     "output_type": "execute_result"
    }
   ],
   "source": [
    "spark"
   ]
  },
  {
   "cell_type": "code",
   "execution_count": 4,
   "metadata": {},
   "outputs": [],
   "source": [
    "import random\n",
    "from pyspark.streaming import StreamingContext\n",
    "from pyspark.sql import Row\n",
    "from pyspark.sql.functions import udf, struct, array, col, lit\n",
    "from pyspark.sql.types import StringType"
   ]
  },
  {
   "cell_type": "code",
   "execution_count": 5,
   "metadata": {},
   "outputs": [],
   "source": [
    "globals()['models_loaded'] = False\n",
    "globals()['my_model'] = None\n",
    "\n",
    "# Toy predict function that returns a random probability. Normally you'd use your loaded globals()['my_model'] here\n",
    "def predict(df):\n",
    "    return random.random()\n",
    "\n",
    "predict_udf = udf(predict, StringType())\n",
    "\n",
    "def process(time, rdd):\n",
    "    if rdd.isEmpty():\n",
    "        return\n",
    "    \n",
    "    print(\"========= %s =========\" % str(time))\n",
    "    \n",
    "    # Convert to data frame\n",
    "    df = spark.read.json(rdd)\n",
    "    df.show()\n",
    "    \n",
    "    # Utilize our predict function\n",
    "    df_withpreds = df.withColumn(\"pred\", predict_udf(\n",
    "        struct([df[x] for x in df.columns])\n",
    "    ))\n",
    "    df_withpreds.show()\n",
    "    \n",
    "    # Normally, you wouldn't use a UDF (User Defined Function) Python function to predict as we did here (you can)\n",
    "    # but an MLlib model you've built and saved with Spark\n",
    "    # In this case, you need to prevent loading your model in every call to \"process\" as follows:\n",
    "    \n",
    "    # Load in the model if not yet loaded:\n",
    "    if not globals()['models_loaded']:\n",
    "        # load in your models here\n",
    "        globals()['my_model'] = '***' # Replace '***' with e.g.:    [...].load('my_logistic_regression')\n",
    "        globals()['models_loaded'] = True\n",
    "        \n",
    "    # And then predict using the loaded model (uncomment below):\n",
    "    \n",
    "    # df_result = globals()['my_model'].transform(df)\n",
    "    # df_result.show()"
   ]
  },
  {
   "cell_type": "code",
   "execution_count": 6,
   "metadata": {},
   "outputs": [
    {
     "name": "stderr",
     "output_type": "stream",
     "text": [
      "/Users/xiaodi/anaconda3/spark/spark-3.5.1-bin-hadoop3/python/pyspark/streaming/context.py:72: FutureWarning: DStream is deprecated as of Spark 3.4.0. Migrate to Structured Streaming.\n",
      "  warnings.warn(\n"
     ]
    }
   ],
   "source": [
    "ssc = StreamingContext(sc, 10)"
   ]
  },
  {
   "cell_type": "code",
   "execution_count": 7,
   "metadata": {
    "scrolled": true
   },
   "outputs": [],
   "source": [
    "lines = ssc.socketTextStream(\"seppe.net\", 7778)\n",
    "lines.foreachRDD(process)"
   ]
  },
  {
   "cell_type": "code",
   "execution_count": 8,
   "metadata": {
    "scrolled": false
   },
   "outputs": [
    {
     "name": "stderr",
     "output_type": "stream",
     "text": [
      "24/04/09 14:30:38 WARN RandomBlockReplicationPolicy: Expecting 1 replicas with only 0 peer/s.\n",
      "24/04/09 14:30:38 WARN BlockManager: Block input-0-1712665838600 replicated to only 0 peer(s) instead of 1 peers\n",
      "                                                                                \r"
     ]
    },
    {
     "name": "stdout",
     "output_type": "stream",
     "text": [
      "========= 2024-04-09 14:30:40 =========\n"
     ]
    },
    {
     "name": "stderr",
     "output_type": "stream",
     "text": [
      "24/04/09 14:30:41 WARN RandomBlockReplicationPolicy: Expecting 1 replicas with only 0 peer/s.\n",
      "24/04/09 14:30:41 WARN BlockManager: Block input-0-1712665840800 replicated to only 0 peer(s) instead of 1 peers\n",
      "                                                                                \r"
     ]
    },
    {
     "name": "stdout",
     "output_type": "stream",
     "text": [
      "+--------+--------+---------+---------+-------------------+--------------------+------------+--------------------+--------------------+--------+-----+\n",
      "|     aid|comments|   domain|frontpage|          posted_at|         source_text|source_title|               title|                 url|    user|votes|\n",
      "+--------+--------+---------+---------+-------------------+--------------------+------------+--------------------+--------------------+--------+-----+\n",
      "|39975168|       0|vaxry.net|     true|2024-04-09 00:34:16|Vaxry's Blog\\n\\nV...|Vaxry's Blog|Freedesktop/RedHa...|https://blog.vaxr...|jamesp33|    7|\n",
      "+--------+--------+---------+---------+-------------------+--------------------+------------+--------------------+--------------------+--------+-----+\n",
      "\n"
     ]
    },
    {
     "name": "stderr",
     "output_type": "stream",
     "text": [
      "24/04/09 14:30:43 WARN RandomBlockReplicationPolicy: Expecting 1 replicas with only 0 peer/s.\n",
      "24/04/09 14:30:43 WARN BlockManager: Block input-0-1712665842800 replicated to only 0 peer(s) instead of 1 peers\n",
      "                                                                                \r"
     ]
    },
    {
     "name": "stdout",
     "output_type": "stream",
     "text": [
      "+--------+--------+---------+---------+-------------------+--------------------+------------+--------------------+--------------------+--------+-----+-------------------+\n",
      "|     aid|comments|   domain|frontpage|          posted_at|         source_text|source_title|               title|                 url|    user|votes|               pred|\n",
      "+--------+--------+---------+---------+-------------------+--------------------+------------+--------------------+--------------------+--------+-----+-------------------+\n",
      "|39975168|       0|vaxry.net|     true|2024-04-09 00:34:16|Vaxry's Blog\\n\\nV...|Vaxry's Blog|Freedesktop/RedHa...|https://blog.vaxr...|jamesp33|    7|0.23992257892086788|\n",
      "+--------+--------+---------+---------+-------------------+--------------------+------------+--------------------+--------------------+--------+-----+-------------------+\n",
      "\n"
     ]
    },
    {
     "name": "stderr",
     "output_type": "stream",
     "text": [
      "24/04/09 14:30:46 WARN RandomBlockReplicationPolicy: Expecting 1 replicas with only 0 peer/s.\n",
      "24/04/09 14:30:46 WARN BlockManager: Block input-0-1712665845800 replicated to only 0 peer(s) instead of 1 peers\n",
      "24/04/09 14:30:50 WARN RandomBlockReplicationPolicy: Expecting 1 replicas with only 0 peer/s.\n",
      "24/04/09 14:30:50 WARN BlockManager: Block input-0-1712665849800 replicated to only 0 peer(s) instead of 1 peers\n",
      "                                                                                \r"
     ]
    },
    {
     "name": "stdout",
     "output_type": "stream",
     "text": [
      "========= 2024-04-09 14:30:50 =========\n",
      "+--------+--------+------------------+---------+-------------------+--------------------+--------------------+--------------------+--------------------+--------+-----+\n",
      "|     aid|comments|            domain|frontpage|          posted_at|         source_text|        source_title|               title|                 url|    user|votes|\n",
      "+--------+--------+------------------+---------+-------------------+--------------------+--------------------+--------------------+--------------------+--------+-----+\n",
      "|39975182|       0|cosmosmagazine.com|    false|2024-04-09 00:37:23|Why human ancesto...|Why human ancesto...|Human ancestors v...|https://cosmosmag...|    geox|    2|\n",
      "|39975191|       0|        morphic.sh|    false|2024-04-09 00:39:32|Morphic\\n\\nMorphi...|             Morphic|Morphic: Open-sou...|https://www.morph...|mpereira|    1|\n",
      "|39975196|       0|        ollama.com|    false|2024-04-09 00:40:21|Embedding models ...|Embedding models ...|    Embedding Models|https://ollama.co...| ushakov|    1|\n",
      "+--------+--------+------------------+---------+-------------------+--------------------+--------------------+--------------------+--------------------+--------+-----+\n",
      "\n",
      "+--------+--------+------------------+---------+-------------------+--------------------+--------------------+--------------------+--------------------+--------+-----+------------------+\n",
      "|     aid|comments|            domain|frontpage|          posted_at|         source_text|        source_title|               title|                 url|    user|votes|              pred|\n",
      "+--------+--------+------------------+---------+-------------------+--------------------+--------------------+--------------------+--------------------+--------+-----+------------------+\n",
      "|39975182|       0|cosmosmagazine.com|    false|2024-04-09 00:37:23|Why human ancesto...|Why human ancesto...|Human ancestors v...|https://cosmosmag...|    geox|    2|0.3162261065044538|\n",
      "|39975191|       0|        morphic.sh|    false|2024-04-09 00:39:32|Morphic\\n\\nMorphi...|             Morphic|Morphic: Open-sou...|https://www.morph...|mpereira|    1| 0.698673897641844|\n",
      "|39975196|       0|        ollama.com|    false|2024-04-09 00:40:21|Embedding models ...|Embedding models ...|    Embedding Models|https://ollama.co...| ushakov|    1|0.8979079630871852|\n",
      "+--------+--------+------------------+---------+-------------------+--------------------+--------------------+--------------------+--------------------+--------+-----+------------------+\n",
      "\n"
     ]
    },
    {
     "name": "stderr",
     "output_type": "stream",
     "text": [
      "24/04/09 14:30:53 WARN RandomBlockReplicationPolicy: Expecting 1 replicas with only 0 peer/s.\n",
      "24/04/09 14:30:53 WARN BlockManager: Block input-0-1712665852800 replicated to only 0 peer(s) instead of 1 peers\n",
      "24/04/09 14:30:58 WARN RandomBlockReplicationPolicy: Expecting 1 replicas with only 0 peer/s.\n",
      "24/04/09 14:30:58 WARN BlockManager: Block input-0-1712665857800 replicated to only 0 peer(s) instead of 1 peers\n",
      "                                                                                \r"
     ]
    },
    {
     "name": "stdout",
     "output_type": "stream",
     "text": [
      "========= 2024-04-09 14:31:00 =========\n",
      "+--------+--------+--------------------+---------+-------------------+--------------------+--------------------+--------------------+--------------------+---------+-----+\n",
      "|     aid|comments|              domain|frontpage|          posted_at|         source_text|        source_title|               title|                 url|     user|votes|\n",
      "+--------+--------+--------------------+---------+-------------------+--------------------+--------------------+--------------------+--------------------+---------+-----+\n",
      "|39975228|       0|bleepingcomputer.com|    false|2024-04-09 00:45:29|Just a moment...\\...|    Just a moment...|Fake Facebook Mid...|https://www.bleep...|     cdme|    3|\n",
      "|39975230|       0|           axios.com|    false|2024-04-09 00:45:58|Just a moment...\\...|    Just a moment...|Meta will label A...|https://www.axios...|     cdme|    1|\n",
      "|39975232|       0|           nautil.us|    false|2024-04-09 00:46:17|The Paradox of th...|The Paradox of th...|The Paradox of th...|https://nautil.us...|bookofjoe|    1|\n",
      "+--------+--------+--------------------+---------+-------------------+--------------------+--------------------+--------------------+--------------------+---------+-----+\n",
      "\n",
      "+--------+--------+--------------------+---------+-------------------+--------------------+--------------------+--------------------+--------------------+---------+-----+-------------------+\n",
      "|     aid|comments|              domain|frontpage|          posted_at|         source_text|        source_title|               title|                 url|     user|votes|               pred|\n",
      "+--------+--------+--------------------+---------+-------------------+--------------------+--------------------+--------------------+--------------------+---------+-----+-------------------+\n",
      "|39975228|       0|bleepingcomputer.com|    false|2024-04-09 00:45:29|Just a moment...\\...|    Just a moment...|Fake Facebook Mid...|https://www.bleep...|     cdme|    3| 0.0776270184571165|\n",
      "|39975230|       0|           axios.com|    false|2024-04-09 00:45:58|Just a moment...\\...|    Just a moment...|Meta will label A...|https://www.axios...|     cdme|    1|0.13741628473307077|\n",
      "|39975232|       0|           nautil.us|    false|2024-04-09 00:46:17|The Paradox of th...|The Paradox of th...|The Paradox of th...|https://nautil.us...|bookofjoe|    1| 0.9700756079404712|\n",
      "+--------+--------+--------------------+---------+-------------------+--------------------+--------------------+--------------------+--------------------+---------+-----+-------------------+\n",
      "\n"
     ]
    },
    {
     "name": "stderr",
     "output_type": "stream",
     "text": [
      "24/04/09 14:31:02 WARN RandomBlockReplicationPolicy: Expecting 1 replicas with only 0 peer/s.\n",
      "24/04/09 14:31:02 WARN BlockManager: Block input-0-1712665862000 replicated to only 0 peer(s) instead of 1 peers\n"
     ]
    }
   ],
   "source": [
    "ssc_t = StreamingThread(ssc)\n",
    "ssc_t.start()"
   ]
  },
  {
   "cell_type": "code",
   "execution_count": 9,
   "metadata": {
    "scrolled": false
   },
   "outputs": [
    {
     "name": "stdout",
     "output_type": "stream",
     "text": [
      "----- Stopping... this may take a few seconds -----\n"
     ]
    },
    {
     "name": "stderr",
     "output_type": "stream",
     "text": [
      "24/04/09 14:31:03 WARN SocketReceiver: Error receiving data\n",
      "java.net.SocketException: Socket closed\n",
      "\tat java.net.SocketInputStream.socketRead0(Native Method)\n",
      "\tat java.net.SocketInputStream.socketRead(SocketInputStream.java:116)\n",
      "\tat java.net.SocketInputStream.read(SocketInputStream.java:171)\n",
      "\tat java.net.SocketInputStream.read(SocketInputStream.java:141)\n",
      "\tat sun.nio.cs.StreamDecoder.readBytes(StreamDecoder.java:284)\n",
      "\tat sun.nio.cs.StreamDecoder.implRead(StreamDecoder.java:326)\n",
      "\tat sun.nio.cs.StreamDecoder.read(StreamDecoder.java:178)\n",
      "\tat java.io.InputStreamReader.read(InputStreamReader.java:184)\n",
      "\tat java.io.BufferedReader.fill(BufferedReader.java:161)\n",
      "\tat java.io.BufferedReader.readLine(BufferedReader.java:324)\n",
      "\tat java.io.BufferedReader.readLine(BufferedReader.java:389)\n",
      "\tat org.apache.spark.streaming.dstream.SocketReceiver$$anon$2.getNext(SocketInputDStream.scala:121)\n",
      "\tat org.apache.spark.streaming.dstream.SocketReceiver$$anon$2.getNext(SocketInputDStream.scala:119)\n",
      "\tat org.apache.spark.util.NextIterator.hasNext(NextIterator.scala:73)\n",
      "\tat org.apache.spark.streaming.dstream.SocketReceiver.receive(SocketInputDStream.scala:91)\n",
      "\tat org.apache.spark.streaming.dstream.SocketReceiver$$anon$1.run(SocketInputDStream.scala:72)\n",
      "24/04/09 14:31:03 ERROR ReceiverTracker: Deregistered receiver for stream 0: Stopped by driver\n",
      "24/04/09 14:31:03 WARN ReceiverSupervisorImpl: Restarting receiver with delay 2000 ms: Error receiving data\n",
      "java.net.SocketException: Socket closed\n",
      "\tat java.net.SocketInputStream.socketRead0(Native Method)\n",
      "\tat java.net.SocketInputStream.socketRead(SocketInputStream.java:116)\n",
      "\tat java.net.SocketInputStream.read(SocketInputStream.java:171)\n",
      "\tat java.net.SocketInputStream.read(SocketInputStream.java:141)\n",
      "\tat sun.nio.cs.StreamDecoder.readBytes(StreamDecoder.java:284)\n",
      "\tat sun.nio.cs.StreamDecoder.implRead(StreamDecoder.java:326)\n",
      "\tat sun.nio.cs.StreamDecoder.read(StreamDecoder.java:178)\n",
      "\tat java.io.InputStreamReader.read(InputStreamReader.java:184)\n",
      "\tat java.io.BufferedReader.fill(BufferedReader.java:161)\n",
      "\tat java.io.BufferedReader.readLine(BufferedReader.java:324)\n",
      "\tat java.io.BufferedReader.readLine(BufferedReader.java:389)\n",
      "\tat org.apache.spark.streaming.dstream.SocketReceiver$$anon$2.getNext(SocketInputDStream.scala:121)\n",
      "\tat org.apache.spark.streaming.dstream.SocketReceiver$$anon$2.getNext(SocketInputDStream.scala:119)\n",
      "\tat org.apache.spark.util.NextIterator.hasNext(NextIterator.scala:73)\n",
      "\tat org.apache.spark.streaming.dstream.SocketReceiver.receive(SocketInputDStream.scala:91)\n",
      "\tat org.apache.spark.streaming.dstream.SocketReceiver$$anon$1.run(SocketInputDStream.scala:72)\n",
      "24/04/09 14:31:03 WARN ReceiverSupervisorImpl: Receiver has been stopped\n",
      "Exception in thread \"receiver-supervisor-future-0\" java.lang.Error: java.lang.InterruptedException: sleep interrupted\n",
      "\tat java.util.concurrent.ThreadPoolExecutor.runWorker(ThreadPoolExecutor.java:1155)\n",
      "\tat java.util.concurrent.ThreadPoolExecutor$Worker.run(ThreadPoolExecutor.java:624)\n",
      "\tat java.lang.Thread.run(Thread.java:750)\n",
      "Caused by: java.lang.InterruptedException: sleep interrupted\n",
      "\tat java.lang.Thread.sleep(Native Method)\n",
      "\tat org.apache.spark.streaming.receiver.ReceiverSupervisor.$anonfun$restartReceiver$1(ReceiverSupervisor.scala:196)\n",
      "\tat scala.runtime.java8.JFunction0$mcV$sp.apply(JFunction0$mcV$sp.java:23)\n",
      "\tat scala.concurrent.Future$.$anonfun$apply$1(Future.scala:659)\n",
      "\tat scala.util.Success.$anonfun$map$1(Try.scala:255)\n",
      "\tat scala.util.Success.map(Try.scala:213)\n",
      "\tat scala.concurrent.Future.$anonfun$map$1(Future.scala:292)\n",
      "\tat scala.concurrent.impl.Promise.liftedTree1$1(Promise.scala:33)\n",
      "\tat scala.concurrent.impl.Promise.$anonfun$transform$1(Promise.scala:33)\n",
      "\tat scala.concurrent.impl.CallbackRunnable.run(Promise.scala:64)\n",
      "\tat java.util.concurrent.ThreadPoolExecutor.runWorker(ThreadPoolExecutor.java:1149)\n",
      "\t... 2 more\n",
      "                                                                                \r"
     ]
    },
    {
     "name": "stdout",
     "output_type": "stream",
     "text": [
      "========= 2024-04-09 14:31:10 =========\n",
      "+--------+--------+------------+---------+-------------------+--------------------+--------------------+--------------------+--------------------+----+-----+\n",
      "|     aid|comments|      domain|frontpage|          posted_at|         source_text|        source_title|               title|                 url|user|votes|\n",
      "+--------+--------+------------+---------+-------------------+--------------------+--------------------+--------------------+--------------------+----+-----+\n",
      "|39975234|       0|mashable.com|     true|2024-04-09 00:46:23|X's AI chatbot Gr...|Elon Musk's X pus...|X's AI chatbot Gr...|https://mashable....|cdme|    3|\n",
      "+--------+--------+------------+---------+-------------------+--------------------+--------------------+--------------------+--------------------+----+-----+\n",
      "\n",
      "+--------+--------+------------+---------+-------------------+--------------------+--------------------+--------------------+--------------------+----+-----+------------------+\n",
      "|     aid|comments|      domain|frontpage|          posted_at|         source_text|        source_title|               title|                 url|user|votes|              pred|\n",
      "+--------+--------+------------+---------+-------------------+--------------------+--------------------+--------------------+--------------------+----+-----+------------------+\n",
      "|39975234|       0|mashable.com|     true|2024-04-09 00:46:23|X's AI chatbot Gr...|Elon Musk's X pus...|X's AI chatbot Gr...|https://mashable....|cdme|    3|0.6979730948601057|\n",
      "+--------+--------+------------+---------+-------------------+--------------------+--------------------+--------------------+--------------------+----+-----+------------------+\n",
      "\n"
     ]
    }
   ],
   "source": [
    "ssc_t.stop()"
   ]
  },
  {
   "cell_type": "code",
   "execution_count": null,
   "metadata": {},
   "outputs": [],
   "source": []
  }
 ],
 "metadata": {
  "kernelspec": {
   "display_name": "Python 3 (ipykernel)",
   "language": "python",
   "name": "python3"
  },
  "language_info": {
   "codemirror_mode": {
    "name": "ipython",
    "version": 3
   },
   "file_extension": ".py",
   "mimetype": "text/x-python",
   "name": "python",
   "nbconvert_exporter": "python",
   "pygments_lexer": "ipython3",
   "version": "3.11.4"
  },
  "toc": {
   "base_numbering": 1,
   "nav_menu": {},
   "number_sections": true,
   "sideBar": true,
   "skip_h1_title": false,
   "title_cell": "Table of Contents",
   "title_sidebar": "Contents",
   "toc_cell": false,
   "toc_position": {},
   "toc_section_display": true,
   "toc_window_display": false
  }
 },
 "nbformat": 4,
 "nbformat_minor": 2
}
